{
  "cells": [
    {
      "cell_type": "markdown",
      "metadata": {
        "id": "cLJM1OqOb9TG"
      },
      "source": [
        "## KAN (Kolmogorov Arnold Network) method\n",
        "\n",
        "1. Problem: Classification of Heart Disease using KAN appoach\n",
        "\n",
        "2. Research paper on KAN: Kolmogorov-Arnold Networks: https://arxiv.org/pdf/2404.19756\n",
        "\n",
        "3. You can access dataset from Kaggle: https://www.kaggle.com/competitions/heart-disease-uci/data\n",
        "\n",
        "4. Access 'imodelsx' scikit-learn library to explain, predict, and steer text models/data from here: https://pypi.org/project/imodelsx/\n",
        "\n",
        "5. Access Module imodelsx.kan.kan_sklearn from here: https://csinva.io/imodelsX/kan/kan_sklearn.html\n"
      ]
    },
    {
      "cell_type": "code",
      "execution_count": 2,
      "metadata": {
        "colab": {
          "base_uri": "https://localhost:8080/"
        },
        "id": "Bc_EEjU3gGu4",
        "outputId": "7cf7e439-e32b-422f-f738-e707c4cb6998"
      },
      "outputs": [
        {
          "output_type": "stream",
          "name": "stdout",
          "text": [
            "Collecting imodelsx\n",
            "  Downloading imodelsx-1.0.7-py3-none-any.whl (113 kB)\n",
            "\u001b[2K     \u001b[90m━━━━━━━━━━━━━━━━━━━━━━━━━━━━━━━━━━━━━━━━\u001b[0m \u001b[32m114.0/114.0 kB\u001b[0m \u001b[31m3.3 MB/s\u001b[0m eta \u001b[36m0:00:00\u001b[0m\n",
            "\u001b[?25hCollecting datasets (from imodelsx)\n",
            "  Downloading datasets-2.19.1-py3-none-any.whl (542 kB)\n",
            "\u001b[2K     \u001b[90m━━━━━━━━━━━━━━━━━━━━━━━━━━━━━━━━━━━━━━━━\u001b[0m \u001b[32m542.0/542.0 kB\u001b[0m \u001b[31m13.8 MB/s\u001b[0m eta \u001b[36m0:00:00\u001b[0m\n",
            "\u001b[?25hCollecting dict-hash (from imodelsx)\n",
            "  Downloading dict_hash-1.1.37.tar.gz (9.9 kB)\n",
            "  Preparing metadata (setup.py) ... \u001b[?25l\u001b[?25hdone\n",
            "Collecting imodels (from imodelsx)\n",
            "  Downloading imodels-1.4.3-py3-none-any.whl (237 kB)\n",
            "\u001b[2K     \u001b[90m━━━━━━━━━━━━━━━━━━━━━━━━━━━━━━━━━━━━━━━━\u001b[0m \u001b[32m237.2/237.2 kB\u001b[0m \u001b[31m16.0 MB/s\u001b[0m eta \u001b[36m0:00:00\u001b[0m\n",
            "\u001b[?25hCollecting langchain (from imodelsx)\n",
            "  Downloading langchain-0.1.20-py3-none-any.whl (1.0 MB)\n",
            "\u001b[2K     \u001b[90m━━━━━━━━━━━━━━━━━━━━━━━━━━━━━━━━━━━━━━━━\u001b[0m \u001b[32m1.0/1.0 MB\u001b[0m \u001b[31m20.9 MB/s\u001b[0m eta \u001b[36m0:00:00\u001b[0m\n",
            "\u001b[?25hRequirement already satisfied: numpy in /usr/local/lib/python3.10/dist-packages (from imodelsx) (1.25.2)\n",
            "Requirement already satisfied: pandas in /usr/local/lib/python3.10/dist-packages (from imodelsx) (2.0.3)\n",
            "Requirement already satisfied: scikit-learn in /usr/local/lib/python3.10/dist-packages (from imodelsx) (1.2.2)\n",
            "Requirement already satisfied: scipy in /usr/local/lib/python3.10/dist-packages (from imodelsx) (1.11.4)\n",
            "Requirement already satisfied: spacy in /usr/local/lib/python3.10/dist-packages (from imodelsx) (3.7.4)\n",
            "Requirement already satisfied: torch in /usr/local/lib/python3.10/dist-packages (from imodelsx) (2.2.1+cu121)\n",
            "Requirement already satisfied: tqdm in /usr/local/lib/python3.10/dist-packages (from imodelsx) (4.66.4)\n",
            "Requirement already satisfied: transformers[torch]>=4.23.1 in /usr/local/lib/python3.10/dist-packages (from imodelsx) (4.40.2)\n",
            "Requirement already satisfied: filelock in /usr/local/lib/python3.10/dist-packages (from transformers[torch]>=4.23.1->imodelsx) (3.14.0)\n",
            "Requirement already satisfied: huggingface-hub<1.0,>=0.19.3 in /usr/local/lib/python3.10/dist-packages (from transformers[torch]>=4.23.1->imodelsx) (0.20.3)\n",
            "Requirement already satisfied: packaging>=20.0 in /usr/local/lib/python3.10/dist-packages (from transformers[torch]>=4.23.1->imodelsx) (24.0)\n",
            "Requirement already satisfied: pyyaml>=5.1 in /usr/local/lib/python3.10/dist-packages (from transformers[torch]>=4.23.1->imodelsx) (6.0.1)\n",
            "Requirement already satisfied: regex!=2019.12.17 in /usr/local/lib/python3.10/dist-packages (from transformers[torch]>=4.23.1->imodelsx) (2023.12.25)\n",
            "Requirement already satisfied: requests in /usr/local/lib/python3.10/dist-packages (from transformers[torch]>=4.23.1->imodelsx) (2.31.0)\n",
            "Requirement already satisfied: tokenizers<0.20,>=0.19 in /usr/local/lib/python3.10/dist-packages (from transformers[torch]>=4.23.1->imodelsx) (0.19.1)\n",
            "Requirement already satisfied: safetensors>=0.4.1 in /usr/local/lib/python3.10/dist-packages (from transformers[torch]>=4.23.1->imodelsx) (0.4.3)\n",
            "Collecting accelerate>=0.21.0 (from transformers[torch]>=4.23.1->imodelsx)\n",
            "  Downloading accelerate-0.30.1-py3-none-any.whl (302 kB)\n",
            "\u001b[2K     \u001b[90m━━━━━━━━━━━━━━━━━━━━━━━━━━━━━━━━━━━━━━━━\u001b[0m \u001b[32m302.6/302.6 kB\u001b[0m \u001b[31m19.7 MB/s\u001b[0m eta \u001b[36m0:00:00\u001b[0m\n",
            "\u001b[?25hRequirement already satisfied: pyarrow>=12.0.0 in /usr/local/lib/python3.10/dist-packages (from datasets->imodelsx) (14.0.2)\n",
            "Requirement already satisfied: pyarrow-hotfix in /usr/local/lib/python3.10/dist-packages (from datasets->imodelsx) (0.6)\n",
            "Collecting dill<0.3.9,>=0.3.0 (from datasets->imodelsx)\n",
            "  Downloading dill-0.3.8-py3-none-any.whl (116 kB)\n",
            "\u001b[2K     \u001b[90m━━━━━━━━━━━━━━━━━━━━━━━━━━━━━━━━━━━━━━━━\u001b[0m \u001b[32m116.3/116.3 kB\u001b[0m \u001b[31m20.1 MB/s\u001b[0m eta \u001b[36m0:00:00\u001b[0m\n",
            "\u001b[?25hCollecting xxhash (from datasets->imodelsx)\n",
            "  Downloading xxhash-3.4.1-cp310-cp310-manylinux_2_17_x86_64.manylinux2014_x86_64.whl (194 kB)\n",
            "\u001b[2K     \u001b[90m━━━━━━━━━━━━━━━━━━━━━━━━━━━━━━━━━━━━━━━━\u001b[0m \u001b[32m194.1/194.1 kB\u001b[0m \u001b[31m24.3 MB/s\u001b[0m eta \u001b[36m0:00:00\u001b[0m\n",
            "\u001b[?25hCollecting multiprocess (from datasets->imodelsx)\n",
            "  Downloading multiprocess-0.70.16-py310-none-any.whl (134 kB)\n",
            "\u001b[2K     \u001b[90m━━━━━━━━━━━━━━━━━━━━━━━━━━━━━━━━━━━━━━━━\u001b[0m \u001b[32m134.8/134.8 kB\u001b[0m \u001b[31m22.2 MB/s\u001b[0m eta \u001b[36m0:00:00\u001b[0m\n",
            "\u001b[?25hRequirement already satisfied: fsspec[http]<=2024.3.1,>=2023.1.0 in /usr/local/lib/python3.10/dist-packages (from datasets->imodelsx) (2023.6.0)\n",
            "Requirement already satisfied: aiohttp in /usr/local/lib/python3.10/dist-packages (from datasets->imodelsx) (3.9.5)\n",
            "Collecting huggingface-hub<1.0,>=0.19.3 (from transformers[torch]>=4.23.1->imodelsx)\n",
            "  Downloading huggingface_hub-0.23.0-py3-none-any.whl (401 kB)\n",
            "\u001b[2K     \u001b[90m━━━━━━━━━━━━━━━━━━━━━━━━━━━━━━━━━━━━━━━━\u001b[0m \u001b[32m401.2/401.2 kB\u001b[0m \u001b[31m23.4 MB/s\u001b[0m eta \u001b[36m0:00:00\u001b[0m\n",
            "\u001b[?25hCollecting deflate_dict>=1.0.8 (from dict-hash->imodelsx)\n",
            "  Downloading deflate_dict-1.0.11.tar.gz (4.2 kB)\n",
            "  Preparing metadata (setup.py) ... \u001b[?25l\u001b[?25hdone\n",
            "Requirement already satisfied: matplotlib in /usr/local/lib/python3.10/dist-packages (from imodels->imodelsx) (3.7.1)\n",
            "Requirement already satisfied: mlxtend>=0.18.0 in /usr/local/lib/python3.10/dist-packages (from imodels->imodelsx) (0.22.0)\n",
            "Requirement already satisfied: python-dateutil>=2.8.2 in /usr/local/lib/python3.10/dist-packages (from pandas->imodelsx) (2.8.2)\n",
            "Requirement already satisfied: pytz>=2020.1 in /usr/local/lib/python3.10/dist-packages (from pandas->imodelsx) (2023.4)\n",
            "Requirement already satisfied: tzdata>=2022.1 in /usr/local/lib/python3.10/dist-packages (from pandas->imodelsx) (2024.1)\n",
            "Requirement already satisfied: joblib>=1.1.1 in /usr/local/lib/python3.10/dist-packages (from scikit-learn->imodelsx) (1.4.2)\n",
            "Requirement already satisfied: threadpoolctl>=2.0.0 in /usr/local/lib/python3.10/dist-packages (from scikit-learn->imodelsx) (3.5.0)\n",
            "Requirement already satisfied: SQLAlchemy<3,>=1.4 in /usr/local/lib/python3.10/dist-packages (from langchain->imodelsx) (2.0.30)\n",
            "Requirement already satisfied: async-timeout<5.0.0,>=4.0.0 in /usr/local/lib/python3.10/dist-packages (from langchain->imodelsx) (4.0.3)\n",
            "Collecting dataclasses-json<0.7,>=0.5.7 (from langchain->imodelsx)\n",
            "  Downloading dataclasses_json-0.6.6-py3-none-any.whl (28 kB)\n",
            "Collecting langchain-community<0.1,>=0.0.38 (from langchain->imodelsx)\n",
            "  Downloading langchain_community-0.0.38-py3-none-any.whl (2.0 MB)\n",
            "\u001b[2K     \u001b[90m━━━━━━━━━━━━━━━━━━━━━━━━━━━━━━━━━━━━━━━━\u001b[0m \u001b[32m2.0/2.0 MB\u001b[0m \u001b[31m29.9 MB/s\u001b[0m eta \u001b[36m0:00:00\u001b[0m\n",
            "\u001b[?25hCollecting langchain-core<0.2.0,>=0.1.52 (from langchain->imodelsx)\n",
            "  Downloading langchain_core-0.1.52-py3-none-any.whl (302 kB)\n",
            "\u001b[2K     \u001b[90m━━━━━━━━━━━━━━━━━━━━━━━━━━━━━━━━━━━━━━━━\u001b[0m \u001b[32m302.9/302.9 kB\u001b[0m \u001b[31m39.5 MB/s\u001b[0m eta \u001b[36m0:00:00\u001b[0m\n",
            "\u001b[?25hCollecting langchain-text-splitters<0.1,>=0.0.1 (from langchain->imodelsx)\n",
            "  Downloading langchain_text_splitters-0.0.2-py3-none-any.whl (23 kB)\n",
            "Collecting langsmith<0.2.0,>=0.1.17 (from langchain->imodelsx)\n",
            "  Downloading langsmith-0.1.59-py3-none-any.whl (121 kB)\n",
            "\u001b[2K     \u001b[90m━━━━━━━━━━━━━━━━━━━━━━━━━━━━━━━━━━━━━━━━\u001b[0m \u001b[32m121.2/121.2 kB\u001b[0m \u001b[31m19.5 MB/s\u001b[0m eta \u001b[36m0:00:00\u001b[0m\n",
            "\u001b[?25hRequirement already satisfied: pydantic<3,>=1 in /usr/local/lib/python3.10/dist-packages (from langchain->imodelsx) (2.7.1)\n",
            "Requirement already satisfied: tenacity<9.0.0,>=8.1.0 in /usr/local/lib/python3.10/dist-packages (from langchain->imodelsx) (8.3.0)\n",
            "Requirement already satisfied: spacy-legacy<3.1.0,>=3.0.11 in /usr/local/lib/python3.10/dist-packages (from spacy->imodelsx) (3.0.12)\n",
            "Requirement already satisfied: spacy-loggers<2.0.0,>=1.0.0 in /usr/local/lib/python3.10/dist-packages (from spacy->imodelsx) (1.0.5)\n",
            "Requirement already satisfied: murmurhash<1.1.0,>=0.28.0 in /usr/local/lib/python3.10/dist-packages (from spacy->imodelsx) (1.0.10)\n",
            "Requirement already satisfied: cymem<2.1.0,>=2.0.2 in /usr/local/lib/python3.10/dist-packages (from spacy->imodelsx) (2.0.8)\n",
            "Requirement already satisfied: preshed<3.1.0,>=3.0.2 in /usr/local/lib/python3.10/dist-packages (from spacy->imodelsx) (3.0.9)\n",
            "Requirement already satisfied: thinc<8.3.0,>=8.2.2 in /usr/local/lib/python3.10/dist-packages (from spacy->imodelsx) (8.2.3)\n",
            "Requirement already satisfied: wasabi<1.2.0,>=0.9.1 in /usr/local/lib/python3.10/dist-packages (from spacy->imodelsx) (1.1.2)\n",
            "Requirement already satisfied: srsly<3.0.0,>=2.4.3 in /usr/local/lib/python3.10/dist-packages (from spacy->imodelsx) (2.4.8)\n",
            "Requirement already satisfied: catalogue<2.1.0,>=2.0.6 in /usr/local/lib/python3.10/dist-packages (from spacy->imodelsx) (2.0.10)\n",
            "Requirement already satisfied: weasel<0.4.0,>=0.1.0 in /usr/local/lib/python3.10/dist-packages (from spacy->imodelsx) (0.3.4)\n",
            "Requirement already satisfied: typer<0.10.0,>=0.3.0 in /usr/local/lib/python3.10/dist-packages (from spacy->imodelsx) (0.9.4)\n",
            "Requirement already satisfied: smart-open<7.0.0,>=5.2.1 in /usr/local/lib/python3.10/dist-packages (from spacy->imodelsx) (6.4.0)\n",
            "Requirement already satisfied: jinja2 in /usr/local/lib/python3.10/dist-packages (from spacy->imodelsx) (3.1.4)\n",
            "Requirement already satisfied: setuptools in /usr/local/lib/python3.10/dist-packages (from spacy->imodelsx) (67.7.2)\n",
            "Requirement already satisfied: langcodes<4.0.0,>=3.2.0 in /usr/local/lib/python3.10/dist-packages (from spacy->imodelsx) (3.4.0)\n",
            "Requirement already satisfied: typing-extensions>=4.8.0 in /usr/local/lib/python3.10/dist-packages (from torch->imodelsx) (4.11.0)\n",
            "Requirement already satisfied: sympy in /usr/local/lib/python3.10/dist-packages (from torch->imodelsx) (1.12)\n",
            "Requirement already satisfied: networkx in /usr/local/lib/python3.10/dist-packages (from torch->imodelsx) (3.3)\n",
            "Collecting nvidia-cuda-nvrtc-cu12==12.1.105 (from torch->imodelsx)\n",
            "  Using cached nvidia_cuda_nvrtc_cu12-12.1.105-py3-none-manylinux1_x86_64.whl (23.7 MB)\n",
            "Collecting nvidia-cuda-runtime-cu12==12.1.105 (from torch->imodelsx)\n",
            "  Using cached nvidia_cuda_runtime_cu12-12.1.105-py3-none-manylinux1_x86_64.whl (823 kB)\n",
            "Collecting nvidia-cuda-cupti-cu12==12.1.105 (from torch->imodelsx)\n",
            "  Using cached nvidia_cuda_cupti_cu12-12.1.105-py3-none-manylinux1_x86_64.whl (14.1 MB)\n",
            "Collecting nvidia-cudnn-cu12==8.9.2.26 (from torch->imodelsx)\n",
            "  Using cached nvidia_cudnn_cu12-8.9.2.26-py3-none-manylinux1_x86_64.whl (731.7 MB)\n",
            "Collecting nvidia-cublas-cu12==12.1.3.1 (from torch->imodelsx)\n",
            "  Using cached nvidia_cublas_cu12-12.1.3.1-py3-none-manylinux1_x86_64.whl (410.6 MB)\n",
            "Collecting nvidia-cufft-cu12==11.0.2.54 (from torch->imodelsx)\n",
            "  Using cached nvidia_cufft_cu12-11.0.2.54-py3-none-manylinux1_x86_64.whl (121.6 MB)\n",
            "Collecting nvidia-curand-cu12==10.3.2.106 (from torch->imodelsx)\n",
            "  Using cached nvidia_curand_cu12-10.3.2.106-py3-none-manylinux1_x86_64.whl (56.5 MB)\n",
            "Collecting nvidia-cusolver-cu12==11.4.5.107 (from torch->imodelsx)\n",
            "  Using cached nvidia_cusolver_cu12-11.4.5.107-py3-none-manylinux1_x86_64.whl (124.2 MB)\n",
            "Collecting nvidia-cusparse-cu12==12.1.0.106 (from torch->imodelsx)\n",
            "  Using cached nvidia_cusparse_cu12-12.1.0.106-py3-none-manylinux1_x86_64.whl (196.0 MB)\n",
            "Collecting nvidia-nccl-cu12==2.19.3 (from torch->imodelsx)\n",
            "  Using cached nvidia_nccl_cu12-2.19.3-py3-none-manylinux1_x86_64.whl (166.0 MB)\n",
            "Collecting nvidia-nvtx-cu12==12.1.105 (from torch->imodelsx)\n",
            "  Using cached nvidia_nvtx_cu12-12.1.105-py3-none-manylinux1_x86_64.whl (99 kB)\n",
            "Requirement already satisfied: triton==2.2.0 in /usr/local/lib/python3.10/dist-packages (from torch->imodelsx) (2.2.0)\n",
            "Collecting nvidia-nvjitlink-cu12 (from nvidia-cusolver-cu12==11.4.5.107->torch->imodelsx)\n",
            "  Using cached nvidia_nvjitlink_cu12-12.4.127-py3-none-manylinux2014_x86_64.whl (21.1 MB)\n",
            "Requirement already satisfied: psutil in /usr/local/lib/python3.10/dist-packages (from accelerate>=0.21.0->transformers[torch]>=4.23.1->imodelsx) (5.9.5)\n",
            "Requirement already satisfied: aiosignal>=1.1.2 in /usr/local/lib/python3.10/dist-packages (from aiohttp->datasets->imodelsx) (1.3.1)\n",
            "Requirement already satisfied: attrs>=17.3.0 in /usr/local/lib/python3.10/dist-packages (from aiohttp->datasets->imodelsx) (23.2.0)\n",
            "Requirement already satisfied: frozenlist>=1.1.1 in /usr/local/lib/python3.10/dist-packages (from aiohttp->datasets->imodelsx) (1.4.1)\n",
            "Requirement already satisfied: multidict<7.0,>=4.5 in /usr/local/lib/python3.10/dist-packages (from aiohttp->datasets->imodelsx) (6.0.5)\n",
            "Requirement already satisfied: yarl<2.0,>=1.0 in /usr/local/lib/python3.10/dist-packages (from aiohttp->datasets->imodelsx) (1.9.4)\n",
            "Collecting marshmallow<4.0.0,>=3.18.0 (from dataclasses-json<0.7,>=0.5.7->langchain->imodelsx)\n",
            "  Downloading marshmallow-3.21.2-py3-none-any.whl (49 kB)\n",
            "\u001b[2K     \u001b[90m━━━━━━━━━━━━━━━━━━━━━━━━━━━━━━━━━━━━━━━━\u001b[0m \u001b[32m49.3/49.3 kB\u001b[0m \u001b[31m8.0 MB/s\u001b[0m eta \u001b[36m0:00:00\u001b[0m\n",
            "\u001b[?25hCollecting typing-inspect<1,>=0.4.0 (from dataclasses-json<0.7,>=0.5.7->langchain->imodelsx)\n",
            "  Downloading typing_inspect-0.9.0-py3-none-any.whl (8.8 kB)\n",
            "Collecting support_developer>=1.0.2 (from deflate_dict>=1.0.8->dict-hash->imodelsx)\n",
            "  Downloading support_developer-1.0.5.tar.gz (4.9 kB)\n",
            "  Preparing metadata (setup.py) ... \u001b[?25l\u001b[?25hdone\n",
            "Collecting jsonpatch<2.0,>=1.33 (from langchain-core<0.2.0,>=0.1.52->langchain->imodelsx)\n",
            "  Downloading jsonpatch-1.33-py2.py3-none-any.whl (12 kB)\n",
            "Collecting packaging>=20.0 (from transformers[torch]>=4.23.1->imodelsx)\n",
            "  Downloading packaging-23.2-py3-none-any.whl (53 kB)\n",
            "\u001b[2K     \u001b[90m━━━━━━━━━━━━━━━━━━━━━━━━━━━━━━━━━━━━━━━━\u001b[0m \u001b[32m53.0/53.0 kB\u001b[0m \u001b[31m8.6 MB/s\u001b[0m eta \u001b[36m0:00:00\u001b[0m\n",
            "\u001b[?25hRequirement already satisfied: language-data>=1.2 in /usr/local/lib/python3.10/dist-packages (from langcodes<4.0.0,>=3.2.0->spacy->imodelsx) (1.2.0)\n",
            "Collecting orjson<4.0.0,>=3.9.14 (from langsmith<0.2.0,>=0.1.17->langchain->imodelsx)\n",
            "  Downloading orjson-3.10.3-cp310-cp310-manylinux_2_17_x86_64.manylinux2014_x86_64.whl (142 kB)\n",
            "\u001b[2K     \u001b[90m━━━━━━━━━━━━━━━━━━━━━━━━━━━━━━━━━━━━━━━━\u001b[0m \u001b[32m142.5/142.5 kB\u001b[0m \u001b[31m19.0 MB/s\u001b[0m eta \u001b[36m0:00:00\u001b[0m\n",
            "\u001b[?25hRequirement already satisfied: contourpy>=1.0.1 in /usr/local/lib/python3.10/dist-packages (from matplotlib->imodels->imodelsx) (1.2.1)\n",
            "Requirement already satisfied: cycler>=0.10 in /usr/local/lib/python3.10/dist-packages (from matplotlib->imodels->imodelsx) (0.12.1)\n",
            "Requirement already satisfied: fonttools>=4.22.0 in /usr/local/lib/python3.10/dist-packages (from matplotlib->imodels->imodelsx) (4.51.0)\n",
            "Requirement already satisfied: kiwisolver>=1.0.1 in /usr/local/lib/python3.10/dist-packages (from matplotlib->imodels->imodelsx) (1.4.5)\n",
            "Requirement already satisfied: pillow>=6.2.0 in /usr/local/lib/python3.10/dist-packages (from matplotlib->imodels->imodelsx) (9.4.0)\n",
            "Requirement already satisfied: pyparsing>=2.3.1 in /usr/local/lib/python3.10/dist-packages (from matplotlib->imodels->imodelsx) (3.1.2)\n",
            "Requirement already satisfied: annotated-types>=0.4.0 in /usr/local/lib/python3.10/dist-packages (from pydantic<3,>=1->langchain->imodelsx) (0.6.0)\n",
            "Requirement already satisfied: pydantic-core==2.18.2 in /usr/local/lib/python3.10/dist-packages (from pydantic<3,>=1->langchain->imodelsx) (2.18.2)\n",
            "Requirement already satisfied: six>=1.5 in /usr/local/lib/python3.10/dist-packages (from python-dateutil>=2.8.2->pandas->imodelsx) (1.16.0)\n",
            "Requirement already satisfied: charset-normalizer<4,>=2 in /usr/local/lib/python3.10/dist-packages (from requests->transformers[torch]>=4.23.1->imodelsx) (3.3.2)\n",
            "Requirement already satisfied: idna<4,>=2.5 in /usr/local/lib/python3.10/dist-packages (from requests->transformers[torch]>=4.23.1->imodelsx) (3.7)\n",
            "Requirement already satisfied: urllib3<3,>=1.21.1 in /usr/local/lib/python3.10/dist-packages (from requests->transformers[torch]>=4.23.1->imodelsx) (2.0.7)\n",
            "Requirement already satisfied: certifi>=2017.4.17 in /usr/local/lib/python3.10/dist-packages (from requests->transformers[torch]>=4.23.1->imodelsx) (2024.2.2)\n",
            "Requirement already satisfied: greenlet!=0.4.17 in /usr/local/lib/python3.10/dist-packages (from SQLAlchemy<3,>=1.4->langchain->imodelsx) (3.0.3)\n",
            "Requirement already satisfied: blis<0.8.0,>=0.7.8 in /usr/local/lib/python3.10/dist-packages (from thinc<8.3.0,>=8.2.2->spacy->imodelsx) (0.7.11)\n",
            "Requirement already satisfied: confection<1.0.0,>=0.0.1 in /usr/local/lib/python3.10/dist-packages (from thinc<8.3.0,>=8.2.2->spacy->imodelsx) (0.1.4)\n",
            "Requirement already satisfied: click<9.0.0,>=7.1.1 in /usr/local/lib/python3.10/dist-packages (from typer<0.10.0,>=0.3.0->spacy->imodelsx) (8.1.7)\n",
            "Requirement already satisfied: cloudpathlib<0.17.0,>=0.7.0 in /usr/local/lib/python3.10/dist-packages (from weasel<0.4.0,>=0.1.0->spacy->imodelsx) (0.16.0)\n",
            "Requirement already satisfied: MarkupSafe>=2.0 in /usr/local/lib/python3.10/dist-packages (from jinja2->spacy->imodelsx) (2.1.5)\n",
            "Requirement already satisfied: mpmath>=0.19 in /usr/local/lib/python3.10/dist-packages (from sympy->torch->imodelsx) (1.3.0)\n",
            "Collecting jsonpointer>=1.9 (from jsonpatch<2.0,>=1.33->langchain-core<0.2.0,>=0.1.52->langchain->imodelsx)\n",
            "  Downloading jsonpointer-2.4-py2.py3-none-any.whl (7.8 kB)\n",
            "Requirement already satisfied: marisa-trie>=0.7.7 in /usr/local/lib/python3.10/dist-packages (from language-data>=1.2->langcodes<4.0.0,>=3.2.0->spacy->imodelsx) (1.1.1)\n",
            "Collecting mypy-extensions>=0.3.0 (from typing-inspect<1,>=0.4.0->dataclasses-json<0.7,>=0.5.7->langchain->imodelsx)\n",
            "  Downloading mypy_extensions-1.0.0-py3-none-any.whl (4.7 kB)\n",
            "Building wheels for collected packages: dict-hash, deflate_dict, support_developer\n",
            "  Building wheel for dict-hash (setup.py) ... \u001b[?25l\u001b[?25hdone\n",
            "  Created wheel for dict-hash: filename=dict_hash-1.1.37-py3-none-any.whl size=9201 sha256=22f93bf45d70668c4b066862957d69b96f4b940d2943d26dfe40d06bbf3d0ce3\n",
            "  Stored in directory: /root/.cache/pip/wheels/94/7b/35/9ca170ce11b88ed5ebb7696a881016a333a285de4119a6cd6e\n",
            "  Building wheel for deflate_dict (setup.py) ... \u001b[?25l\u001b[?25hdone\n",
            "  Created wheel for deflate_dict: filename=deflate_dict-1.0.11-py3-none-any.whl size=5855 sha256=cf3e2a70d558e29b9ab260a1c8607cd5c6ff21da46fd516f8a3bd4b01624ce51\n",
            "  Stored in directory: /root/.cache/pip/wheels/62/89/4c/e5696f773d7d1ec74d4fcda45f69474e37dbb0116bf5d4a44d\n",
            "  Building wheel for support_developer (setup.py) ... \u001b[?25l\u001b[?25hdone\n",
            "  Created wheel for support_developer: filename=support_developer-1.0.5-py3-none-any.whl size=5630 sha256=a464532cc25f5e22984fb98fae63428f5f523ba43db3979c6d35b221e08c8a5e\n",
            "  Stored in directory: /root/.cache/pip/wheels/b6/72/c8/3054a5897ba0713dfa7a941364d68cbd42b0755c8e2ec1c18c\n",
            "Successfully built dict-hash deflate_dict support_developer\n",
            "Installing collected packages: support_developer, xxhash, packaging, orjson, nvidia-nvtx-cu12, nvidia-nvjitlink-cu12, nvidia-nccl-cu12, nvidia-curand-cu12, nvidia-cufft-cu12, nvidia-cuda-runtime-cu12, nvidia-cuda-nvrtc-cu12, nvidia-cuda-cupti-cu12, nvidia-cublas-cu12, mypy-extensions, jsonpointer, dill, deflate_dict, typing-inspect, nvidia-cusparse-cu12, nvidia-cudnn-cu12, multiprocess, marshmallow, jsonpatch, huggingface-hub, dict-hash, nvidia-cusolver-cu12, langsmith, dataclasses-json, langchain-core, imodels, datasets, langchain-text-splitters, langchain-community, accelerate, langchain, imodelsx\n",
            "  Attempting uninstall: packaging\n",
            "    Found existing installation: packaging 24.0\n",
            "    Uninstalling packaging-24.0:\n",
            "      Successfully uninstalled packaging-24.0\n",
            "  Attempting uninstall: huggingface-hub\n",
            "    Found existing installation: huggingface-hub 0.20.3\n",
            "    Uninstalling huggingface-hub-0.20.3:\n",
            "      Successfully uninstalled huggingface-hub-0.20.3\n",
            "Successfully installed accelerate-0.30.1 dataclasses-json-0.6.6 datasets-2.19.1 deflate_dict-1.0.11 dict-hash-1.1.37 dill-0.3.8 huggingface-hub-0.23.0 imodels-1.4.3 imodelsx-1.0.7 jsonpatch-1.33 jsonpointer-2.4 langchain-0.1.20 langchain-community-0.0.38 langchain-core-0.1.52 langchain-text-splitters-0.0.2 langsmith-0.1.59 marshmallow-3.21.2 multiprocess-0.70.16 mypy-extensions-1.0.0 nvidia-cublas-cu12-12.1.3.1 nvidia-cuda-cupti-cu12-12.1.105 nvidia-cuda-nvrtc-cu12-12.1.105 nvidia-cuda-runtime-cu12-12.1.105 nvidia-cudnn-cu12-8.9.2.26 nvidia-cufft-cu12-11.0.2.54 nvidia-curand-cu12-10.3.2.106 nvidia-cusolver-cu12-11.4.5.107 nvidia-cusparse-cu12-12.1.0.106 nvidia-nccl-cu12-2.19.3 nvidia-nvjitlink-cu12-12.4.127 nvidia-nvtx-cu12-12.1.105 orjson-3.10.3 packaging-23.2 support_developer-1.0.5 typing-inspect-0.9.0 xxhash-3.4.1\n"
          ]
        }
      ],
      "source": [
        "#installing imodelsx for implemeting KAN (Kolmogorov-Arnold Networks)\n",
        "#For more information, please refer this: https://pypi.org/project/imodelsx/\n",
        "!pip install imodelsx"
      ]
    },
    {
      "cell_type": "code",
      "execution_count": 3,
      "metadata": {
        "id": "d48JUSKwb8KA"
      },
      "outputs": [],
      "source": [
        "#importing all the required libraries\n",
        "import pandas as pd\n",
        "import numpy as np\n",
        "import matplotlib.pyplot as plt\n",
        "import seaborn as sns\n",
        "from mpl_toolkits.axes_grid1 import make_axes_locatable\n",
        "from sklearn.preprocessing import StandardScaler\n",
        "from sklearn.model_selection import train_test_split\n",
        "from imodelsx import KANClassifier\n",
        "from sklearn.model_selection import cross_val_score\n",
        "from sklearn.metrics import accuracy_score, classification_report, cohen_kappa_score, confusion_matrix\n",
        "from sklearn.metrics import roc_curve, auc"
      ]
    },
    {
      "cell_type": "code",
      "execution_count": 4,
      "metadata": {
        "colab": {
          "base_uri": "https://localhost:8080/",
          "height": 514
        },
        "id": "Cd5kTGrwcYGK",
        "outputId": "337030b5-6d25-4d9d-be49-c937dc914e0c"
      },
      "outputs": [
        {
          "output_type": "stream",
          "name": "stderr",
          "text": [
            "/usr/local/lib/python3.10/dist-packages/ipykernel/ipkernel.py:283: DeprecationWarning: `should_run_async` will not call `transform_cell` automatically in the future. Please pass the result to `transformed_cell` argument and any exception that happen during thetransform in `preprocessing_exc_tuple` in IPython 7.17 and above.\n",
            "  and should_run_async(code)\n"
          ]
        },
        {
          "output_type": "execute_result",
          "data": {
            "text/plain": [
              "      age  sex  chest pain type  resting bp s  cholesterol  \\\n",
              "0      40    1                2           140          289   \n",
              "1      49    0                3           160          180   \n",
              "2      37    1                2           130          283   \n",
              "3      48    0                4           138          214   \n",
              "4      54    1                3           150          195   \n",
              "...   ...  ...              ...           ...          ...   \n",
              "1185   45    1                1           110          264   \n",
              "1186   68    1                4           144          193   \n",
              "1187   57    1                4           130          131   \n",
              "1188   57    0                2           130          236   \n",
              "1189   38    1                3           138          175   \n",
              "\n",
              "      fasting blood sugar  resting ecg  max heart rate  exercise angina  \\\n",
              "0                       0            0             172                0   \n",
              "1                       0            0             156                0   \n",
              "2                       0            1              98                0   \n",
              "3                       0            0             108                1   \n",
              "4                       0            0             122                0   \n",
              "...                   ...          ...             ...              ...   \n",
              "1185                    0            0             132                0   \n",
              "1186                    1            0             141                0   \n",
              "1187                    0            0             115                1   \n",
              "1188                    0            2             174                0   \n",
              "1189                    0            0             173                0   \n",
              "\n",
              "      oldpeak  ST slope  target  \n",
              "0         0.0         1       0  \n",
              "1         1.0         2       1  \n",
              "2         0.0         1       0  \n",
              "3         1.5         2       1  \n",
              "4         0.0         1       0  \n",
              "...       ...       ...     ...  \n",
              "1185      1.2         2       1  \n",
              "1186      3.4         2       1  \n",
              "1187      1.2         2       1  \n",
              "1188      0.0         2       1  \n",
              "1189      0.0         1       0  \n",
              "\n",
              "[1190 rows x 12 columns]"
            ],
            "text/html": [
              "\n",
              "  <div id=\"df-42f9293b-3450-4d7e-92ce-9a1f171a5318\" class=\"colab-df-container\">\n",
              "    <div>\n",
              "<style scoped>\n",
              "    .dataframe tbody tr th:only-of-type {\n",
              "        vertical-align: middle;\n",
              "    }\n",
              "\n",
              "    .dataframe tbody tr th {\n",
              "        vertical-align: top;\n",
              "    }\n",
              "\n",
              "    .dataframe thead th {\n",
              "        text-align: right;\n",
              "    }\n",
              "</style>\n",
              "<table border=\"1\" class=\"dataframe\">\n",
              "  <thead>\n",
              "    <tr style=\"text-align: right;\">\n",
              "      <th></th>\n",
              "      <th>age</th>\n",
              "      <th>sex</th>\n",
              "      <th>chest pain type</th>\n",
              "      <th>resting bp s</th>\n",
              "      <th>cholesterol</th>\n",
              "      <th>fasting blood sugar</th>\n",
              "      <th>resting ecg</th>\n",
              "      <th>max heart rate</th>\n",
              "      <th>exercise angina</th>\n",
              "      <th>oldpeak</th>\n",
              "      <th>ST slope</th>\n",
              "      <th>target</th>\n",
              "    </tr>\n",
              "  </thead>\n",
              "  <tbody>\n",
              "    <tr>\n",
              "      <th>0</th>\n",
              "      <td>40</td>\n",
              "      <td>1</td>\n",
              "      <td>2</td>\n",
              "      <td>140</td>\n",
              "      <td>289</td>\n",
              "      <td>0</td>\n",
              "      <td>0</td>\n",
              "      <td>172</td>\n",
              "      <td>0</td>\n",
              "      <td>0.0</td>\n",
              "      <td>1</td>\n",
              "      <td>0</td>\n",
              "    </tr>\n",
              "    <tr>\n",
              "      <th>1</th>\n",
              "      <td>49</td>\n",
              "      <td>0</td>\n",
              "      <td>3</td>\n",
              "      <td>160</td>\n",
              "      <td>180</td>\n",
              "      <td>0</td>\n",
              "      <td>0</td>\n",
              "      <td>156</td>\n",
              "      <td>0</td>\n",
              "      <td>1.0</td>\n",
              "      <td>2</td>\n",
              "      <td>1</td>\n",
              "    </tr>\n",
              "    <tr>\n",
              "      <th>2</th>\n",
              "      <td>37</td>\n",
              "      <td>1</td>\n",
              "      <td>2</td>\n",
              "      <td>130</td>\n",
              "      <td>283</td>\n",
              "      <td>0</td>\n",
              "      <td>1</td>\n",
              "      <td>98</td>\n",
              "      <td>0</td>\n",
              "      <td>0.0</td>\n",
              "      <td>1</td>\n",
              "      <td>0</td>\n",
              "    </tr>\n",
              "    <tr>\n",
              "      <th>3</th>\n",
              "      <td>48</td>\n",
              "      <td>0</td>\n",
              "      <td>4</td>\n",
              "      <td>138</td>\n",
              "      <td>214</td>\n",
              "      <td>0</td>\n",
              "      <td>0</td>\n",
              "      <td>108</td>\n",
              "      <td>1</td>\n",
              "      <td>1.5</td>\n",
              "      <td>2</td>\n",
              "      <td>1</td>\n",
              "    </tr>\n",
              "    <tr>\n",
              "      <th>4</th>\n",
              "      <td>54</td>\n",
              "      <td>1</td>\n",
              "      <td>3</td>\n",
              "      <td>150</td>\n",
              "      <td>195</td>\n",
              "      <td>0</td>\n",
              "      <td>0</td>\n",
              "      <td>122</td>\n",
              "      <td>0</td>\n",
              "      <td>0.0</td>\n",
              "      <td>1</td>\n",
              "      <td>0</td>\n",
              "    </tr>\n",
              "    <tr>\n",
              "      <th>...</th>\n",
              "      <td>...</td>\n",
              "      <td>...</td>\n",
              "      <td>...</td>\n",
              "      <td>...</td>\n",
              "      <td>...</td>\n",
              "      <td>...</td>\n",
              "      <td>...</td>\n",
              "      <td>...</td>\n",
              "      <td>...</td>\n",
              "      <td>...</td>\n",
              "      <td>...</td>\n",
              "      <td>...</td>\n",
              "    </tr>\n",
              "    <tr>\n",
              "      <th>1185</th>\n",
              "      <td>45</td>\n",
              "      <td>1</td>\n",
              "      <td>1</td>\n",
              "      <td>110</td>\n",
              "      <td>264</td>\n",
              "      <td>0</td>\n",
              "      <td>0</td>\n",
              "      <td>132</td>\n",
              "      <td>0</td>\n",
              "      <td>1.2</td>\n",
              "      <td>2</td>\n",
              "      <td>1</td>\n",
              "    </tr>\n",
              "    <tr>\n",
              "      <th>1186</th>\n",
              "      <td>68</td>\n",
              "      <td>1</td>\n",
              "      <td>4</td>\n",
              "      <td>144</td>\n",
              "      <td>193</td>\n",
              "      <td>1</td>\n",
              "      <td>0</td>\n",
              "      <td>141</td>\n",
              "      <td>0</td>\n",
              "      <td>3.4</td>\n",
              "      <td>2</td>\n",
              "      <td>1</td>\n",
              "    </tr>\n",
              "    <tr>\n",
              "      <th>1187</th>\n",
              "      <td>57</td>\n",
              "      <td>1</td>\n",
              "      <td>4</td>\n",
              "      <td>130</td>\n",
              "      <td>131</td>\n",
              "      <td>0</td>\n",
              "      <td>0</td>\n",
              "      <td>115</td>\n",
              "      <td>1</td>\n",
              "      <td>1.2</td>\n",
              "      <td>2</td>\n",
              "      <td>1</td>\n",
              "    </tr>\n",
              "    <tr>\n",
              "      <th>1188</th>\n",
              "      <td>57</td>\n",
              "      <td>0</td>\n",
              "      <td>2</td>\n",
              "      <td>130</td>\n",
              "      <td>236</td>\n",
              "      <td>0</td>\n",
              "      <td>2</td>\n",
              "      <td>174</td>\n",
              "      <td>0</td>\n",
              "      <td>0.0</td>\n",
              "      <td>2</td>\n",
              "      <td>1</td>\n",
              "    </tr>\n",
              "    <tr>\n",
              "      <th>1189</th>\n",
              "      <td>38</td>\n",
              "      <td>1</td>\n",
              "      <td>3</td>\n",
              "      <td>138</td>\n",
              "      <td>175</td>\n",
              "      <td>0</td>\n",
              "      <td>0</td>\n",
              "      <td>173</td>\n",
              "      <td>0</td>\n",
              "      <td>0.0</td>\n",
              "      <td>1</td>\n",
              "      <td>0</td>\n",
              "    </tr>\n",
              "  </tbody>\n",
              "</table>\n",
              "<p>1190 rows × 12 columns</p>\n",
              "</div>\n",
              "    <div class=\"colab-df-buttons\">\n",
              "\n",
              "  <div class=\"colab-df-container\">\n",
              "    <button class=\"colab-df-convert\" onclick=\"convertToInteractive('df-42f9293b-3450-4d7e-92ce-9a1f171a5318')\"\n",
              "            title=\"Convert this dataframe to an interactive table.\"\n",
              "            style=\"display:none;\">\n",
              "\n",
              "  <svg xmlns=\"http://www.w3.org/2000/svg\" height=\"24px\" viewBox=\"0 -960 960 960\">\n",
              "    <path d=\"M120-120v-720h720v720H120Zm60-500h600v-160H180v160Zm220 220h160v-160H400v160Zm0 220h160v-160H400v160ZM180-400h160v-160H180v160Zm440 0h160v-160H620v160ZM180-180h160v-160H180v160Zm440 0h160v-160H620v160Z\"/>\n",
              "  </svg>\n",
              "    </button>\n",
              "\n",
              "  <style>\n",
              "    .colab-df-container {\n",
              "      display:flex;\n",
              "      gap: 12px;\n",
              "    }\n",
              "\n",
              "    .colab-df-convert {\n",
              "      background-color: #E8F0FE;\n",
              "      border: none;\n",
              "      border-radius: 50%;\n",
              "      cursor: pointer;\n",
              "      display: none;\n",
              "      fill: #1967D2;\n",
              "      height: 32px;\n",
              "      padding: 0 0 0 0;\n",
              "      width: 32px;\n",
              "    }\n",
              "\n",
              "    .colab-df-convert:hover {\n",
              "      background-color: #E2EBFA;\n",
              "      box-shadow: 0px 1px 2px rgba(60, 64, 67, 0.3), 0px 1px 3px 1px rgba(60, 64, 67, 0.15);\n",
              "      fill: #174EA6;\n",
              "    }\n",
              "\n",
              "    .colab-df-buttons div {\n",
              "      margin-bottom: 4px;\n",
              "    }\n",
              "\n",
              "    [theme=dark] .colab-df-convert {\n",
              "      background-color: #3B4455;\n",
              "      fill: #D2E3FC;\n",
              "    }\n",
              "\n",
              "    [theme=dark] .colab-df-convert:hover {\n",
              "      background-color: #434B5C;\n",
              "      box-shadow: 0px 1px 3px 1px rgba(0, 0, 0, 0.15);\n",
              "      filter: drop-shadow(0px 1px 2px rgba(0, 0, 0, 0.3));\n",
              "      fill: #FFFFFF;\n",
              "    }\n",
              "  </style>\n",
              "\n",
              "    <script>\n",
              "      const buttonEl =\n",
              "        document.querySelector('#df-42f9293b-3450-4d7e-92ce-9a1f171a5318 button.colab-df-convert');\n",
              "      buttonEl.style.display =\n",
              "        google.colab.kernel.accessAllowed ? 'block' : 'none';\n",
              "\n",
              "      async function convertToInteractive(key) {\n",
              "        const element = document.querySelector('#df-42f9293b-3450-4d7e-92ce-9a1f171a5318');\n",
              "        const dataTable =\n",
              "          await google.colab.kernel.invokeFunction('convertToInteractive',\n",
              "                                                    [key], {});\n",
              "        if (!dataTable) return;\n",
              "\n",
              "        const docLinkHtml = 'Like what you see? Visit the ' +\n",
              "          '<a target=\"_blank\" href=https://colab.research.google.com/notebooks/data_table.ipynb>data table notebook</a>'\n",
              "          + ' to learn more about interactive tables.';\n",
              "        element.innerHTML = '';\n",
              "        dataTable['output_type'] = 'display_data';\n",
              "        await google.colab.output.renderOutput(dataTable, element);\n",
              "        const docLink = document.createElement('div');\n",
              "        docLink.innerHTML = docLinkHtml;\n",
              "        element.appendChild(docLink);\n",
              "      }\n",
              "    </script>\n",
              "  </div>\n",
              "\n",
              "\n",
              "<div id=\"df-dcd6b9ba-798b-456a-96be-1427079f90b8\">\n",
              "  <button class=\"colab-df-quickchart\" onclick=\"quickchart('df-dcd6b9ba-798b-456a-96be-1427079f90b8')\"\n",
              "            title=\"Suggest charts\"\n",
              "            style=\"display:none;\">\n",
              "\n",
              "<svg xmlns=\"http://www.w3.org/2000/svg\" height=\"24px\"viewBox=\"0 0 24 24\"\n",
              "     width=\"24px\">\n",
              "    <g>\n",
              "        <path d=\"M19 3H5c-1.1 0-2 .9-2 2v14c0 1.1.9 2 2 2h14c1.1 0 2-.9 2-2V5c0-1.1-.9-2-2-2zM9 17H7v-7h2v7zm4 0h-2V7h2v10zm4 0h-2v-4h2v4z\"/>\n",
              "    </g>\n",
              "</svg>\n",
              "  </button>\n",
              "\n",
              "<style>\n",
              "  .colab-df-quickchart {\n",
              "      --bg-color: #E8F0FE;\n",
              "      --fill-color: #1967D2;\n",
              "      --hover-bg-color: #E2EBFA;\n",
              "      --hover-fill-color: #174EA6;\n",
              "      --disabled-fill-color: #AAA;\n",
              "      --disabled-bg-color: #DDD;\n",
              "  }\n",
              "\n",
              "  [theme=dark] .colab-df-quickchart {\n",
              "      --bg-color: #3B4455;\n",
              "      --fill-color: #D2E3FC;\n",
              "      --hover-bg-color: #434B5C;\n",
              "      --hover-fill-color: #FFFFFF;\n",
              "      --disabled-bg-color: #3B4455;\n",
              "      --disabled-fill-color: #666;\n",
              "  }\n",
              "\n",
              "  .colab-df-quickchart {\n",
              "    background-color: var(--bg-color);\n",
              "    border: none;\n",
              "    border-radius: 50%;\n",
              "    cursor: pointer;\n",
              "    display: none;\n",
              "    fill: var(--fill-color);\n",
              "    height: 32px;\n",
              "    padding: 0;\n",
              "    width: 32px;\n",
              "  }\n",
              "\n",
              "  .colab-df-quickchart:hover {\n",
              "    background-color: var(--hover-bg-color);\n",
              "    box-shadow: 0 1px 2px rgba(60, 64, 67, 0.3), 0 1px 3px 1px rgba(60, 64, 67, 0.15);\n",
              "    fill: var(--button-hover-fill-color);\n",
              "  }\n",
              "\n",
              "  .colab-df-quickchart-complete:disabled,\n",
              "  .colab-df-quickchart-complete:disabled:hover {\n",
              "    background-color: var(--disabled-bg-color);\n",
              "    fill: var(--disabled-fill-color);\n",
              "    box-shadow: none;\n",
              "  }\n",
              "\n",
              "  .colab-df-spinner {\n",
              "    border: 2px solid var(--fill-color);\n",
              "    border-color: transparent;\n",
              "    border-bottom-color: var(--fill-color);\n",
              "    animation:\n",
              "      spin 1s steps(1) infinite;\n",
              "  }\n",
              "\n",
              "  @keyframes spin {\n",
              "    0% {\n",
              "      border-color: transparent;\n",
              "      border-bottom-color: var(--fill-color);\n",
              "      border-left-color: var(--fill-color);\n",
              "    }\n",
              "    20% {\n",
              "      border-color: transparent;\n",
              "      border-left-color: var(--fill-color);\n",
              "      border-top-color: var(--fill-color);\n",
              "    }\n",
              "    30% {\n",
              "      border-color: transparent;\n",
              "      border-left-color: var(--fill-color);\n",
              "      border-top-color: var(--fill-color);\n",
              "      border-right-color: var(--fill-color);\n",
              "    }\n",
              "    40% {\n",
              "      border-color: transparent;\n",
              "      border-right-color: var(--fill-color);\n",
              "      border-top-color: var(--fill-color);\n",
              "    }\n",
              "    60% {\n",
              "      border-color: transparent;\n",
              "      border-right-color: var(--fill-color);\n",
              "    }\n",
              "    80% {\n",
              "      border-color: transparent;\n",
              "      border-right-color: var(--fill-color);\n",
              "      border-bottom-color: var(--fill-color);\n",
              "    }\n",
              "    90% {\n",
              "      border-color: transparent;\n",
              "      border-bottom-color: var(--fill-color);\n",
              "    }\n",
              "  }\n",
              "</style>\n",
              "\n",
              "  <script>\n",
              "    async function quickchart(key) {\n",
              "      const quickchartButtonEl =\n",
              "        document.querySelector('#' + key + ' button');\n",
              "      quickchartButtonEl.disabled = true;  // To prevent multiple clicks.\n",
              "      quickchartButtonEl.classList.add('colab-df-spinner');\n",
              "      try {\n",
              "        const charts = await google.colab.kernel.invokeFunction(\n",
              "            'suggestCharts', [key], {});\n",
              "      } catch (error) {\n",
              "        console.error('Error during call to suggestCharts:', error);\n",
              "      }\n",
              "      quickchartButtonEl.classList.remove('colab-df-spinner');\n",
              "      quickchartButtonEl.classList.add('colab-df-quickchart-complete');\n",
              "    }\n",
              "    (() => {\n",
              "      let quickchartButtonEl =\n",
              "        document.querySelector('#df-dcd6b9ba-798b-456a-96be-1427079f90b8 button');\n",
              "      quickchartButtonEl.style.display =\n",
              "        google.colab.kernel.accessAllowed ? 'block' : 'none';\n",
              "    })();\n",
              "  </script>\n",
              "</div>\n",
              "    </div>\n",
              "  </div>\n"
            ],
            "application/vnd.google.colaboratory.intrinsic+json": {
              "type": "dataframe",
              "variable_name": "df",
              "summary": "{\n  \"name\": \"df\",\n  \"rows\": 1190,\n  \"fields\": [\n    {\n      \"column\": \"age\",\n      \"properties\": {\n        \"dtype\": \"number\",\n        \"std\": 9,\n        \"min\": 28,\n        \"max\": 77,\n        \"num_unique_values\": 50,\n        \"samples\": [\n          44,\n          68,\n          66\n        ],\n        \"semantic_type\": \"\",\n        \"description\": \"\"\n      }\n    },\n    {\n      \"column\": \"sex\",\n      \"properties\": {\n        \"dtype\": \"number\",\n        \"std\": 0,\n        \"min\": 0,\n        \"max\": 1,\n        \"num_unique_values\": 2,\n        \"samples\": [\n          0,\n          1\n        ],\n        \"semantic_type\": \"\",\n        \"description\": \"\"\n      }\n    },\n    {\n      \"column\": \"chest pain type\",\n      \"properties\": {\n        \"dtype\": \"number\",\n        \"std\": 0,\n        \"min\": 1,\n        \"max\": 4,\n        \"num_unique_values\": 4,\n        \"samples\": [\n          3,\n          1\n        ],\n        \"semantic_type\": \"\",\n        \"description\": \"\"\n      }\n    },\n    {\n      \"column\": \"resting bp s\",\n      \"properties\": {\n        \"dtype\": \"number\",\n        \"std\": 18,\n        \"min\": 0,\n        \"max\": 200,\n        \"num_unique_values\": 67,\n        \"samples\": [\n          165,\n          118\n        ],\n        \"semantic_type\": \"\",\n        \"description\": \"\"\n      }\n    },\n    {\n      \"column\": \"cholesterol\",\n      \"properties\": {\n        \"dtype\": \"number\",\n        \"std\": 101,\n        \"min\": 0,\n        \"max\": 603,\n        \"num_unique_values\": 222,\n        \"samples\": [\n          305,\n          321\n        ],\n        \"semantic_type\": \"\",\n        \"description\": \"\"\n      }\n    },\n    {\n      \"column\": \"fasting blood sugar\",\n      \"properties\": {\n        \"dtype\": \"number\",\n        \"std\": 0,\n        \"min\": 0,\n        \"max\": 1,\n        \"num_unique_values\": 2,\n        \"samples\": [\n          1,\n          0\n        ],\n        \"semantic_type\": \"\",\n        \"description\": \"\"\n      }\n    },\n    {\n      \"column\": \"resting ecg\",\n      \"properties\": {\n        \"dtype\": \"number\",\n        \"std\": 0,\n        \"min\": 0,\n        \"max\": 2,\n        \"num_unique_values\": 3,\n        \"samples\": [\n          0,\n          1\n        ],\n        \"semantic_type\": \"\",\n        \"description\": \"\"\n      }\n    },\n    {\n      \"column\": \"max heart rate\",\n      \"properties\": {\n        \"dtype\": \"number\",\n        \"std\": 25,\n        \"min\": 60,\n        \"max\": 202,\n        \"num_unique_values\": 119,\n        \"samples\": [\n          132,\n          157\n        ],\n        \"semantic_type\": \"\",\n        \"description\": \"\"\n      }\n    },\n    {\n      \"column\": \"exercise angina\",\n      \"properties\": {\n        \"dtype\": \"number\",\n        \"std\": 0,\n        \"min\": 0,\n        \"max\": 1,\n        \"num_unique_values\": 2,\n        \"samples\": [\n          1,\n          0\n        ],\n        \"semantic_type\": \"\",\n        \"description\": \"\"\n      }\n    },\n    {\n      \"column\": \"oldpeak\",\n      \"properties\": {\n        \"dtype\": \"number\",\n        \"std\": 1.0863372185219862,\n        \"min\": -2.6,\n        \"max\": 6.2,\n        \"num_unique_values\": 53,\n        \"samples\": [\n          1.3,\n          0.6\n        ],\n        \"semantic_type\": \"\",\n        \"description\": \"\"\n      }\n    },\n    {\n      \"column\": \"ST slope\",\n      \"properties\": {\n        \"dtype\": \"number\",\n        \"std\": 0,\n        \"min\": 0,\n        \"max\": 3,\n        \"num_unique_values\": 4,\n        \"samples\": [\n          2,\n          0\n        ],\n        \"semantic_type\": \"\",\n        \"description\": \"\"\n      }\n    },\n    {\n      \"column\": \"target\",\n      \"properties\": {\n        \"dtype\": \"number\",\n        \"std\": 0,\n        \"min\": 0,\n        \"max\": 1,\n        \"num_unique_values\": 2,\n        \"samples\": [\n          1,\n          0\n        ],\n        \"semantic_type\": \"\",\n        \"description\": \"\"\n      }\n    }\n  ]\n}"
            }
          },
          "metadata": {},
          "execution_count": 4
        }
      ],
      "source": [
        "#reading heart disease classification dataset. Please refer this documentation: /content/data/documentation.pdf\n",
        "df = '/content/data/heart_statlog_cleveland_hungary_final.csv'\n",
        "df = pd.read_csv(df)\n",
        "df"
      ]
    },
    {
      "cell_type": "code",
      "execution_count": 5,
      "metadata": {
        "colab": {
          "base_uri": "https://localhost:8080/"
        },
        "id": "lbj3N_madS93",
        "outputId": "44ad624d-853f-44ac-a024-8cc12721cf6e"
      },
      "outputs": [
        {
          "output_type": "stream",
          "name": "stderr",
          "text": [
            "/usr/local/lib/python3.10/dist-packages/ipykernel/ipkernel.py:283: DeprecationWarning: `should_run_async` will not call `transform_cell` automatically in the future. Please pass the result to `transformed_cell` argument and any exception that happen during thetransform in `preprocessing_exc_tuple` in IPython 7.17 and above.\n",
            "  and should_run_async(code)\n"
          ]
        },
        {
          "output_type": "execute_result",
          "data": {
            "text/plain": [
              "array([[-1.46672783,  0.55599543, -1.31835093, ..., -0.79521891,\n",
              "        -0.84979236, -1.02321701],\n",
              "       [-0.50460037, -1.79857595, -0.24893198, ..., -0.79521891,\n",
              "         0.07111913,  0.61558278],\n",
              "       [-1.78743698,  0.55599543, -1.31835093, ..., -0.79521891,\n",
              "        -0.84979236, -1.02321701],\n",
              "       ...,\n",
              "       [ 0.35062404,  0.55599543,  0.82048698, ...,  1.25751537,\n",
              "         0.25530143,  0.61558278],\n",
              "       [ 0.35062404, -1.79857595, -1.31835093, ..., -0.79521891,\n",
              "        -0.84979236,  0.61558278],\n",
              "       [-1.68053393,  0.55599543, -0.24893198, ..., -0.79521891,\n",
              "        -0.84979236, -1.02321701]])"
            ]
          },
          "metadata": {},
          "execution_count": 5
        }
      ],
      "source": [
        "#extracting input and output data from the training dataset\n",
        "#excluding all column, except a last one\n",
        "X = df.iloc[:, :-1]\n",
        "#excluding only the last column\n",
        "y = df.iloc[:, -1]\n",
        "#fitting the scaler on the features\n",
        "scaler = StandardScaler().fit(X)\n",
        "#scaling the features\n",
        "X_scaled = scaler.transform(X)\n",
        "X_scaled"
      ]
    },
    {
      "cell_type": "code",
      "execution_count": 6,
      "metadata": {
        "colab": {
          "base_uri": "https://localhost:8080/"
        },
        "id": "MRjX9xomebbx",
        "outputId": "b03faae3-2bc0-4a33-b1e4-069e735b32ee"
      },
      "outputs": [
        {
          "output_type": "stream",
          "name": "stderr",
          "text": [
            "/usr/local/lib/python3.10/dist-packages/ipykernel/ipkernel.py:283: DeprecationWarning: `should_run_async` will not call `transform_cell` automatically in the future. Please pass the result to `transformed_cell` argument and any exception that happen during thetransform in `preprocessing_exc_tuple` in IPython 7.17 and above.\n",
            "  and should_run_async(code)\n"
          ]
        },
        {
          "output_type": "execute_result",
          "data": {
            "text/plain": [
              "array([[-1.35982478,  0.55599543,  0.82048698, ..., -0.79521891,\n",
              "        -0.84979236, -1.02321701],\n",
              "       [-1.35982478,  0.55599543,  0.82048698, ..., -0.79521891,\n",
              "        -0.84979236, -1.02321701],\n",
              "       [ 0.67133319,  0.55599543,  0.82048698, ...,  1.25751537,\n",
              "         0.16321028,  2.25438257],\n",
              "       ...,\n",
              "       [-1.35982478, -1.79857595, -0.24893198, ...,  1.25751537,\n",
              "        -0.84979236, -1.02321701],\n",
              "       [-1.68053393, -1.79857595,  0.82048698, ..., -0.79521891,\n",
              "         1.72875982, -1.02321701],\n",
              "       [ 1.0989454 ,  0.55599543,  0.82048698, ...,  1.25751537,\n",
              "         0.53157488,  0.61558278]])"
            ]
          },
          "metadata": {},
          "execution_count": 6
        }
      ],
      "source": [
        "#splitting dataset into train and test sets\n",
        "X_train, X_test, y_train, y_test = train_test_split(X_scaled, y, test_size=0.3, random_state=12, stratify=y)\n",
        "X_train"
      ]
    },
    {
      "cell_type": "code",
      "execution_count": 7,
      "metadata": {
        "colab": {
          "base_uri": "https://localhost:8080/"
        },
        "id": "4z51Tl_cj9oB",
        "outputId": "bebb99fc-31be-4931-c98d-6c194262d7fb"
      },
      "outputs": [
        {
          "output_type": "stream",
          "name": "stdout",
          "text": [
            "(833, 11)\n",
            "(833,)\n",
            "(357, 11)\n",
            "(357,)\n"
          ]
        },
        {
          "output_type": "stream",
          "name": "stderr",
          "text": [
            "/usr/local/lib/python3.10/dist-packages/ipykernel/ipkernel.py:283: DeprecationWarning: `should_run_async` will not call `transform_cell` automatically in the future. Please pass the result to `transformed_cell` argument and any exception that happen during thetransform in `preprocessing_exc_tuple` in IPython 7.17 and above.\n",
            "  and should_run_async(code)\n"
          ]
        }
      ],
      "source": [
        "#checking shape of the train and test datasets\n",
        "print(X_train.shape)\n",
        "print(y_train.shape)\n",
        "print(X_test.shape)\n",
        "print(y_test.shape)"
      ]
    },
    {
      "cell_type": "code",
      "execution_count": 15,
      "metadata": {
        "colab": {
          "base_uri": "https://localhost:8080/"
        },
        "id": "lG-1ijJaldSS",
        "outputId": "a277777a-0d10-42d0-e5b7-cfc4c764532e"
      },
      "outputs": [
        {
          "output_type": "stream",
          "name": "stderr",
          "text": [
            "/usr/local/lib/python3.10/dist-packages/ipykernel/ipkernel.py:283: DeprecationWarning: `should_run_async` will not call `transform_cell` automatically in the future. Please pass the result to `transformed_cell` argument and any exception that happen during thetransform in `preprocessing_exc_tuple` in IPython 7.17 and above.\n",
            "  and should_run_async(code)\n",
            "100%|██████████| 100/100 [00:01<00:00, 59.18it/s]"
          ]
        },
        {
          "output_type": "stream",
          "name": "stdout",
          "text": [
            "\n",
            "Accuracy on Test Set: 0.6918767507002801\n",
            "Classification Report for Test Set:\n",
            "              precision    recall  f1-score   support\n",
            "\n",
            "           0       0.72      0.56      0.63       168\n",
            "           1       0.67      0.81      0.74       189\n",
            "\n",
            "    accuracy                           0.69       357\n",
            "   macro avg       0.70      0.68      0.68       357\n",
            "weighted avg       0.70      0.69      0.69       357\n",
            "\n",
            "Cohen's Kappa Score on Test Set: 0.37374413931681183\n",
            "Confusion Matrix for Test Set:\n",
            "[[ 94  74]\n",
            " [ 36 153]]\n"
          ]
        },
        {
          "output_type": "stream",
          "name": "stderr",
          "text": [
            "\n"
          ]
        }
      ],
      "source": [
        "#initializing a KANClassifier using GPU acceleration (CUDA device).\n",
        "#KANClassifier() has default value of each parameter.\n",
        "#There are parameters with their default values:\n",
        "# regularize_activation=1.0\n",
        "# regularize_entropy=1.0\n",
        "# regularize_ridge=0.0\n",
        "# grid_size=5,\n",
        "# spline_order=3,\n",
        "# scale_noise=0.1,\n",
        "# scale_base=1.0,\n",
        "# scale_spline=1.0,\n",
        "# base_activation=torch.nn.SiLU,\n",
        "# grid_eps=0.02,\n",
        "# grid_range=[-1, 1],\n",
        "model = KANClassifier(device='cuda')\n",
        "\n",
        "#training the model on training dataset (X_train, y_train)\n",
        "model=model.fit(X_train, y_train)\n",
        "#predicting output for the X_test dataset\n",
        "y_pred = model.predict(X_test)\n",
        "\n",
        "#accuracy on test dataset\n",
        "accuracy_test = accuracy_score(y_test, y_pred)\n",
        "print(\"\\nAccuracy on Test Set:\", accuracy_test)\n",
        "#classification report for the test set\n",
        "print(\"Classification Report for Test Set:\")\n",
        "print(classification_report(y_test, y_pred))\n",
        "#Cohen's Kappa score for the test set\n",
        "kappa_test = cohen_kappa_score(y_test, y_pred)\n",
        "print(\"Cohen's Kappa Score on Test Set:\", kappa_test)\n",
        "#confusion matrix for the test set\n",
        "conf_matrix_test = confusion_matrix(y_test, y_pred)\n",
        "print(\"Confusion Matrix for Test Set:\")\n",
        "print(conf_matrix_test)\n"
      ]
    },
    {
      "cell_type": "markdown",
      "metadata": {
        "id": "7E2TKBeLs9M3"
      },
      "source": [
        "###**Interpretation of basic model**\n",
        "\n",
        "1. The model achieved an accuracy of 61.18% on the test set, shows good predictive ability.\n",
        "\n",
        "2. The Cohen's Kappa score of 0.37 show moderate agreement between predicted and actual data points, indicating scope for improvement.\n",
        "\n",
        "3. Analysis of the confusion matrix (94 true positives, 153 true negatives, 74 false positives (FP), 36 false negatives(FN))\n",
        "\n",
        "4. There is need of improvement in model performance as there are 74 FP and 36 FN."
      ]
    },
    {
      "cell_type": "markdown",
      "source": [
        "Performace Metrics:\n",
        "\n",
        "* Cohen's Kappa: it measures the agreement between predicted and actual classifications, adjusted for chance.\n",
        "* Classification Report: it provides detailed performance metrics such as precision, recall, and F1-score for each class.\n",
        "* Confusion Matrix: it shows the true positives, false positives, true negatives, and false negatives, providing insights into the classification performance."
      ],
      "metadata": {
        "id": "7mY87s3FwDs0"
      }
    },
    {
      "cell_type": "code",
      "execution_count": 10,
      "metadata": {
        "id": "BuSVgVKpsMHy",
        "colab": {
          "base_uri": "https://localhost:8080/"
        },
        "outputId": "a7d0b848-ef6f-4801-a2fb-e46b2446bdb4"
      },
      "outputs": [
        {
          "output_type": "stream",
          "name": "stderr",
          "text": [
            "/usr/local/lib/python3.10/dist-packages/ipykernel/ipkernel.py:283: DeprecationWarning: `should_run_async` will not call `transform_cell` automatically in the future. Please pass the result to `transformed_cell` argument and any exception that happen during thetransform in `preprocessing_exc_tuple` in IPython 7.17 and above.\n",
            "  and should_run_async(code)\n",
            "100%|██████████| 100/100 [00:06<00:00, 15.68it/s]\n"
          ]
        },
        {
          "output_type": "stream",
          "name": "stdout",
          "text": [
            "32 0.1 0.1 0.1\n",
            "Accuracy on Test Set: 0.5910364145658263\n",
            "Cohen's Kappa Score on Test Set: 0.1643097643097644\n",
            "              precision    recall  f1-score   support\n",
            "\n",
            "           0       0.60      0.40      0.48       168\n",
            "           1       0.59      0.76      0.66       189\n",
            "\n",
            "    accuracy                           0.59       357\n",
            "   macro avg       0.59      0.58      0.57       357\n",
            "weighted avg       0.59      0.59      0.58       357\n",
            "\n",
            "Confusion Matrix for Test Set:\n",
            " [[ 68 100]\n",
            " [ 46 143]]\n"
          ]
        },
        {
          "output_type": "stream",
          "name": "stderr",
          "text": [
            "100%|██████████| 100/100 [00:03<00:00, 32.23it/s]\n"
          ]
        },
        {
          "output_type": "stream",
          "name": "stdout",
          "text": [
            "32 0.1 0.1 0.3\n",
            "Accuracy on Test Set: 0.6414565826330533\n",
            "Cohen's Kappa Score on Test Set: 0.27126590756865376\n",
            "              precision    recall  f1-score   support\n",
            "\n",
            "           0       0.65      0.51      0.57       168\n",
            "           1       0.63      0.76      0.69       189\n",
            "\n",
            "    accuracy                           0.64       357\n",
            "   macro avg       0.64      0.63      0.63       357\n",
            "weighted avg       0.64      0.64      0.63       357\n",
            "\n",
            "Confusion Matrix for Test Set:\n",
            " [[ 85  83]\n",
            " [ 45 144]]\n"
          ]
        },
        {
          "output_type": "stream",
          "name": "stderr",
          "text": [
            "100%|██████████| 100/100 [00:02<00:00, 33.50it/s]\n"
          ]
        },
        {
          "output_type": "stream",
          "name": "stdout",
          "text": [
            "32 0.1 0.3 0.1\n",
            "Accuracy on Test Set: 0.6078431372549019\n",
            "Cohen's Kappa Score on Test Set: 0.21761998685075612\n",
            "              precision    recall  f1-score   support\n",
            "\n",
            "           0       0.58      0.64      0.60       168\n",
            "           1       0.64      0.58      0.61       189\n",
            "\n",
            "    accuracy                           0.61       357\n",
            "   macro avg       0.61      0.61      0.61       357\n",
            "weighted avg       0.61      0.61      0.61       357\n",
            "\n",
            "Confusion Matrix for Test Set:\n",
            " [[107  61]\n",
            " [ 79 110]]\n"
          ]
        },
        {
          "output_type": "stream",
          "name": "stderr",
          "text": [
            "100%|██████████| 100/100 [00:02<00:00, 46.73it/s]\n"
          ]
        },
        {
          "output_type": "stream",
          "name": "stdout",
          "text": [
            "32 0.1 0.3 0.3\n",
            "Accuracy on Test Set: 0.5714285714285714\n",
            "Cohen's Kappa Score on Test Set: 0.15524520948359866\n",
            "              precision    recall  f1-score   support\n",
            "\n",
            "           0       0.53      0.71      0.61       168\n",
            "           1       0.63      0.45      0.53       189\n",
            "\n",
            "    accuracy                           0.57       357\n",
            "   macro avg       0.58      0.58      0.57       357\n",
            "weighted avg       0.59      0.57      0.57       357\n",
            "\n",
            "Confusion Matrix for Test Set:\n",
            " [[119  49]\n",
            " [104  85]]\n"
          ]
        },
        {
          "output_type": "stream",
          "name": "stderr",
          "text": [
            "100%|██████████| 100/100 [00:02<00:00, 36.10it/s]\n"
          ]
        },
        {
          "output_type": "stream",
          "name": "stdout",
          "text": [
            "32 0.3 0.1 0.1\n",
            "Accuracy on Test Set: 0.5434173669467787\n",
            "Cohen's Kappa Score on Test Set: 0.09944751381215466\n",
            "              precision    recall  f1-score   support\n",
            "\n",
            "           0       0.51      0.67      0.58       168\n",
            "           1       0.60      0.43      0.50       189\n",
            "\n",
            "    accuracy                           0.54       357\n",
            "   macro avg       0.55      0.55      0.54       357\n",
            "weighted avg       0.56      0.54      0.54       357\n",
            "\n",
            "Confusion Matrix for Test Set:\n",
            " [[113  55]\n",
            " [108  81]]\n"
          ]
        },
        {
          "output_type": "stream",
          "name": "stderr",
          "text": [
            "100%|██████████| 100/100 [00:01<00:00, 56.60it/s]\n"
          ]
        },
        {
          "output_type": "stream",
          "name": "stdout",
          "text": [
            "32 0.3 0.1 0.3\n",
            "Accuracy on Test Set: 0.6526610644257703\n",
            "Cohen's Kappa Score on Test Set: 0.30566534914361\n",
            "              precision    recall  f1-score   support\n",
            "\n",
            "           0       0.62      0.67      0.64       168\n",
            "           1       0.68      0.64      0.66       189\n",
            "\n",
            "    accuracy                           0.65       357\n",
            "   macro avg       0.65      0.65      0.65       357\n",
            "weighted avg       0.65      0.65      0.65       357\n",
            "\n",
            "Confusion Matrix for Test Set:\n",
            " [[112  56]\n",
            " [ 68 121]]\n"
          ]
        },
        {
          "output_type": "stream",
          "name": "stderr",
          "text": [
            "100%|██████████| 100/100 [00:02<00:00, 33.52it/s]\n"
          ]
        },
        {
          "output_type": "stream",
          "name": "stdout",
          "text": [
            "32 0.3 0.3 0.1\n",
            "Accuracy on Test Set: 0.5042016806722689\n",
            "Cohen's Kappa Score on Test Set: 0.003972194637537285\n",
            "              precision    recall  f1-score   support\n",
            "\n",
            "           0       0.47      0.46      0.47       168\n",
            "           1       0.53      0.54      0.54       189\n",
            "\n",
            "    accuracy                           0.50       357\n",
            "   macro avg       0.50      0.50      0.50       357\n",
            "weighted avg       0.50      0.50      0.50       357\n",
            "\n",
            "Confusion Matrix for Test Set:\n",
            " [[ 78  90]\n",
            " [ 87 102]]\n"
          ]
        },
        {
          "output_type": "stream",
          "name": "stderr",
          "text": [
            "100%|██████████| 100/100 [00:03<00:00, 30.36it/s]\n"
          ]
        },
        {
          "output_type": "stream",
          "name": "stdout",
          "text": [
            "32 0.3 0.3 0.3\n",
            "Accuracy on Test Set: 0.7338935574229691\n",
            "Cohen's Kappa Score on Test Set: 0.4636333444038525\n",
            "              precision    recall  f1-score   support\n",
            "\n",
            "           0       0.74      0.68      0.71       168\n",
            "           1       0.73      0.78      0.76       189\n",
            "\n",
            "    accuracy                           0.73       357\n",
            "   macro avg       0.73      0.73      0.73       357\n",
            "weighted avg       0.73      0.73      0.73       357\n",
            "\n",
            "Confusion Matrix for Test Set:\n",
            " [[114  54]\n",
            " [ 41 148]]\n"
          ]
        },
        {
          "output_type": "stream",
          "name": "stderr",
          "text": [
            "100%|██████████| 100/100 [00:02<00:00, 34.06it/s]\n"
          ]
        },
        {
          "output_type": "stream",
          "name": "stdout",
          "text": [
            "64 0.1 0.1 0.1\n",
            "Accuracy on Test Set: 0.7675070028011205\n",
            "Cohen's Kappa Score on Test Set: 0.5344770702738371\n",
            "              precision    recall  f1-score   support\n",
            "\n",
            "           0       0.74      0.77      0.76       168\n",
            "           1       0.79      0.76      0.78       189\n",
            "\n",
            "    accuracy                           0.77       357\n",
            "   macro avg       0.77      0.77      0.77       357\n",
            "weighted avg       0.77      0.77      0.77       357\n",
            "\n",
            "Confusion Matrix for Test Set:\n",
            " [[130  38]\n",
            " [ 45 144]]\n"
          ]
        },
        {
          "output_type": "stream",
          "name": "stderr",
          "text": [
            "100%|██████████| 100/100 [00:02<00:00, 45.65it/s]\n"
          ]
        },
        {
          "output_type": "stream",
          "name": "stdout",
          "text": [
            "64 0.1 0.1 0.3\n",
            "Accuracy on Test Set: 0.7787114845938375\n",
            "Cohen's Kappa Score on Test Set: 0.5524825058313896\n",
            "              precision    recall  f1-score   support\n",
            "\n",
            "           0       0.81      0.70      0.75       168\n",
            "           1       0.76      0.85      0.80       189\n",
            "\n",
            "    accuracy                           0.78       357\n",
            "   macro avg       0.78      0.77      0.78       357\n",
            "weighted avg       0.78      0.78      0.78       357\n",
            "\n",
            "Confusion Matrix for Test Set:\n",
            " [[117  51]\n",
            " [ 28 161]]\n"
          ]
        },
        {
          "output_type": "stream",
          "name": "stderr",
          "text": [
            "100%|██████████| 100/100 [00:01<00:00, 58.65it/s]\n"
          ]
        },
        {
          "output_type": "stream",
          "name": "stdout",
          "text": [
            "64 0.1 0.3 0.1\n",
            "Accuracy on Test Set: 0.7254901960784313\n",
            "Cohen's Kappa Score on Test Set: 0.44131455399061026\n",
            "              precision    recall  f1-score   support\n",
            "\n",
            "           0       0.78      0.58      0.67       168\n",
            "           1       0.70      0.85      0.77       189\n",
            "\n",
            "    accuracy                           0.73       357\n",
            "   macro avg       0.74      0.72      0.72       357\n",
            "weighted avg       0.73      0.73      0.72       357\n",
            "\n",
            "Confusion Matrix for Test Set:\n",
            " [[ 98  70]\n",
            " [ 28 161]]\n"
          ]
        },
        {
          "output_type": "stream",
          "name": "stderr",
          "text": [
            "100%|██████████| 100/100 [00:01<00:00, 58.69it/s]\n"
          ]
        },
        {
          "output_type": "stream",
          "name": "stdout",
          "text": [
            "64 0.1 0.3 0.3\n",
            "Accuracy on Test Set: 0.7619047619047619\n",
            "Cohen's Kappa Score on Test Set: 0.5162370271175092\n",
            "              precision    recall  f1-score   support\n",
            "\n",
            "           0       0.82      0.64      0.72       168\n",
            "           1       0.73      0.87      0.80       189\n",
            "\n",
            "    accuracy                           0.76       357\n",
            "   macro avg       0.77      0.75      0.76       357\n",
            "weighted avg       0.77      0.76      0.76       357\n",
            "\n",
            "Confusion Matrix for Test Set:\n",
            " [[107  61]\n",
            " [ 24 165]]\n"
          ]
        },
        {
          "output_type": "stream",
          "name": "stderr",
          "text": [
            "100%|██████████| 100/100 [00:01<00:00, 58.59it/s]\n"
          ]
        },
        {
          "output_type": "stream",
          "name": "stdout",
          "text": [
            "64 0.3 0.1 0.1\n",
            "Accuracy on Test Set: 0.7927170868347339\n",
            "Cohen's Kappa Score on Test Set: 0.5815036593479708\n",
            "              precision    recall  f1-score   support\n",
            "\n",
            "           0       0.81      0.73      0.77       168\n",
            "           1       0.78      0.85      0.81       189\n",
            "\n",
            "    accuracy                           0.79       357\n",
            "   macro avg       0.80      0.79      0.79       357\n",
            "weighted avg       0.79      0.79      0.79       357\n",
            "\n",
            "Confusion Matrix for Test Set:\n",
            " [[122  46]\n",
            " [ 28 161]]\n"
          ]
        },
        {
          "output_type": "stream",
          "name": "stderr",
          "text": [
            "100%|██████████| 100/100 [00:02<00:00, 49.94it/s]\n"
          ]
        },
        {
          "output_type": "stream",
          "name": "stdout",
          "text": [
            "64 0.3 0.1 0.3\n",
            "Accuracy on Test Set: 0.711484593837535\n",
            "Cohen's Kappa Score on Test Set: 0.41535893155258763\n",
            "              precision    recall  f1-score   support\n",
            "\n",
            "           0       0.73      0.61      0.66       168\n",
            "           1       0.70      0.80      0.75       189\n",
            "\n",
            "    accuracy                           0.71       357\n",
            "   macro avg       0.72      0.71      0.71       357\n",
            "weighted avg       0.71      0.71      0.71       357\n",
            "\n",
            "Confusion Matrix for Test Set:\n",
            " [[102  66]\n",
            " [ 37 152]]\n"
          ]
        },
        {
          "output_type": "stream",
          "name": "stderr",
          "text": [
            "100%|██████████| 100/100 [00:01<00:00, 57.73it/s]\n"
          ]
        },
        {
          "output_type": "stream",
          "name": "stdout",
          "text": [
            "64 0.3 0.3 0.1\n",
            "Accuracy on Test Set: 0.6610644257703081\n",
            "Cohen's Kappa Score on Test Set: 0.32134609039920814\n",
            "              precision    recall  f1-score   support\n",
            "\n",
            "           0       0.63      0.66      0.65       168\n",
            "           1       0.69      0.66      0.67       189\n",
            "\n",
            "    accuracy                           0.66       357\n",
            "   macro avg       0.66      0.66      0.66       357\n",
            "weighted avg       0.66      0.66      0.66       357\n",
            "\n",
            "Confusion Matrix for Test Set:\n",
            " [[111  57]\n",
            " [ 64 125]]\n"
          ]
        },
        {
          "output_type": "stream",
          "name": "stderr",
          "text": [
            "100%|██████████| 100/100 [00:02<00:00, 39.04it/s]"
          ]
        },
        {
          "output_type": "stream",
          "name": "stdout",
          "text": [
            "64 0.3 0.3 0.3\n",
            "Accuracy on Test Set: 0.7703081232492998\n",
            "Cohen's Kappa Score on Test Set: 0.5393258426966292\n",
            "              precision    recall  f1-score   support\n",
            "\n",
            "           0       0.75      0.76      0.76       168\n",
            "           1       0.79      0.78      0.78       189\n",
            "\n",
            "    accuracy                           0.77       357\n",
            "   macro avg       0.77      0.77      0.77       357\n",
            "weighted avg       0.77      0.77      0.77       357\n",
            "\n",
            "Confusion Matrix for Test Set:\n",
            " [[128  40]\n",
            " [ 42 147]]\n"
          ]
        },
        {
          "output_type": "stream",
          "name": "stderr",
          "text": [
            "\n"
          ]
        }
      ],
      "source": [
        "#defining hyperparameter ranges\n",
        "#adjusting hidden layer sizes\n",
        "hidden_layers = [32, 64]\n",
        "#different activation regularization values\n",
        "activations = [0.1, 0.3]\n",
        "#different entropy regularization values\n",
        "entropies = [0.1, 0.3]\n",
        "#different ridge regularization values\n",
        "ridges = [0.1, 0.3]\n",
        "#iterating through combinations of hyperparameters including the new dropout rate\n",
        "for hidden_layer_size in hidden_layers:\n",
        "    for regularize_activation in activations:\n",
        "        for regularize_entropy in entropies:\n",
        "            for regularize_ridge in ridges:\n",
        "                    kan_model = KANClassifier(hidden_layer_size=hidden_layer_size, device='cuda',\n",
        "                                          regularize_activation=regularize_activation,\n",
        "                                          regularize_entropy=regularize_entropy,\n",
        "                                          regularize_ridge=regularize_ridge)\n",
        "\n",
        "                    #training the model\n",
        "                    kan_model.fit(X_train, y_train)\n",
        "                    #predicting data points using 'kan_model'\n",
        "                    y_pred = kan_model.predict(X_test)\n",
        "                    #printing hyperparameter values\n",
        "                    print(hidden_layer_size, regularize_activation, regularize_entropy, regularize_ridge)\n",
        "                    #accuracy on test dataset\n",
        "                    accuracy_test = accuracy_score(y_test, y_pred)\n",
        "                    print(\"Accuracy on Test Set:\", accuracy_test)\n",
        "\n",
        "                    #Cohen's Kappa score for the test set\n",
        "                    kappa_test = cohen_kappa_score(y_test, y_pred)\n",
        "                    print(\"Cohen's Kappa Score on Test Set:\", kappa_test)\n",
        "\n",
        "                    #classification report for the test set\n",
        "                    #print(\"Classification Report for Test Set:\")\n",
        "                    print(classification_report(y_test, y_pred))\n",
        "\n",
        "                    #confusion matrix for the test set\n",
        "                    conf_matrix_test = confusion_matrix(y_test, y_pred)\n",
        "                    print(\"Confusion Matrix for Test Set:\\n\", conf_matrix_test)\n"
      ]
    },
    {
      "cell_type": "code",
      "source": [
        "#defining hyperparameter ranges\n",
        "#adjusting hidden layer sizes\n",
        "hidden_layers = [32, 64, 128]\n",
        "#different activation regularization values\n",
        "activations = [0.1, 0.3, 0.5]\n",
        "#different entropy regularization values\n",
        "entropies = [0.1, 0.3, 0.5]\n",
        "#different ridge regularization values\n",
        "ridges = [0.1, 0.3, 0.5, 0.7]\n",
        "#different spline_order values\n",
        "splineOrder = [3, 5]\n",
        "#iterating through combinations of hyperparameters including the new dropout rate\n",
        "for hidden_layer_size in hidden_layers:\n",
        "    for regularize_activation in activations:\n",
        "        for regularize_entropy in entropies:\n",
        "            for regularize_ridge in ridges:\n",
        "              for spline_order in splineOrder:\n",
        "                    kan_model = KANClassifier(hidden_layer_size=hidden_layer_size, device='cuda',\n",
        "                                          regularize_activation=regularize_activation,\n",
        "                                          regularize_entropy=regularize_entropy,\n",
        "                                          regularize_ridge=regularize_ridge,\n",
        "                                          spline_order=spline_order)\n",
        "\n",
        "                    #training the model\n",
        "                    kan_model.fit(X_train, y_train)\n",
        "                    #predicting data points using 'kan_model'\n",
        "                    y_pred = kan_model.predict(X_test)\n",
        "                    #printing hyperparameter values\n",
        "                    print(hidden_layer_size, regularize_activation, regularize_entropy, regularize_ridge, spline_order)\n",
        "                    #accuracy on test dataset\n",
        "                    accuracy_test = accuracy_score(y_test, y_pred)\n",
        "                    print(\"Accuracy on Test Set:\", accuracy_test)\n",
        "\n",
        "                    #Cohen's Kappa score for the test set\n",
        "                    kappa_test = cohen_kappa_score(y_test, y_pred)\n",
        "                    print(\"Cohen's Kappa Score on Test Set:\", kappa_test)\n",
        "\n",
        "                    #classification report for the test set\n",
        "                    #print(\"Classification Report for Test Set:\")\n",
        "                    print(classification_report(y_test, y_pred))\n",
        "\n",
        "                    #confusion matrix for the test set\n",
        "                    conf_matrix_test = confusion_matrix(y_test, y_pred)\n",
        "                    print(\"Confusion Matrix for Test Set:\\n\", conf_matrix_test)\n"
      ],
      "metadata": {
        "id": "H8qXJ2pZ3VNf",
        "colab": {
          "base_uri": "https://localhost:8080/"
        },
        "outputId": "c3972200-1510-4b7e-fa8d-52fda16b7449"
      },
      "execution_count": 12,
      "outputs": [
        {
          "output_type": "stream",
          "name": "stderr",
          "text": [
            "/usr/local/lib/python3.10/dist-packages/ipykernel/ipkernel.py:283: DeprecationWarning: `should_run_async` will not call `transform_cell` automatically in the future. Please pass the result to `transformed_cell` argument and any exception that happen during thetransform in `preprocessing_exc_tuple` in IPython 7.17 and above.\n",
            "  and should_run_async(code)\n",
            "100%|██████████| 100/100 [00:01<00:00, 57.69it/s]\n"
          ]
        },
        {
          "output_type": "stream",
          "name": "stdout",
          "text": [
            "32 0.1 0.1 0.1 3\n",
            "Accuracy on Test Set: 0.5378151260504201\n",
            "Cohen's Kappa Score on Test Set: 0.09836065573770492\n",
            "              precision    recall  f1-score   support\n",
            "\n",
            "           0       0.51      0.77      0.61       168\n",
            "           1       0.62      0.33      0.43       189\n",
            "\n",
            "    accuracy                           0.54       357\n",
            "   macro avg       0.56      0.55      0.52       357\n",
            "weighted avg       0.57      0.54      0.52       357\n",
            "\n",
            "Confusion Matrix for Test Set:\n",
            " [[129  39]\n",
            " [126  63]]\n"
          ]
        },
        {
          "output_type": "stream",
          "name": "stderr",
          "text": [
            "100%|██████████| 100/100 [00:02<00:00, 49.18it/s]\n"
          ]
        },
        {
          "output_type": "stream",
          "name": "stdout",
          "text": [
            "32 0.1 0.1 0.1 5\n",
            "Accuracy on Test Set: 0.5966386554621849\n",
            "Cohen's Kappa Score on Test Set: 0.17129316181448873\n",
            "              precision    recall  f1-score   support\n",
            "\n",
            "           0       0.62      0.36      0.46       168\n",
            "           1       0.59      0.80      0.68       189\n",
            "\n",
            "    accuracy                           0.60       357\n",
            "   macro avg       0.60      0.58      0.57       357\n",
            "weighted avg       0.60      0.60      0.58       357\n",
            "\n",
            "Confusion Matrix for Test Set:\n",
            " [[ 61 107]\n",
            " [ 37 152]]\n"
          ]
        },
        {
          "output_type": "stream",
          "name": "stderr",
          "text": [
            " 58%|█████▊    | 58/100 [00:01<00:00, 57.91it/s]\n"
          ]
        },
        {
          "output_type": "stream",
          "name": "stdout",
          "text": [
            "\tEarly stopping\n",
            "32 0.1 0.1 0.3 3\n",
            "Accuracy on Test Set: 0.5854341736694678\n",
            "Cohen's Kappa Score on Test Set: 0.17127799736495386\n",
            "              precision    recall  f1-score   support\n",
            "\n",
            "           0       0.56      0.60      0.57       168\n",
            "           1       0.62      0.58      0.60       189\n",
            "\n",
            "    accuracy                           0.59       357\n",
            "   macro avg       0.59      0.59      0.59       357\n",
            "weighted avg       0.59      0.59      0.59       357\n",
            "\n",
            "Confusion Matrix for Test Set:\n",
            " [[100  68]\n",
            " [ 80 109]]\n"
          ]
        },
        {
          "output_type": "stream",
          "name": "stderr",
          "text": [
            "100%|██████████| 100/100 [00:01<00:00, 58.38it/s]\n"
          ]
        },
        {
          "output_type": "stream",
          "name": "stdout",
          "text": [
            "32 0.1 0.1 0.3 5\n",
            "Accuracy on Test Set: 0.6778711484593838\n",
            "Cohen's Kappa Score on Test Set: 0.3454971543354537\n",
            "              precision    recall  f1-score   support\n",
            "\n",
            "           0       0.70      0.55      0.62       168\n",
            "           1       0.66      0.79      0.72       189\n",
            "\n",
            "    accuracy                           0.68       357\n",
            "   macro avg       0.68      0.67      0.67       357\n",
            "weighted avg       0.68      0.68      0.67       357\n",
            "\n",
            "Confusion Matrix for Test Set:\n",
            " [[ 92  76]\n",
            " [ 39 150]]\n"
          ]
        },
        {
          "output_type": "stream",
          "name": "stderr",
          "text": [
            "100%|██████████| 100/100 [00:01<00:00, 58.50it/s]\n"
          ]
        },
        {
          "output_type": "stream",
          "name": "stdout",
          "text": [
            "32 0.1 0.1 0.5 3\n",
            "Accuracy on Test Set: 0.5630252100840336\n",
            "Cohen's Kappa Score on Test Set: 0.12417437252311758\n",
            "              precision    recall  f1-score   support\n",
            "\n",
            "           0       0.53      0.55      0.54       168\n",
            "           1       0.59      0.58      0.58       189\n",
            "\n",
            "    accuracy                           0.56       357\n",
            "   macro avg       0.56      0.56      0.56       357\n",
            "weighted avg       0.56      0.56      0.56       357\n",
            "\n",
            "Confusion Matrix for Test Set:\n",
            " [[ 92  76]\n",
            " [ 80 109]]\n"
          ]
        },
        {
          "output_type": "stream",
          "name": "stderr",
          "text": [
            "100%|██████████| 100/100 [00:02<00:00, 42.55it/s]\n"
          ]
        },
        {
          "output_type": "stream",
          "name": "stdout",
          "text": [
            "32 0.1 0.1 0.5 5\n",
            "Accuracy on Test Set: 0.6330532212885154\n",
            "Cohen's Kappa Score on Test Set: 0.2554329655633567\n",
            "              precision    recall  f1-score   support\n",
            "\n",
            "           0       0.64      0.51      0.57       168\n",
            "           1       0.63      0.74      0.68       189\n",
            "\n",
            "    accuracy                           0.63       357\n",
            "   macro avg       0.63      0.63      0.62       357\n",
            "weighted avg       0.63      0.63      0.63       357\n",
            "\n",
            "Confusion Matrix for Test Set:\n",
            " [[ 86  82]\n",
            " [ 49 140]]\n"
          ]
        },
        {
          "output_type": "stream",
          "name": "stderr",
          "text": [
            "100%|██████████| 100/100 [00:02<00:00, 45.99it/s]\n"
          ]
        },
        {
          "output_type": "stream",
          "name": "stdout",
          "text": [
            "32 0.1 0.1 0.7 3\n",
            "Accuracy on Test Set: 0.7142857142857143\n",
            "Cohen's Kappa Score on Test Set: 0.4262078093977498\n",
            "              precision    recall  f1-score   support\n",
            "\n",
            "           0       0.70      0.69      0.69       168\n",
            "           1       0.73      0.74      0.73       189\n",
            "\n",
            "    accuracy                           0.71       357\n",
            "   macro avg       0.71      0.71      0.71       357\n",
            "weighted avg       0.71      0.71      0.71       357\n",
            "\n",
            "Confusion Matrix for Test Set:\n",
            " [[116  52]\n",
            " [ 50 139]]\n"
          ]
        },
        {
          "output_type": "stream",
          "name": "stderr",
          "text": [
            "100%|██████████| 100/100 [00:01<00:00, 58.07it/s]\n"
          ]
        },
        {
          "output_type": "stream",
          "name": "stdout",
          "text": [
            "32 0.1 0.1 0.7 5\n",
            "Accuracy on Test Set: 0.7647058823529411\n",
            "Cohen's Kappa Score on Test Set: 0.5258964143426295\n",
            "              precision    recall  f1-score   support\n",
            "\n",
            "           0       0.77      0.71      0.74       168\n",
            "           1       0.76      0.81      0.78       189\n",
            "\n",
            "    accuracy                           0.76       357\n",
            "   macro avg       0.77      0.76      0.76       357\n",
            "weighted avg       0.76      0.76      0.76       357\n",
            "\n",
            "Confusion Matrix for Test Set:\n",
            " [[120  48]\n",
            " [ 36 153]]\n"
          ]
        },
        {
          "output_type": "stream",
          "name": "stderr",
          "text": [
            " 65%|██████▌   | 65/100 [00:01<00:00, 58.01it/s]\n"
          ]
        },
        {
          "output_type": "stream",
          "name": "stdout",
          "text": [
            "\tEarly stopping\n",
            "32 0.1 0.3 0.1 3\n",
            "Accuracy on Test Set: 0.6330532212885154\n",
            "Cohen's Kappa Score on Test Set: 0.2519314746388982\n",
            "              precision    recall  f1-score   support\n",
            "\n",
            "           0       0.65      0.47      0.55       168\n",
            "           1       0.62      0.78      0.69       189\n",
            "\n",
            "    accuracy                           0.63       357\n",
            "   macro avg       0.64      0.62      0.62       357\n",
            "weighted avg       0.64      0.63      0.62       357\n",
            "\n",
            "Confusion Matrix for Test Set:\n",
            " [[ 79  89]\n",
            " [ 42 147]]\n"
          ]
        },
        {
          "output_type": "stream",
          "name": "stderr",
          "text": [
            "100%|██████████| 100/100 [00:01<00:00, 58.93it/s]\n"
          ]
        },
        {
          "output_type": "stream",
          "name": "stdout",
          "text": [
            "32 0.1 0.3 0.1 5\n",
            "Accuracy on Test Set: 0.7338935574229691\n",
            "Cohen's Kappa Score on Test Set: 0.45932373619015743\n",
            "              precision    recall  f1-score   support\n",
            "\n",
            "           0       0.78      0.61      0.68       168\n",
            "           1       0.71      0.85      0.77       189\n",
            "\n",
            "    accuracy                           0.73       357\n",
            "   macro avg       0.74      0.73      0.73       357\n",
            "weighted avg       0.74      0.73      0.73       357\n",
            "\n",
            "Confusion Matrix for Test Set:\n",
            " [[102  66]\n",
            " [ 29 160]]\n"
          ]
        },
        {
          "output_type": "stream",
          "name": "stderr",
          "text": [
            "100%|██████████| 100/100 [00:01<00:00, 50.44it/s]\n"
          ]
        },
        {
          "output_type": "stream",
          "name": "stdout",
          "text": [
            "32 0.1 0.3 0.3 3\n",
            "Accuracy on Test Set: 0.7450980392156863\n",
            "Cohen's Kappa Score on Test Set: 0.48347245409015027\n",
            "              precision    recall  f1-score   support\n",
            "\n",
            "           0       0.78      0.64      0.70       168\n",
            "           1       0.72      0.84      0.78       189\n",
            "\n",
            "    accuracy                           0.75       357\n",
            "   macro avg       0.75      0.74      0.74       357\n",
            "weighted avg       0.75      0.75      0.74       357\n",
            "\n",
            "Confusion Matrix for Test Set:\n",
            " [[108  60]\n",
            " [ 31 158]]\n"
          ]
        },
        {
          "output_type": "stream",
          "name": "stderr",
          "text": [
            "100%|██████████| 100/100 [00:01<00:00, 58.28it/s]\n"
          ]
        },
        {
          "output_type": "stream",
          "name": "stdout",
          "text": [
            "32 0.1 0.3 0.3 5\n",
            "Accuracy on Test Set: 0.5518207282913166\n",
            "Cohen's Kappa Score on Test Set: 0.09694555112881809\n",
            "              precision    recall  f1-score   support\n",
            "\n",
            "           0       0.53      0.49      0.51       168\n",
            "           1       0.57      0.61      0.59       189\n",
            "\n",
            "    accuracy                           0.55       357\n",
            "   macro avg       0.55      0.55      0.55       357\n",
            "weighted avg       0.55      0.55      0.55       357\n",
            "\n",
            "Confusion Matrix for Test Set:\n",
            " [[ 82  86]\n",
            " [ 74 115]]\n"
          ]
        },
        {
          "output_type": "stream",
          "name": "stderr",
          "text": [
            "100%|██████████| 100/100 [00:02<00:00, 45.31it/s]\n"
          ]
        },
        {
          "output_type": "stream",
          "name": "stdout",
          "text": [
            "32 0.1 0.3 0.5 3\n",
            "Accuracy on Test Set: 0.6834733893557423\n",
            "Cohen's Kappa Score on Test Set: 0.364117841774247\n",
            "              precision    recall  f1-score   support\n",
            "\n",
            "           0       0.67      0.65      0.66       168\n",
            "           1       0.70      0.71      0.70       189\n",
            "\n",
            "    accuracy                           0.68       357\n",
            "   macro avg       0.68      0.68      0.68       357\n",
            "weighted avg       0.68      0.68      0.68       357\n",
            "\n",
            "Confusion Matrix for Test Set:\n",
            " [[110  58]\n",
            " [ 55 134]]\n"
          ]
        },
        {
          "output_type": "stream",
          "name": "stderr",
          "text": [
            "100%|██████████| 100/100 [00:02<00:00, 45.27it/s]\n"
          ]
        },
        {
          "output_type": "stream",
          "name": "stdout",
          "text": [
            "32 0.1 0.3 0.5 5\n",
            "Accuracy on Test Set: 0.7619047619047619\n",
            "Cohen's Kappa Score on Test Set: 0.5178511845178512\n",
            "              precision    recall  f1-score   support\n",
            "\n",
            "           0       0.79      0.67      0.72       168\n",
            "           1       0.74      0.85      0.79       189\n",
            "\n",
            "    accuracy                           0.76       357\n",
            "   macro avg       0.77      0.76      0.76       357\n",
            "weighted avg       0.77      0.76      0.76       357\n",
            "\n",
            "Confusion Matrix for Test Set:\n",
            " [[112  56]\n",
            " [ 29 160]]\n"
          ]
        },
        {
          "output_type": "stream",
          "name": "stderr",
          "text": [
            "100%|██████████| 100/100 [00:01<00:00, 54.61it/s]\n"
          ]
        },
        {
          "output_type": "stream",
          "name": "stdout",
          "text": [
            "32 0.1 0.3 0.7 3\n",
            "Accuracy on Test Set: 0.27450980392156865\n",
            "Cohen's Kappa Score on Test Set: -0.4478789871752713\n",
            "              precision    recall  f1-score   support\n",
            "\n",
            "           0       0.25      0.28      0.27       168\n",
            "           1       0.30      0.27      0.28       189\n",
            "\n",
            "    accuracy                           0.27       357\n",
            "   macro avg       0.28      0.27      0.27       357\n",
            "weighted avg       0.28      0.27      0.27       357\n",
            "\n",
            "Confusion Matrix for Test Set:\n",
            " [[ 47 121]\n",
            " [138  51]]\n"
          ]
        },
        {
          "output_type": "stream",
          "name": "stderr",
          "text": [
            "100%|██████████| 100/100 [00:01<00:00, 57.69it/s]\n"
          ]
        },
        {
          "output_type": "stream",
          "name": "stdout",
          "text": [
            "32 0.1 0.3 0.7 5\n",
            "Accuracy on Test Set: 0.7366946778711485\n",
            "Cohen's Kappa Score on Test Set: 0.4641180415828303\n",
            "              precision    recall  f1-score   support\n",
            "\n",
            "           0       0.79      0.60      0.68       168\n",
            "           1       0.71      0.86      0.78       189\n",
            "\n",
            "    accuracy                           0.74       357\n",
            "   macro avg       0.75      0.73      0.73       357\n",
            "weighted avg       0.75      0.74      0.73       357\n",
            "\n",
            "Confusion Matrix for Test Set:\n",
            " [[100  68]\n",
            " [ 26 163]]\n"
          ]
        },
        {
          "output_type": "stream",
          "name": "stderr",
          "text": [
            "100%|██████████| 100/100 [00:01<00:00, 58.43it/s]\n"
          ]
        },
        {
          "output_type": "stream",
          "name": "stdout",
          "text": [
            "32 0.1 0.5 0.1 3\n",
            "Accuracy on Test Set: 0.7647058823529411\n",
            "Cohen's Kappa Score on Test Set: 0.5271523178807948\n",
            "              precision    recall  f1-score   support\n",
            "\n",
            "           0       0.76      0.74      0.75       168\n",
            "           1       0.77      0.79      0.78       189\n",
            "\n",
            "    accuracy                           0.76       357\n",
            "   macro avg       0.76      0.76      0.76       357\n",
            "weighted avg       0.76      0.76      0.76       357\n",
            "\n",
            "Confusion Matrix for Test Set:\n",
            " [[124  44]\n",
            " [ 40 149]]\n"
          ]
        },
        {
          "output_type": "stream",
          "name": "stderr",
          "text": [
            "100%|██████████| 100/100 [00:01<00:00, 59.59it/s]\n"
          ]
        },
        {
          "output_type": "stream",
          "name": "stdout",
          "text": [
            "32 0.1 0.5 0.1 5\n",
            "Accuracy on Test Set: 0.6918767507002801\n",
            "Cohen's Kappa Score on Test Set: 0.3635125936010891\n",
            "              precision    recall  f1-score   support\n",
            "\n",
            "           0       0.85      0.42      0.56       168\n",
            "           1       0.64      0.94      0.76       189\n",
            "\n",
            "    accuracy                           0.69       357\n",
            "   macro avg       0.75      0.68      0.66       357\n",
            "weighted avg       0.74      0.69      0.67       357\n",
            "\n",
            "Confusion Matrix for Test Set:\n",
            " [[ 70  98]\n",
            " [ 12 177]]\n"
          ]
        },
        {
          "output_type": "stream",
          "name": "stderr",
          "text": [
            "100%|██████████| 100/100 [00:01<00:00, 58.21it/s]\n"
          ]
        },
        {
          "output_type": "stream",
          "name": "stdout",
          "text": [
            "32 0.1 0.5 0.3 3\n",
            "Accuracy on Test Set: 0.7142857142857143\n",
            "Cohen's Kappa Score on Test Set: 0.4149797570850202\n",
            "              precision    recall  f1-score   support\n",
            "\n",
            "           0       0.81      0.52      0.63       168\n",
            "           1       0.67      0.89      0.77       189\n",
            "\n",
            "    accuracy                           0.71       357\n",
            "   macro avg       0.74      0.70      0.70       357\n",
            "weighted avg       0.74      0.71      0.70       357\n",
            "\n",
            "Confusion Matrix for Test Set:\n",
            " [[ 87  81]\n",
            " [ 21 168]]\n"
          ]
        },
        {
          "output_type": "stream",
          "name": "stderr",
          "text": [
            "100%|██████████| 100/100 [00:02<00:00, 42.19it/s]\n"
          ]
        },
        {
          "output_type": "stream",
          "name": "stdout",
          "text": [
            "32 0.1 0.5 0.3 5\n",
            "Accuracy on Test Set: 0.6218487394957983\n",
            "Cohen's Kappa Score on Test Set: 0.25317279531402537\n",
            "              precision    recall  f1-score   support\n",
            "\n",
            "           0       0.58      0.74      0.65       168\n",
            "           1       0.69      0.51      0.59       189\n",
            "\n",
            "    accuracy                           0.62       357\n",
            "   macro avg       0.63      0.63      0.62       357\n",
            "weighted avg       0.64      0.62      0.62       357\n",
            "\n",
            "Confusion Matrix for Test Set:\n",
            " [[125  43]\n",
            " [ 92  97]]\n"
          ]
        },
        {
          "output_type": "stream",
          "name": "stderr",
          "text": [
            "100%|██████████| 100/100 [00:02<00:00, 44.02it/s]\n"
          ]
        },
        {
          "output_type": "stream",
          "name": "stdout",
          "text": [
            "32 0.1 0.5 0.5 3\n",
            "Accuracy on Test Set: 0.6470588235294118\n",
            "Cohen's Kappa Score on Test Set: 0.2664383561643835\n",
            "              precision    recall  f1-score   support\n",
            "\n",
            "           0       0.83      0.32      0.46       168\n",
            "           1       0.61      0.94      0.74       189\n",
            "\n",
            "    accuracy                           0.65       357\n",
            "   macro avg       0.72      0.63      0.60       357\n",
            "weighted avg       0.71      0.65      0.61       357\n",
            "\n",
            "Confusion Matrix for Test Set:\n",
            " [[ 53 115]\n",
            " [ 11 178]]\n"
          ]
        },
        {
          "output_type": "stream",
          "name": "stderr",
          "text": [
            " 56%|█████▌    | 56/100 [00:01<00:01, 43.80it/s]\n"
          ]
        },
        {
          "output_type": "stream",
          "name": "stdout",
          "text": [
            "\tEarly stopping\n",
            "32 0.1 0.5 0.5 5\n",
            "Accuracy on Test Set: 0.6638655462184874\n",
            "Cohen's Kappa Score on Test Set: 0.3145161290322581\n",
            "              precision    recall  f1-score   support\n",
            "\n",
            "           0       0.70      0.50      0.58       168\n",
            "           1       0.65      0.81      0.72       189\n",
            "\n",
            "    accuracy                           0.66       357\n",
            "   macro avg       0.67      0.65      0.65       357\n",
            "weighted avg       0.67      0.66      0.65       357\n",
            "\n",
            "Confusion Matrix for Test Set:\n",
            " [[ 84  84]\n",
            " [ 36 153]]\n"
          ]
        },
        {
          "output_type": "stream",
          "name": "stderr",
          "text": [
            "100%|██████████| 100/100 [00:01<00:00, 57.68it/s]\n"
          ]
        },
        {
          "output_type": "stream",
          "name": "stdout",
          "text": [
            "32 0.1 0.5 0.7 3\n",
            "Accuracy on Test Set: 0.5686274509803921\n",
            "Cohen's Kappa Score on Test Set: 0.11554054054054053\n",
            "              precision    recall  f1-score   support\n",
            "\n",
            "           0       0.57      0.35      0.43       168\n",
            "           1       0.57      0.76      0.65       189\n",
            "\n",
            "    accuracy                           0.57       357\n",
            "   macro avg       0.57      0.56      0.54       357\n",
            "weighted avg       0.57      0.57      0.55       357\n",
            "\n",
            "Confusion Matrix for Test Set:\n",
            " [[ 59 109]\n",
            " [ 45 144]]\n"
          ]
        },
        {
          "output_type": "stream",
          "name": "stderr",
          "text": [
            "100%|██████████| 100/100 [00:01<00:00, 58.82it/s]\n"
          ]
        },
        {
          "output_type": "stream",
          "name": "stdout",
          "text": [
            "32 0.1 0.5 0.7 5\n",
            "Accuracy on Test Set: 0.6134453781512605\n",
            "Cohen's Kappa Score on Test Set: 0.2262532981530343\n",
            "              precision    recall  f1-score   support\n",
            "\n",
            "           0       0.59      0.61      0.60       168\n",
            "           1       0.64      0.61      0.63       189\n",
            "\n",
            "    accuracy                           0.61       357\n",
            "   macro avg       0.61      0.61      0.61       357\n",
            "weighted avg       0.61      0.61      0.61       357\n",
            "\n",
            "Confusion Matrix for Test Set:\n",
            " [[103  65]\n",
            " [ 73 116]]\n"
          ]
        },
        {
          "output_type": "stream",
          "name": "stderr",
          "text": [
            " 58%|█████▊    | 58/100 [00:01<00:00, 56.94it/s]\n"
          ]
        },
        {
          "output_type": "stream",
          "name": "stdout",
          "text": [
            "\tEarly stopping\n",
            "32 0.3 0.1 0.1 3\n",
            "Accuracy on Test Set: 0.6974789915966386\n",
            "Cohen's Kappa Score on Test Set: 0.3892215568862275\n",
            "              precision    recall  f1-score   support\n",
            "\n",
            "           0       0.70      0.62      0.66       168\n",
            "           1       0.70      0.76      0.73       189\n",
            "\n",
            "    accuracy                           0.70       357\n",
            "   macro avg       0.70      0.69      0.69       357\n",
            "weighted avg       0.70      0.70      0.70       357\n",
            "\n",
            "Confusion Matrix for Test Set:\n",
            " [[105  63]\n",
            " [ 45 144]]\n"
          ]
        },
        {
          "output_type": "stream",
          "name": "stderr",
          "text": [
            "100%|██████████| 100/100 [00:01<00:00, 57.96it/s]\n"
          ]
        },
        {
          "output_type": "stream",
          "name": "stdout",
          "text": [
            "32 0.3 0.1 0.1 5\n",
            "Accuracy on Test Set: 0.7394957983193278\n",
            "Cohen's Kappa Score on Test Set: 0.46605876393110435\n",
            "              precision    recall  f1-score   support\n",
            "\n",
            "           0       0.86      0.54      0.66       168\n",
            "           1       0.69      0.92      0.79       189\n",
            "\n",
            "    accuracy                           0.74       357\n",
            "   macro avg       0.77      0.73      0.72       357\n",
            "weighted avg       0.77      0.74      0.73       357\n",
            "\n",
            "Confusion Matrix for Test Set:\n",
            " [[ 90  78]\n",
            " [ 15 174]]\n"
          ]
        },
        {
          "output_type": "stream",
          "name": "stderr",
          "text": [
            "100%|██████████| 100/100 [00:01<00:00, 58.39it/s]\n"
          ]
        },
        {
          "output_type": "stream",
          "name": "stdout",
          "text": [
            "32 0.3 0.1 0.3 3\n",
            "Accuracy on Test Set: 0.7507002801120448\n",
            "Cohen's Kappa Score on Test Set: 0.5001651800462504\n",
            "              precision    recall  f1-score   support\n",
            "\n",
            "           0       0.73      0.74      0.74       168\n",
            "           1       0.77      0.76      0.76       189\n",
            "\n",
            "    accuracy                           0.75       357\n",
            "   macro avg       0.75      0.75      0.75       357\n",
            "weighted avg       0.75      0.75      0.75       357\n",
            "\n",
            "Confusion Matrix for Test Set:\n",
            " [[125  43]\n",
            " [ 46 143]]\n"
          ]
        },
        {
          "output_type": "stream",
          "name": "stderr",
          "text": [
            "100%|██████████| 100/100 [00:02<00:00, 39.43it/s]\n"
          ]
        },
        {
          "output_type": "stream",
          "name": "stdout",
          "text": [
            "32 0.3 0.1 0.3 5\n",
            "Accuracy on Test Set: 0.6722689075630253\n",
            "Cohen's Kappa Score on Test Set: 0.3519061583577713\n",
            "              precision    recall  f1-score   support\n",
            "\n",
            "           0       0.62      0.79      0.69       168\n",
            "           1       0.75      0.57      0.65       189\n",
            "\n",
            "    accuracy                           0.67       357\n",
            "   macro avg       0.68      0.68      0.67       357\n",
            "weighted avg       0.69      0.67      0.67       357\n",
            "\n",
            "Confusion Matrix for Test Set:\n",
            " [[132  36]\n",
            " [ 81 108]]\n"
          ]
        },
        {
          "output_type": "stream",
          "name": "stderr",
          "text": [
            "100%|██████████| 100/100 [00:02<00:00, 48.95it/s]\n"
          ]
        },
        {
          "output_type": "stream",
          "name": "stdout",
          "text": [
            "32 0.3 0.1 0.5 3\n",
            "Accuracy on Test Set: 0.7254901960784313\n",
            "Cohen's Kappa Score on Test Set: 0.4371621621621622\n",
            "              precision    recall  f1-score   support\n",
            "\n",
            "           0       0.84      0.52      0.64       168\n",
            "           1       0.68      0.91      0.78       189\n",
            "\n",
            "    accuracy                           0.73       357\n",
            "   macro avg       0.76      0.71      0.71       357\n",
            "weighted avg       0.75      0.73      0.71       357\n",
            "\n",
            "Confusion Matrix for Test Set:\n",
            " [[ 87  81]\n",
            " [ 17 172]]\n"
          ]
        },
        {
          "output_type": "stream",
          "name": "stderr",
          "text": [
            "100%|██████████| 100/100 [00:01<00:00, 58.59it/s]\n"
          ]
        },
        {
          "output_type": "stream",
          "name": "stdout",
          "text": [
            "32 0.3 0.1 0.5 5\n",
            "Accuracy on Test Set: 0.5630252100840336\n",
            "Cohen's Kappa Score on Test Set: 0.14119170984455964\n",
            "              precision    recall  f1-score   support\n",
            "\n",
            "           0       0.53      0.73      0.61       168\n",
            "           1       0.63      0.42      0.50       189\n",
            "\n",
            "    accuracy                           0.56       357\n",
            "   macro avg       0.58      0.57      0.56       357\n",
            "weighted avg       0.58      0.56      0.55       357\n",
            "\n",
            "Confusion Matrix for Test Set:\n",
            " [[122  46]\n",
            " [110  79]]\n"
          ]
        },
        {
          "output_type": "stream",
          "name": "stderr",
          "text": [
            "100%|██████████| 100/100 [00:02<00:00, 48.89it/s]\n"
          ]
        },
        {
          "output_type": "stream",
          "name": "stdout",
          "text": [
            "32 0.3 0.1 0.7 3\n",
            "Accuracy on Test Set: 0.6638655462184874\n",
            "Cohen's Kappa Score on Test Set: 0.31543624161073824\n",
            "              precision    recall  f1-score   support\n",
            "\n",
            "           0       0.69      0.51      0.59       168\n",
            "           1       0.65      0.80      0.72       189\n",
            "\n",
            "    accuracy                           0.66       357\n",
            "   macro avg       0.67      0.66      0.65       357\n",
            "weighted avg       0.67      0.66      0.66       357\n",
            "\n",
            "Confusion Matrix for Test Set:\n",
            " [[ 86  82]\n",
            " [ 38 151]]\n"
          ]
        },
        {
          "output_type": "stream",
          "name": "stderr",
          "text": [
            "100%|██████████| 100/100 [00:01<00:00, 58.01it/s]\n"
          ]
        },
        {
          "output_type": "stream",
          "name": "stdout",
          "text": [
            "32 0.3 0.1 0.7 5\n",
            "Accuracy on Test Set: 0.6134453781512605\n",
            "Cohen's Kappa Score on Test Set: 0.22059800664451834\n",
            "              precision    recall  f1-score   support\n",
            "\n",
            "           0       0.60      0.55      0.57       168\n",
            "           1       0.63      0.67      0.65       189\n",
            "\n",
            "    accuracy                           0.61       357\n",
            "   macro avg       0.61      0.61      0.61       357\n",
            "weighted avg       0.61      0.61      0.61       357\n",
            "\n",
            "Confusion Matrix for Test Set:\n",
            " [[ 92  76]\n",
            " [ 62 127]]\n"
          ]
        },
        {
          "output_type": "stream",
          "name": "stderr",
          "text": [
            "100%|██████████| 100/100 [00:01<00:00, 58.17it/s]\n"
          ]
        },
        {
          "output_type": "stream",
          "name": "stdout",
          "text": [
            "32 0.3 0.3 0.1 3\n",
            "Accuracy on Test Set: 0.5994397759103641\n",
            "Cohen's Kappa Score on Test Set: 0.20006581112207955\n",
            "              precision    recall  f1-score   support\n",
            "\n",
            "           0       0.57      0.62      0.59       168\n",
            "           1       0.63      0.58      0.61       189\n",
            "\n",
            "    accuracy                           0.60       357\n",
            "   macro avg       0.60      0.60      0.60       357\n",
            "weighted avg       0.60      0.60      0.60       357\n",
            "\n",
            "Confusion Matrix for Test Set:\n",
            " [[104  64]\n",
            " [ 79 110]]\n"
          ]
        },
        {
          "output_type": "stream",
          "name": "stderr",
          "text": [
            "100%|██████████| 100/100 [00:01<00:00, 53.59it/s]\n"
          ]
        },
        {
          "output_type": "stream",
          "name": "stdout",
          "text": [
            "32 0.3 0.3 0.1 5\n",
            "Accuracy on Test Set: 0.6918767507002801\n",
            "Cohen's Kappa Score on Test Set: 0.3932511356262167\n",
            "              precision    recall  f1-score   support\n",
            "\n",
            "           0       0.63      0.85      0.72       168\n",
            "           1       0.80      0.56      0.66       189\n",
            "\n",
            "    accuracy                           0.69       357\n",
            "   macro avg       0.71      0.70      0.69       357\n",
            "weighted avg       0.72      0.69      0.69       357\n",
            "\n",
            "Confusion Matrix for Test Set:\n",
            " [[142  26]\n",
            " [ 84 105]]\n"
          ]
        },
        {
          "output_type": "stream",
          "name": "stderr",
          "text": [
            "100%|██████████| 100/100 [00:02<00:00, 38.53it/s]\n"
          ]
        },
        {
          "output_type": "stream",
          "name": "stdout",
          "text": [
            "32 0.3 0.3 0.3 3\n",
            "Accuracy on Test Set: 0.5854341736694678\n",
            "Cohen's Kappa Score on Test Set: 0.16633532140490392\n",
            "              precision    recall  f1-score   support\n",
            "\n",
            "           0       0.56      0.54      0.55       168\n",
            "           1       0.61      0.62      0.61       189\n",
            "\n",
            "    accuracy                           0.59       357\n",
            "   macro avg       0.58      0.58      0.58       357\n",
            "weighted avg       0.58      0.59      0.58       357\n",
            "\n",
            "Confusion Matrix for Test Set:\n",
            " [[ 91  77]\n",
            " [ 71 118]]\n"
          ]
        },
        {
          "output_type": "stream",
          "name": "stderr",
          "text": [
            "100%|██████████| 100/100 [00:01<00:00, 58.49it/s]\n"
          ]
        },
        {
          "output_type": "stream",
          "name": "stdout",
          "text": [
            "32 0.3 0.3 0.3 5\n",
            "Accuracy on Test Set: 0.5546218487394958\n",
            "Cohen's Kappa Score on Test Set: 0.10109743930828063\n",
            "              precision    recall  f1-score   support\n",
            "\n",
            "           0       0.53      0.48      0.50       168\n",
            "           1       0.57      0.62      0.60       189\n",
            "\n",
            "    accuracy                           0.55       357\n",
            "   macro avg       0.55      0.55      0.55       357\n",
            "weighted avg       0.55      0.55      0.55       357\n",
            "\n",
            "Confusion Matrix for Test Set:\n",
            " [[ 80  88]\n",
            " [ 71 118]]\n"
          ]
        },
        {
          "output_type": "stream",
          "name": "stderr",
          "text": [
            "100%|██████████| 100/100 [00:01<00:00, 57.86it/s]\n"
          ]
        },
        {
          "output_type": "stream",
          "name": "stdout",
          "text": [
            "32 0.3 0.3 0.5 3\n",
            "Accuracy on Test Set: 0.7310924369747899\n",
            "Cohen's Kappa Score on Test Set: 0.4552736982643525\n",
            "              precision    recall  f1-score   support\n",
            "\n",
            "           0       0.76      0.63      0.69       168\n",
            "           1       0.71      0.82      0.76       189\n",
            "\n",
            "    accuracy                           0.73       357\n",
            "   macro avg       0.74      0.73      0.73       357\n",
            "weighted avg       0.73      0.73      0.73       357\n",
            "\n",
            "Confusion Matrix for Test Set:\n",
            " [[106  62]\n",
            " [ 34 155]]\n"
          ]
        },
        {
          "output_type": "stream",
          "name": "stderr",
          "text": [
            "100%|██████████| 100/100 [00:01<00:00, 58.04it/s]\n"
          ]
        },
        {
          "output_type": "stream",
          "name": "stdout",
          "text": [
            "32 0.3 0.3 0.5 5\n",
            "Accuracy on Test Set: 0.5854341736694678\n",
            "Cohen's Kappa Score on Test Set: 0.16189207195203204\n",
            "              precision    recall  f1-score   support\n",
            "\n",
            "           0       0.57      0.49      0.53       168\n",
            "           1       0.60      0.67      0.63       189\n",
            "\n",
            "    accuracy                           0.59       357\n",
            "   macro avg       0.58      0.58      0.58       357\n",
            "weighted avg       0.58      0.59      0.58       357\n",
            "\n",
            "Confusion Matrix for Test Set:\n",
            " [[ 83  85]\n",
            " [ 63 126]]\n"
          ]
        },
        {
          "output_type": "stream",
          "name": "stderr",
          "text": [
            "100%|██████████| 100/100 [00:01<00:00, 58.55it/s]\n"
          ]
        },
        {
          "output_type": "stream",
          "name": "stdout",
          "text": [
            "32 0.3 0.3 0.7 3\n",
            "Accuracy on Test Set: 0.6162464985994398\n",
            "Cohen's Kappa Score on Test Set: 0.2097047845266372\n",
            "              precision    recall  f1-score   support\n",
            "\n",
            "           0       0.67      0.36      0.47       168\n",
            "           1       0.60      0.84      0.70       189\n",
            "\n",
            "    accuracy                           0.62       357\n",
            "   macro avg       0.63      0.60      0.58       357\n",
            "weighted avg       0.63      0.62      0.59       357\n",
            "\n",
            "Confusion Matrix for Test Set:\n",
            " [[ 61 107]\n",
            " [ 30 159]]\n"
          ]
        },
        {
          "output_type": "stream",
          "name": "stderr",
          "text": [
            " 57%|█████▋    | 57/100 [00:01<00:00, 56.31it/s]\n"
          ]
        },
        {
          "output_type": "stream",
          "name": "stdout",
          "text": [
            "\tEarly stopping\n",
            "32 0.3 0.3 0.7 5\n",
            "Accuracy on Test Set: 0.6190476190476191\n",
            "Cohen's Kappa Score on Test Set: 0.20110573600552872\n",
            "              precision    recall  f1-score   support\n",
            "\n",
            "           0       0.92      0.21      0.34       168\n",
            "           1       0.58      0.98      0.73       189\n",
            "\n",
            "    accuracy                           0.62       357\n",
            "   macro avg       0.75      0.60      0.54       357\n",
            "weighted avg       0.74      0.62      0.55       357\n",
            "\n",
            "Confusion Matrix for Test Set:\n",
            " [[ 35 133]\n",
            " [  3 186]]\n"
          ]
        },
        {
          "output_type": "stream",
          "name": "stderr",
          "text": [
            "100%|██████████| 100/100 [00:01<00:00, 58.60it/s]\n"
          ]
        },
        {
          "output_type": "stream",
          "name": "stdout",
          "text": [
            "32 0.3 0.5 0.1 3\n",
            "Accuracy on Test Set: 0.711484593837535\n",
            "Cohen's Kappa Score on Test Set: 0.4176920518789491\n",
            "              precision    recall  f1-score   support\n",
            "\n",
            "           0       0.72      0.64      0.68       168\n",
            "           1       0.71      0.77      0.74       189\n",
            "\n",
            "    accuracy                           0.71       357\n",
            "   macro avg       0.71      0.71      0.71       357\n",
            "weighted avg       0.71      0.71      0.71       357\n",
            "\n",
            "Confusion Matrix for Test Set:\n",
            " [[108  60]\n",
            " [ 43 146]]\n"
          ]
        },
        {
          "output_type": "stream",
          "name": "stderr",
          "text": [
            " 61%|██████    | 61/100 [00:01<00:00, 42.08it/s]\n"
          ]
        },
        {
          "output_type": "stream",
          "name": "stdout",
          "text": [
            "\tEarly stopping\n",
            "32 0.3 0.5 0.1 5\n",
            "Accuracy on Test Set: 0.6050420168067226\n",
            "Cohen's Kappa Score on Test Set: 0.21692257432211692\n",
            "              precision    recall  f1-score   support\n",
            "\n",
            "           0       0.57      0.69      0.62       168\n",
            "           1       0.66      0.53      0.59       189\n",
            "\n",
            "    accuracy                           0.61       357\n",
            "   macro avg       0.61      0.61      0.60       357\n",
            "weighted avg       0.61      0.61      0.60       357\n",
            "\n",
            "Confusion Matrix for Test Set:\n",
            " [[116  52]\n",
            " [ 89 100]]\n"
          ]
        },
        {
          "output_type": "stream",
          "name": "stderr",
          "text": [
            "100%|██████████| 100/100 [00:02<00:00, 42.13it/s]\n"
          ]
        },
        {
          "output_type": "stream",
          "name": "stdout",
          "text": [
            "32 0.3 0.5 0.3 3\n",
            "Accuracy on Test Set: 0.7142857142857143\n",
            "Cohen's Kappa Score on Test Set: 0.42392026578073094\n",
            "              precision    recall  f1-score   support\n",
            "\n",
            "           0       0.71      0.65      0.68       168\n",
            "           1       0.71      0.77      0.74       189\n",
            "\n",
            "    accuracy                           0.71       357\n",
            "   macro avg       0.71      0.71      0.71       357\n",
            "weighted avg       0.71      0.71      0.71       357\n",
            "\n",
            "Confusion Matrix for Test Set:\n",
            " [[110  58]\n",
            " [ 44 145]]\n"
          ]
        },
        {
          "output_type": "stream",
          "name": "stderr",
          "text": [
            "100%|██████████| 100/100 [00:01<00:00, 58.00it/s]\n"
          ]
        },
        {
          "output_type": "stream",
          "name": "stdout",
          "text": [
            "32 0.3 0.5 0.3 5\n",
            "Accuracy on Test Set: 0.6890756302521008\n",
            "Cohen's Kappa Score on Test Set: 0.3627152988855117\n",
            "              precision    recall  f1-score   support\n",
            "\n",
            "           0       0.77      0.48      0.59       168\n",
            "           1       0.65      0.87      0.75       189\n",
            "\n",
            "    accuracy                           0.69       357\n",
            "   macro avg       0.71      0.68      0.67       357\n",
            "weighted avg       0.71      0.69      0.68       357\n",
            "\n",
            "Confusion Matrix for Test Set:\n",
            " [[ 81  87]\n",
            " [ 24 165]]\n"
          ]
        },
        {
          "output_type": "stream",
          "name": "stderr",
          "text": [
            "100%|██████████| 100/100 [00:02<00:00, 49.35it/s]\n"
          ]
        },
        {
          "output_type": "stream",
          "name": "stdout",
          "text": [
            "32 0.3 0.5 0.5 3\n",
            "Accuracy on Test Set: 0.7815126050420168\n",
            "Cohen's Kappa Score on Test Set: 0.5617977528089888\n",
            "              precision    recall  f1-score   support\n",
            "\n",
            "           0       0.76      0.77      0.77       168\n",
            "           1       0.80      0.79      0.79       189\n",
            "\n",
            "    accuracy                           0.78       357\n",
            "   macro avg       0.78      0.78      0.78       357\n",
            "weighted avg       0.78      0.78      0.78       357\n",
            "\n",
            "Confusion Matrix for Test Set:\n",
            " [[130  38]\n",
            " [ 40 149]]\n"
          ]
        },
        {
          "output_type": "stream",
          "name": "stderr",
          "text": [
            "100%|██████████| 100/100 [00:01<00:00, 57.91it/s]\n"
          ]
        },
        {
          "output_type": "stream",
          "name": "stdout",
          "text": [
            "32 0.3 0.5 0.5 5\n",
            "Accuracy on Test Set: 0.7535014005602241\n",
            "Cohen's Kappa Score on Test Set: 0.499330655957162\n",
            "              precision    recall  f1-score   support\n",
            "\n",
            "           0       0.80      0.63      0.71       168\n",
            "           1       0.72      0.86      0.79       189\n",
            "\n",
            "    accuracy                           0.75       357\n",
            "   macro avg       0.76      0.75      0.75       357\n",
            "weighted avg       0.76      0.75      0.75       357\n",
            "\n",
            "Confusion Matrix for Test Set:\n",
            " [[106  62]\n",
            " [ 26 163]]\n"
          ]
        },
        {
          "output_type": "stream",
          "name": "stderr",
          "text": [
            " 55%|█████▌    | 55/100 [00:00<00:00, 57.95it/s]\n"
          ]
        },
        {
          "output_type": "stream",
          "name": "stdout",
          "text": [
            "\tEarly stopping\n",
            "32 0.3 0.5 0.7 3\n",
            "Accuracy on Test Set: 0.7002801120448179\n",
            "Cohen's Kappa Score on Test Set: 0.38359878007455106\n",
            "              precision    recall  f1-score   support\n",
            "\n",
            "           0       0.82      0.46      0.59       168\n",
            "           1       0.66      0.91      0.76       189\n",
            "\n",
            "    accuracy                           0.70       357\n",
            "   macro avg       0.74      0.69      0.68       357\n",
            "weighted avg       0.73      0.70      0.68       357\n",
            "\n",
            "Confusion Matrix for Test Set:\n",
            " [[ 78  90]\n",
            " [ 17 172]]\n"
          ]
        },
        {
          "output_type": "stream",
          "name": "stderr",
          "text": [
            "100%|██████████| 100/100 [00:01<00:00, 57.05it/s]\n"
          ]
        },
        {
          "output_type": "stream",
          "name": "stdout",
          "text": [
            "32 0.3 0.5 0.7 5\n",
            "Accuracy on Test Set: 0.6694677871148459\n",
            "Cohen's Kappa Score on Test Set: 0.3409986859395532\n",
            "              precision    recall  f1-score   support\n",
            "\n",
            "           0       0.63      0.71      0.67       168\n",
            "           1       0.71      0.63      0.67       189\n",
            "\n",
            "    accuracy                           0.67       357\n",
            "   macro avg       0.67      0.67      0.67       357\n",
            "weighted avg       0.67      0.67      0.67       357\n",
            "\n",
            "Confusion Matrix for Test Set:\n",
            " [[119  49]\n",
            " [ 69 120]]\n"
          ]
        },
        {
          "output_type": "stream",
          "name": "stderr",
          "text": [
            "100%|██████████| 100/100 [00:02<00:00, 47.18it/s]\n"
          ]
        },
        {
          "output_type": "stream",
          "name": "stdout",
          "text": [
            "32 0.5 0.1 0.1 3\n",
            "Accuracy on Test Set: 0.6190476190476191\n",
            "Cohen's Kappa Score on Test Set: 0.23342175066312998\n",
            "              precision    recall  f1-score   support\n",
            "\n",
            "           0       0.60      0.57      0.59       168\n",
            "           1       0.63      0.66      0.65       189\n",
            "\n",
            "    accuracy                           0.62       357\n",
            "   macro avg       0.62      0.62      0.62       357\n",
            "weighted avg       0.62      0.62      0.62       357\n",
            "\n",
            "Confusion Matrix for Test Set:\n",
            " [[ 96  72]\n",
            " [ 64 125]]\n"
          ]
        },
        {
          "output_type": "stream",
          "name": "stderr",
          "text": [
            "100%|██████████| 100/100 [00:02<00:00, 41.15it/s]\n"
          ]
        },
        {
          "output_type": "stream",
          "name": "stdout",
          "text": [
            "32 0.5 0.1 0.1 5\n",
            "Accuracy on Test Set: 0.5686274509803921\n",
            "Cohen's Kappa Score on Test Set: 0.11073369565217395\n",
            "              precision    recall  f1-score   support\n",
            "\n",
            "           0       0.58      0.30      0.40       168\n",
            "           1       0.57      0.80      0.66       189\n",
            "\n",
            "    accuracy                           0.57       357\n",
            "   macro avg       0.57      0.55      0.53       357\n",
            "weighted avg       0.57      0.57      0.54       357\n",
            "\n",
            "Confusion Matrix for Test Set:\n",
            " [[ 51 117]\n",
            " [ 37 152]]\n"
          ]
        },
        {
          "output_type": "stream",
          "name": "stderr",
          "text": [
            "100%|██████████| 100/100 [00:01<00:00, 58.21it/s]\n"
          ]
        },
        {
          "output_type": "stream",
          "name": "stdout",
          "text": [
            "32 0.5 0.1 0.3 3\n",
            "Accuracy on Test Set: 0.6134453781512605\n",
            "Cohen's Kappa Score on Test Set: 0.21799999999999997\n",
            "              precision    recall  f1-score   support\n",
            "\n",
            "           0       0.60      0.52      0.56       168\n",
            "           1       0.62      0.70      0.66       189\n",
            "\n",
            "    accuracy                           0.61       357\n",
            "   macro avg       0.61      0.61      0.61       357\n",
            "weighted avg       0.61      0.61      0.61       357\n",
            "\n",
            "Confusion Matrix for Test Set:\n",
            " [[ 87  81]\n",
            " [ 57 132]]\n"
          ]
        },
        {
          "output_type": "stream",
          "name": "stderr",
          "text": [
            " 54%|█████▍    | 54/100 [00:00<00:00, 57.16it/s]\n"
          ]
        },
        {
          "output_type": "stream",
          "name": "stdout",
          "text": [
            "\tEarly stopping\n",
            "32 0.5 0.1 0.3 5\n",
            "Accuracy on Test Set: 0.7927170868347339\n",
            "Cohen's Kappa Score on Test Set: 0.5803869246164108\n",
            "              precision    recall  f1-score   support\n",
            "\n",
            "           0       0.83      0.70      0.76       168\n",
            "           1       0.77      0.87      0.82       189\n",
            "\n",
            "    accuracy                           0.79       357\n",
            "   macro avg       0.80      0.79      0.79       357\n",
            "weighted avg       0.80      0.79      0.79       357\n",
            "\n",
            "Confusion Matrix for Test Set:\n",
            " [[118  50]\n",
            " [ 24 165]]\n"
          ]
        },
        {
          "output_type": "stream",
          "name": "stderr",
          "text": [
            "100%|██████████| 100/100 [00:01<00:00, 58.31it/s]\n"
          ]
        },
        {
          "output_type": "stream",
          "name": "stdout",
          "text": [
            "32 0.5 0.1 0.5 3\n",
            "Accuracy on Test Set: 0.7366946778711485\n",
            "Cohen's Kappa Score on Test Set: 0.47225891677675036\n",
            "              precision    recall  f1-score   support\n",
            "\n",
            "           0       0.72      0.73      0.72       168\n",
            "           1       0.76      0.74      0.75       189\n",
            "\n",
            "    accuracy                           0.74       357\n",
            "   macro avg       0.74      0.74      0.74       357\n",
            "weighted avg       0.74      0.74      0.74       357\n",
            "\n",
            "Confusion Matrix for Test Set:\n",
            " [[123  45]\n",
            " [ 49 140]]\n"
          ]
        },
        {
          "output_type": "stream",
          "name": "stderr",
          "text": [
            "100%|██████████| 100/100 [00:01<00:00, 58.51it/s]\n"
          ]
        },
        {
          "output_type": "stream",
          "name": "stdout",
          "text": [
            "32 0.5 0.1 0.5 5\n",
            "Accuracy on Test Set: 0.5574229691876751\n",
            "Cohen's Kappa Score on Test Set: 0.11702827087442469\n",
            "              precision    recall  f1-score   support\n",
            "\n",
            "           0       0.53      0.58      0.55       168\n",
            "           1       0.59      0.53      0.56       189\n",
            "\n",
            "    accuracy                           0.56       357\n",
            "   macro avg       0.56      0.56      0.56       357\n",
            "weighted avg       0.56      0.56      0.56       357\n",
            "\n",
            "Confusion Matrix for Test Set:\n",
            " [[ 98  70]\n",
            " [ 88 101]]\n"
          ]
        },
        {
          "output_type": "stream",
          "name": "stderr",
          "text": [
            " 54%|█████▍    | 54/100 [00:00<00:00, 57.09it/s]\n"
          ]
        },
        {
          "output_type": "stream",
          "name": "stdout",
          "text": [
            "\tEarly stopping\n",
            "32 0.5 0.1 0.7 3\n",
            "Accuracy on Test Set: 0.7086834733893558\n",
            "Cohen's Kappa Score on Test Set: 0.4082998661311914\n",
            "              precision    recall  f1-score   support\n",
            "\n",
            "           0       0.74      0.58      0.65       168\n",
            "           1       0.69      0.82      0.75       189\n",
            "\n",
            "    accuracy                           0.71       357\n",
            "   macro avg       0.72      0.70      0.70       357\n",
            "weighted avg       0.71      0.71      0.70       357\n",
            "\n",
            "Confusion Matrix for Test Set:\n",
            " [[ 98  70]\n",
            " [ 34 155]]\n"
          ]
        },
        {
          "output_type": "stream",
          "name": "stderr",
          "text": [
            "100%|██████████| 100/100 [00:01<00:00, 58.13it/s]\n"
          ]
        },
        {
          "output_type": "stream",
          "name": "stdout",
          "text": [
            "32 0.5 0.1 0.7 5\n",
            "Accuracy on Test Set: 0.6190476190476191\n",
            "Cohen's Kappa Score on Test Set: 0.23947368421052628\n",
            "              precision    recall  f1-score   support\n",
            "\n",
            "           0       0.59      0.64      0.61       168\n",
            "           1       0.65      0.60      0.62       189\n",
            "\n",
            "    accuracy                           0.62       357\n",
            "   macro avg       0.62      0.62      0.62       357\n",
            "weighted avg       0.62      0.62      0.62       357\n",
            "\n",
            "Confusion Matrix for Test Set:\n",
            " [[108  60]\n",
            " [ 76 113]]\n"
          ]
        },
        {
          "output_type": "stream",
          "name": "stderr",
          "text": [
            "100%|██████████| 100/100 [00:02<00:00, 38.13it/s]\n"
          ]
        },
        {
          "output_type": "stream",
          "name": "stdout",
          "text": [
            "32 0.5 0.3 0.1 3\n",
            "Accuracy on Test Set: 0.7675070028011205\n",
            "Cohen's Kappa Score on Test Set: 0.5320066334991708\n",
            "              precision    recall  f1-score   support\n",
            "\n",
            "           0       0.77      0.73      0.75       168\n",
            "           1       0.77      0.80      0.79       189\n",
            "\n",
            "    accuracy                           0.77       357\n",
            "   macro avg       0.77      0.77      0.77       357\n",
            "weighted avg       0.77      0.77      0.77       357\n",
            "\n",
            "Confusion Matrix for Test Set:\n",
            " [[122  46]\n",
            " [ 37 152]]\n"
          ]
        },
        {
          "output_type": "stream",
          "name": "stderr",
          "text": [
            "100%|██████████| 100/100 [00:02<00:00, 46.66it/s]\n"
          ]
        },
        {
          "output_type": "stream",
          "name": "stdout",
          "text": [
            "32 0.5 0.3 0.1 5\n",
            "Accuracy on Test Set: 0.23809523809523808\n",
            "Cohen's Kappa Score on Test Set: -0.526072607260726\n",
            "              precision    recall  f1-score   support\n",
            "\n",
            "           0       0.20      0.21      0.20       168\n",
            "           1       0.27      0.26      0.27       189\n",
            "\n",
            "    accuracy                           0.24       357\n",
            "   macro avg       0.24      0.24      0.24       357\n",
            "weighted avg       0.24      0.24      0.24       357\n",
            "\n",
            "Confusion Matrix for Test Set:\n",
            " [[ 35 133]\n",
            " [139  50]]\n"
          ]
        },
        {
          "output_type": "stream",
          "name": "stderr",
          "text": [
            "100%|██████████| 100/100 [00:01<00:00, 58.33it/s]\n"
          ]
        },
        {
          "output_type": "stream",
          "name": "stdout",
          "text": [
            "32 0.5 0.3 0.3 3\n",
            "Accuracy on Test Set: 0.6610644257703081\n",
            "Cohen's Kappa Score on Test Set: 0.315018315018315\n",
            "              precision    recall  f1-score   support\n",
            "\n",
            "           0       0.66      0.58      0.62       168\n",
            "           1       0.66      0.74      0.70       189\n",
            "\n",
            "    accuracy                           0.66       357\n",
            "   macro avg       0.66      0.66      0.66       357\n",
            "weighted avg       0.66      0.66      0.66       357\n",
            "\n",
            "Confusion Matrix for Test Set:\n",
            " [[ 97  71]\n",
            " [ 50 139]]\n"
          ]
        },
        {
          "output_type": "stream",
          "name": "stderr",
          "text": [
            "100%|██████████| 100/100 [00:01<00:00, 59.05it/s]\n"
          ]
        },
        {
          "output_type": "stream",
          "name": "stdout",
          "text": [
            "32 0.5 0.3 0.3 5\n",
            "Accuracy on Test Set: 0.6274509803921569\n",
            "Cohen's Kappa Score on Test Set: 0.26423690205011385\n",
            "              precision    recall  f1-score   support\n",
            "\n",
            "           0       0.58      0.75      0.65       168\n",
            "           1       0.70      0.52      0.60       189\n",
            "\n",
            "    accuracy                           0.63       357\n",
            "   macro avg       0.64      0.63      0.63       357\n",
            "weighted avg       0.64      0.63      0.62       357\n",
            "\n",
            "Confusion Matrix for Test Set:\n",
            " [[126  42]\n",
            " [ 91  98]]\n"
          ]
        },
        {
          "output_type": "stream",
          "name": "stderr",
          "text": [
            " 69%|██████▉   | 69/100 [00:01<00:00, 57.23it/s]\n"
          ]
        },
        {
          "output_type": "stream",
          "name": "stdout",
          "text": [
            "\tEarly stopping\n",
            "32 0.5 0.3 0.5 3\n",
            "Accuracy on Test Set: 0.5882352941176471\n",
            "Cohen's Kappa Score on Test Set: 0.16672224074691566\n",
            "              precision    recall  f1-score   support\n",
            "\n",
            "           0       0.57      0.49      0.53       168\n",
            "           1       0.60      0.68      0.64       189\n",
            "\n",
            "    accuracy                           0.59       357\n",
            "   macro avg       0.59      0.58      0.58       357\n",
            "weighted avg       0.59      0.59      0.58       357\n",
            "\n",
            "Confusion Matrix for Test Set:\n",
            " [[ 82  86]\n",
            " [ 61 128]]\n"
          ]
        },
        {
          "output_type": "stream",
          "name": "stderr",
          "text": [
            "100%|██████████| 100/100 [00:01<00:00, 58.30it/s]\n"
          ]
        },
        {
          "output_type": "stream",
          "name": "stdout",
          "text": [
            "32 0.5 0.3 0.5 5\n",
            "Accuracy on Test Set: 0.6302521008403361\n",
            "Cohen's Kappa Score on Test Set: 0.2424037812288995\n",
            "              precision    recall  f1-score   support\n",
            "\n",
            "           0       0.67      0.42      0.52       168\n",
            "           1       0.61      0.81      0.70       189\n",
            "\n",
            "    accuracy                           0.63       357\n",
            "   macro avg       0.64      0.62      0.61       357\n",
            "weighted avg       0.64      0.63      0.61       357\n",
            "\n",
            "Confusion Matrix for Test Set:\n",
            " [[ 71  97]\n",
            " [ 35 154]]\n"
          ]
        },
        {
          "output_type": "stream",
          "name": "stderr",
          "text": [
            " 54%|█████▍    | 54/100 [00:00<00:00, 54.65it/s]\n"
          ]
        },
        {
          "output_type": "stream",
          "name": "stdout",
          "text": [
            "\tEarly stopping\n",
            "32 0.5 0.3 0.7 3\n",
            "Accuracy on Test Set: 0.6694677871148459\n",
            "Cohen's Kappa Score on Test Set: 0.3370786516853933\n",
            "              precision    recall  f1-score   support\n",
            "\n",
            "           0       0.65      0.65      0.65       168\n",
            "           1       0.69      0.68      0.69       189\n",
            "\n",
            "    accuracy                           0.67       357\n",
            "   macro avg       0.67      0.67      0.67       357\n",
            "weighted avg       0.67      0.67      0.67       357\n",
            "\n",
            "Confusion Matrix for Test Set:\n",
            " [[110  58]\n",
            " [ 60 129]]\n"
          ]
        },
        {
          "output_type": "stream",
          "name": "stderr",
          "text": [
            "100%|██████████| 100/100 [00:01<00:00, 53.80it/s]\n"
          ]
        },
        {
          "output_type": "stream",
          "name": "stdout",
          "text": [
            "32 0.5 0.3 0.7 5\n",
            "Accuracy on Test Set: 0.6302521008403361\n",
            "Cohen's Kappa Score on Test Set: 0.24342548887390425\n",
            "              precision    recall  f1-score   support\n",
            "\n",
            "           0       0.66      0.43      0.53       168\n",
            "           1       0.62      0.80      0.70       189\n",
            "\n",
            "    accuracy                           0.63       357\n",
            "   macro avg       0.64      0.62      0.61       357\n",
            "weighted avg       0.64      0.63      0.62       357\n",
            "\n",
            "Confusion Matrix for Test Set:\n",
            " [[ 73  95]\n",
            " [ 37 152]]\n"
          ]
        },
        {
          "output_type": "stream",
          "name": "stderr",
          "text": [
            "100%|██████████| 100/100 [00:02<00:00, 38.84it/s]\n"
          ]
        },
        {
          "output_type": "stream",
          "name": "stdout",
          "text": [
            "32 0.5 0.5 0.1 3\n",
            "Accuracy on Test Set: 0.7310924369747899\n",
            "Cohen's Kappa Score on Test Set: 0.4596026490066225\n",
            "              precision    recall  f1-score   support\n",
            "\n",
            "           0       0.72      0.70      0.71       168\n",
            "           1       0.74      0.76      0.75       189\n",
            "\n",
            "    accuracy                           0.73       357\n",
            "   macro avg       0.73      0.73      0.73       357\n",
            "weighted avg       0.73      0.73      0.73       357\n",
            "\n",
            "Confusion Matrix for Test Set:\n",
            " [[118  50]\n",
            " [ 46 143]]\n"
          ]
        },
        {
          "output_type": "stream",
          "name": "stderr",
          "text": [
            "100%|██████████| 100/100 [00:01<00:00, 56.59it/s]\n"
          ]
        },
        {
          "output_type": "stream",
          "name": "stdout",
          "text": [
            "32 0.5 0.5 0.1 5\n",
            "Accuracy on Test Set: 0.7170868347338936\n",
            "Cohen's Kappa Score on Test Set: 0.43389383448730623\n",
            "              precision    recall  f1-score   support\n",
            "\n",
            "           0       0.69      0.73      0.71       168\n",
            "           1       0.74      0.71      0.73       189\n",
            "\n",
            "    accuracy                           0.72       357\n",
            "   macro avg       0.72      0.72      0.72       357\n",
            "weighted avg       0.72      0.72      0.72       357\n",
            "\n",
            "Confusion Matrix for Test Set:\n",
            " [[122  46]\n",
            " [ 55 134]]\n"
          ]
        },
        {
          "output_type": "stream",
          "name": "stderr",
          "text": [
            " 58%|█████▊    | 58/100 [00:01<00:00, 56.93it/s]\n"
          ]
        },
        {
          "output_type": "stream",
          "name": "stdout",
          "text": [
            "\tEarly stopping\n",
            "32 0.5 0.5 0.3 3\n",
            "Accuracy on Test Set: 0.6862745098039216\n",
            "Cohen's Kappa Score on Test Set: 0.35413839891451826\n",
            "              precision    recall  f1-score   support\n",
            "\n",
            "           0       0.80      0.44      0.57       168\n",
            "           1       0.65      0.90      0.75       189\n",
            "\n",
            "    accuracy                           0.69       357\n",
            "   macro avg       0.72      0.67      0.66       357\n",
            "weighted avg       0.72      0.69      0.67       357\n",
            "\n",
            "Confusion Matrix for Test Set:\n",
            " [[ 74  94]\n",
            " [ 18 171]]\n"
          ]
        },
        {
          "output_type": "stream",
          "name": "stderr",
          "text": [
            "100%|██████████| 100/100 [00:02<00:00, 49.28it/s]\n"
          ]
        },
        {
          "output_type": "stream",
          "name": "stdout",
          "text": [
            "32 0.5 0.5 0.3 5\n",
            "Accuracy on Test Set: 0.7619047619047619\n",
            "Cohen's Kappa Score on Test Set: 0.5216815623965574\n",
            "              precision    recall  f1-score   support\n",
            "\n",
            "           0       0.75      0.74      0.74       168\n",
            "           1       0.77      0.78      0.78       189\n",
            "\n",
            "    accuracy                           0.76       357\n",
            "   macro avg       0.76      0.76      0.76       357\n",
            "weighted avg       0.76      0.76      0.76       357\n",
            "\n",
            "Confusion Matrix for Test Set:\n",
            " [[124  44]\n",
            " [ 41 148]]\n"
          ]
        },
        {
          "output_type": "stream",
          "name": "stderr",
          "text": [
            "100%|██████████| 100/100 [00:01<00:00, 57.61it/s]\n"
          ]
        },
        {
          "output_type": "stream",
          "name": "stdout",
          "text": [
            "32 0.5 0.5 0.5 3\n",
            "Accuracy on Test Set: 0.7394957983193278\n",
            "Cohen's Kappa Score on Test Set: 0.48350212348905586\n",
            "              precision    recall  f1-score   support\n",
            "\n",
            "           0       0.68      0.83      0.75       168\n",
            "           1       0.82      0.66      0.73       189\n",
            "\n",
            "    accuracy                           0.74       357\n",
            "   macro avg       0.75      0.74      0.74       357\n",
            "weighted avg       0.75      0.74      0.74       357\n",
            "\n",
            "Confusion Matrix for Test Set:\n",
            " [[140  28]\n",
            " [ 65 124]]\n"
          ]
        },
        {
          "output_type": "stream",
          "name": "stderr",
          "text": [
            "100%|██████████| 100/100 [00:02<00:00, 42.22it/s]\n"
          ]
        },
        {
          "output_type": "stream",
          "name": "stdout",
          "text": [
            "32 0.5 0.5 0.5 5\n",
            "Accuracy on Test Set: 0.7759103641456583\n",
            "Cohen's Kappa Score on Test Set: 0.5493704440026508\n",
            "              precision    recall  f1-score   support\n",
            "\n",
            "           0       0.77      0.74      0.76       168\n",
            "           1       0.78      0.80      0.79       189\n",
            "\n",
            "    accuracy                           0.78       357\n",
            "   macro avg       0.78      0.77      0.77       357\n",
            "weighted avg       0.78      0.78      0.78       357\n",
            "\n",
            "Confusion Matrix for Test Set:\n",
            " [[125  43]\n",
            " [ 37 152]]\n"
          ]
        },
        {
          "output_type": "stream",
          "name": "stderr",
          "text": [
            "100%|██████████| 100/100 [00:02<00:00, 37.35it/s]\n"
          ]
        },
        {
          "output_type": "stream",
          "name": "stdout",
          "text": [
            "32 0.5 0.5 0.7 3\n",
            "Accuracy on Test Set: 0.7394957983193278\n",
            "Cohen's Kappa Score on Test Set: 0.4710605553696888\n",
            "              precision    recall  f1-score   support\n",
            "\n",
            "           0       0.78      0.62      0.69       168\n",
            "           1       0.71      0.85      0.77       189\n",
            "\n",
            "    accuracy                           0.74       357\n",
            "   macro avg       0.75      0.73      0.73       357\n",
            "weighted avg       0.75      0.74      0.74       357\n",
            "\n",
            "Confusion Matrix for Test Set:\n",
            " [[104  64]\n",
            " [ 29 160]]\n"
          ]
        },
        {
          "output_type": "stream",
          "name": "stderr",
          "text": [
            "100%|██████████| 100/100 [00:02<00:00, 46.58it/s]\n"
          ]
        },
        {
          "output_type": "stream",
          "name": "stdout",
          "text": [
            "32 0.5 0.5 0.7 5\n",
            "Accuracy on Test Set: 0.6666666666666666\n",
            "Cohen's Kappa Score on Test Set: 0.32991056641271943\n",
            "              precision    recall  f1-score   support\n",
            "\n",
            "           0       0.65      0.63      0.64       168\n",
            "           1       0.68      0.70      0.69       189\n",
            "\n",
            "    accuracy                           0.67       357\n",
            "   macro avg       0.67      0.66      0.66       357\n",
            "weighted avg       0.67      0.67      0.67       357\n",
            "\n",
            "Confusion Matrix for Test Set:\n",
            " [[106  62]\n",
            " [ 57 132]]\n"
          ]
        },
        {
          "output_type": "stream",
          "name": "stderr",
          "text": [
            "100%|██████████| 100/100 [00:01<00:00, 57.58it/s]\n"
          ]
        },
        {
          "output_type": "stream",
          "name": "stdout",
          "text": [
            "64 0.1 0.1 0.1 3\n",
            "Accuracy on Test Set: 0.711484593837535\n",
            "Cohen's Kappa Score on Test Set: 0.4192371475953566\n",
            "              precision    recall  f1-score   support\n",
            "\n",
            "           0       0.70      0.67      0.69       168\n",
            "           1       0.72      0.75      0.73       189\n",
            "\n",
            "    accuracy                           0.71       357\n",
            "   macro avg       0.71      0.71      0.71       357\n",
            "weighted avg       0.71      0.71      0.71       357\n",
            "\n",
            "Confusion Matrix for Test Set:\n",
            " [[112  56]\n",
            " [ 47 142]]\n"
          ]
        },
        {
          "output_type": "stream",
          "name": "stderr",
          "text": [
            "100%|██████████| 100/100 [00:01<00:00, 57.20it/s]\n"
          ]
        },
        {
          "output_type": "stream",
          "name": "stdout",
          "text": [
            "64 0.1 0.1 0.1 5\n",
            "Accuracy on Test Set: 0.7787114845938375\n",
            "Cohen's Kappa Score on Test Set: 0.5512863347811561\n",
            "              precision    recall  f1-score   support\n",
            "\n",
            "           0       0.82      0.67      0.74       168\n",
            "           1       0.75      0.87      0.81       189\n",
            "\n",
            "    accuracy                           0.78       357\n",
            "   macro avg       0.79      0.77      0.77       357\n",
            "weighted avg       0.79      0.78      0.78       357\n",
            "\n",
            "Confusion Matrix for Test Set:\n",
            " [[113  55]\n",
            " [ 24 165]]\n"
          ]
        },
        {
          "output_type": "stream",
          "name": "stderr",
          "text": [
            " 60%|██████    | 60/100 [00:01<00:00, 56.57it/s]\n"
          ]
        },
        {
          "output_type": "stream",
          "name": "stdout",
          "text": [
            "\tEarly stopping\n",
            "64 0.1 0.1 0.3 3\n",
            "Accuracy on Test Set: 0.7226890756302521\n",
            "Cohen's Kappa Score on Test Set: 0.43843843843843844\n",
            "              precision    recall  f1-score   support\n",
            "\n",
            "           0       0.74      0.62      0.68       168\n",
            "           1       0.71      0.81      0.76       189\n",
            "\n",
            "    accuracy                           0.72       357\n",
            "   macro avg       0.73      0.72      0.72       357\n",
            "weighted avg       0.73      0.72      0.72       357\n",
            "\n",
            "Confusion Matrix for Test Set:\n",
            " [[105  63]\n",
            " [ 36 153]]\n"
          ]
        },
        {
          "output_type": "stream",
          "name": "stderr",
          "text": [
            "100%|██████████| 100/100 [00:01<00:00, 57.79it/s]\n"
          ]
        },
        {
          "output_type": "stream",
          "name": "stdout",
          "text": [
            "64 0.1 0.1 0.3 5\n",
            "Accuracy on Test Set: 0.7254901960784313\n",
            "Cohen's Kappa Score on Test Set: 0.44318181818181823\n",
            "              precision    recall  f1-score   support\n",
            "\n",
            "           0       0.76      0.61      0.68       168\n",
            "           1       0.71      0.83      0.76       189\n",
            "\n",
            "    accuracy                           0.73       357\n",
            "   macro avg       0.73      0.72      0.72       357\n",
            "weighted avg       0.73      0.73      0.72       357\n",
            "\n",
            "Confusion Matrix for Test Set:\n",
            " [[103  65]\n",
            " [ 33 156]]\n"
          ]
        },
        {
          "output_type": "stream",
          "name": "stderr",
          "text": [
            "100%|██████████| 100/100 [00:02<00:00, 48.80it/s]\n"
          ]
        },
        {
          "output_type": "stream",
          "name": "stdout",
          "text": [
            "64 0.1 0.1 0.5 3\n",
            "Accuracy on Test Set: 0.7394957983193278\n",
            "Cohen's Kappa Score on Test Set: 0.4731756081306231\n",
            "              precision    recall  f1-score   support\n",
            "\n",
            "           0       0.76      0.65      0.70       168\n",
            "           1       0.73      0.81      0.77       189\n",
            "\n",
            "    accuracy                           0.74       357\n",
            "   macro avg       0.74      0.73      0.74       357\n",
            "weighted avg       0.74      0.74      0.74       357\n",
            "\n",
            "Confusion Matrix for Test Set:\n",
            " [[110  58]\n",
            " [ 35 154]]\n"
          ]
        },
        {
          "output_type": "stream",
          "name": "stderr",
          "text": [
            "100%|██████████| 100/100 [00:02<00:00, 41.72it/s]\n"
          ]
        },
        {
          "output_type": "stream",
          "name": "stdout",
          "text": [
            "64 0.1 0.1 0.5 5\n",
            "Accuracy on Test Set: 0.6190476190476191\n",
            "Cohen's Kappa Score on Test Set: 0.20767649074708694\n",
            "              precision    recall  f1-score   support\n",
            "\n",
            "           0       0.76      0.28      0.41       168\n",
            "           1       0.59      0.92      0.72       189\n",
            "\n",
            "    accuracy                           0.62       357\n",
            "   macro avg       0.67      0.60      0.56       357\n",
            "weighted avg       0.67      0.62      0.57       357\n",
            "\n",
            "Confusion Matrix for Test Set:\n",
            " [[ 47 121]\n",
            " [ 15 174]]\n"
          ]
        },
        {
          "output_type": "stream",
          "name": "stderr",
          "text": [
            "100%|██████████| 100/100 [00:02<00:00, 47.10it/s]\n"
          ]
        },
        {
          "output_type": "stream",
          "name": "stdout",
          "text": [
            "64 0.1 0.1 0.7 3\n",
            "Accuracy on Test Set: 0.742296918767507\n",
            "Cohen's Kappa Score on Test Set: 0.47797062750333785\n",
            "              precision    recall  f1-score   support\n",
            "\n",
            "           0       0.77      0.64      0.70       168\n",
            "           1       0.72      0.83      0.77       189\n",
            "\n",
            "    accuracy                           0.74       357\n",
            "   macro avg       0.75      0.74      0.74       357\n",
            "weighted avg       0.75      0.74      0.74       357\n",
            "\n",
            "Confusion Matrix for Test Set:\n",
            " [[108  60]\n",
            " [ 32 157]]\n"
          ]
        },
        {
          "output_type": "stream",
          "name": "stderr",
          "text": [
            "100%|██████████| 100/100 [00:01<00:00, 57.05it/s]\n"
          ]
        },
        {
          "output_type": "stream",
          "name": "stdout",
          "text": [
            "64 0.1 0.1 0.7 5\n",
            "Accuracy on Test Set: 0.7983193277310925\n",
            "Cohen's Kappa Score on Test Set: 0.5949702183984116\n",
            "              precision    recall  f1-score   support\n",
            "\n",
            "           0       0.79      0.78      0.78       168\n",
            "           1       0.81      0.81      0.81       189\n",
            "\n",
            "    accuracy                           0.80       357\n",
            "   macro avg       0.80      0.80      0.80       357\n",
            "weighted avg       0.80      0.80      0.80       357\n",
            "\n",
            "Confusion Matrix for Test Set:\n",
            " [[131  37]\n",
            " [ 35 154]]\n"
          ]
        },
        {
          "output_type": "stream",
          "name": "stderr",
          "text": [
            "100%|██████████| 100/100 [00:01<00:00, 56.23it/s]\n"
          ]
        },
        {
          "output_type": "stream",
          "name": "stdout",
          "text": [
            "64 0.1 0.3 0.1 3\n",
            "Accuracy on Test Set: 0.7226890756302521\n",
            "Cohen's Kappa Score on Test Set: 0.4388129376458819\n",
            "              precision    recall  f1-score   support\n",
            "\n",
            "           0       0.74      0.63      0.68       168\n",
            "           1       0.71      0.80      0.75       189\n",
            "\n",
            "    accuracy                           0.72       357\n",
            "   macro avg       0.73      0.72      0.72       357\n",
            "weighted avg       0.72      0.72      0.72       357\n",
            "\n",
            "Confusion Matrix for Test Set:\n",
            " [[106  62]\n",
            " [ 37 152]]\n"
          ]
        },
        {
          "output_type": "stream",
          "name": "stderr",
          "text": [
            "100%|██████████| 100/100 [00:01<00:00, 56.13it/s]\n"
          ]
        },
        {
          "output_type": "stream",
          "name": "stdout",
          "text": [
            "64 0.1 0.3 0.1 5\n",
            "Accuracy on Test Set: 0.7815126050420168\n",
            "Cohen's Kappa Score on Test Set: 0.5600530856005308\n",
            "              precision    recall  f1-score   support\n",
            "\n",
            "           0       0.78      0.74      0.76       168\n",
            "           1       0.78      0.82      0.80       189\n",
            "\n",
            "    accuracy                           0.78       357\n",
            "   macro avg       0.78      0.78      0.78       357\n",
            "weighted avg       0.78      0.78      0.78       357\n",
            "\n",
            "Confusion Matrix for Test Set:\n",
            " [[124  44]\n",
            " [ 34 155]]\n"
          ]
        },
        {
          "output_type": "stream",
          "name": "stderr",
          "text": [
            "100%|██████████| 100/100 [00:01<00:00, 52.59it/s]\n"
          ]
        },
        {
          "output_type": "stream",
          "name": "stdout",
          "text": [
            "64 0.1 0.3 0.3 3\n",
            "Accuracy on Test Set: 0.6610644257703081\n",
            "Cohen's Kappa Score on Test Set: 0.29914821124361146\n",
            "              precision    recall  f1-score   support\n",
            "\n",
            "           0       0.80      0.38      0.51       168\n",
            "           1       0.62      0.92      0.74       189\n",
            "\n",
            "    accuracy                           0.66       357\n",
            "   macro avg       0.71      0.65      0.63       357\n",
            "weighted avg       0.70      0.66      0.63       357\n",
            "\n",
            "Confusion Matrix for Test Set:\n",
            " [[ 63 105]\n",
            " [ 16 173]]\n"
          ]
        },
        {
          "output_type": "stream",
          "name": "stderr",
          "text": [
            "100%|██████████| 100/100 [00:05<00:00, 18.24it/s]\n"
          ]
        },
        {
          "output_type": "stream",
          "name": "stdout",
          "text": [
            "64 0.1 0.3 0.3 5\n",
            "Accuracy on Test Set: 0.7282913165266106\n",
            "Cohen's Kappa Score on Test Set: 0.4396873938158342\n",
            "              precision    recall  f1-score   support\n",
            "\n",
            "           0       0.91      0.47      0.62       168\n",
            "           1       0.67      0.96      0.79       189\n",
            "\n",
            "    accuracy                           0.73       357\n",
            "   macro avg       0.79      0.71      0.70       357\n",
            "weighted avg       0.78      0.73      0.71       357\n",
            "\n",
            "Confusion Matrix for Test Set:\n",
            " [[ 79  89]\n",
            " [  8 181]]\n"
          ]
        },
        {
          "output_type": "stream",
          "name": "stderr",
          "text": [
            "100%|██████████| 100/100 [00:02<00:00, 37.76it/s]\n"
          ]
        },
        {
          "output_type": "stream",
          "name": "stdout",
          "text": [
            "64 0.1 0.3 0.5 3\n",
            "Accuracy on Test Set: 0.6050420168067226\n",
            "Cohen's Kappa Score on Test Set: 0.22702354079329257\n",
            "              precision    recall  f1-score   support\n",
            "\n",
            "           0       0.56      0.81      0.66       168\n",
            "           1       0.71      0.42      0.53       189\n",
            "\n",
            "    accuracy                           0.61       357\n",
            "   macro avg       0.63      0.62      0.60       357\n",
            "weighted avg       0.64      0.61      0.59       357\n",
            "\n",
            "Confusion Matrix for Test Set:\n",
            " [[136  32]\n",
            " [109  80]]\n"
          ]
        },
        {
          "output_type": "stream",
          "name": "stderr",
          "text": [
            "100%|██████████| 100/100 [00:01<00:00, 58.20it/s]\n"
          ]
        },
        {
          "output_type": "stream",
          "name": "stdout",
          "text": [
            "64 0.1 0.3 0.5 5\n",
            "Accuracy on Test Set: 0.6666666666666666\n",
            "Cohen's Kappa Score on Test Set: 0.330797221303341\n",
            "              precision    recall  f1-score   support\n",
            "\n",
            "           0       0.65      0.64      0.64       168\n",
            "           1       0.68      0.69      0.69       189\n",
            "\n",
            "    accuracy                           0.67       357\n",
            "   macro avg       0.67      0.67      0.67       357\n",
            "weighted avg       0.67      0.67      0.67       357\n",
            "\n",
            "Confusion Matrix for Test Set:\n",
            " [[108  60]\n",
            " [ 59 130]]\n"
          ]
        },
        {
          "output_type": "stream",
          "name": "stderr",
          "text": [
            "100%|██████████| 100/100 [00:01<00:00, 56.99it/s]\n"
          ]
        },
        {
          "output_type": "stream",
          "name": "stdout",
          "text": [
            "64 0.1 0.3 0.7 3\n",
            "Accuracy on Test Set: 0.6554621848739496\n",
            "Cohen's Kappa Score on Test Set: 0.2942963212959837\n",
            "              precision    recall  f1-score   support\n",
            "\n",
            "           0       0.71      0.45      0.55       168\n",
            "           1       0.63      0.84      0.72       189\n",
            "\n",
            "    accuracy                           0.66       357\n",
            "   macro avg       0.67      0.64      0.64       357\n",
            "weighted avg       0.67      0.66      0.64       357\n",
            "\n",
            "Confusion Matrix for Test Set:\n",
            " [[ 76  92]\n",
            " [ 31 158]]\n"
          ]
        },
        {
          "output_type": "stream",
          "name": "stderr",
          "text": [
            "100%|██████████| 100/100 [00:02<00:00, 47.85it/s]\n"
          ]
        },
        {
          "output_type": "stream",
          "name": "stdout",
          "text": [
            "64 0.1 0.3 0.7 5\n",
            "Accuracy on Test Set: 0.7450980392156863\n",
            "Cohen's Kappa Score on Test Set: 0.48208905256109813\n",
            "              precision    recall  f1-score   support\n",
            "\n",
            "           0       0.79      0.62      0.70       168\n",
            "           1       0.72      0.86      0.78       189\n",
            "\n",
            "    accuracy                           0.75       357\n",
            "   macro avg       0.76      0.74      0.74       357\n",
            "weighted avg       0.75      0.75      0.74       357\n",
            "\n",
            "Confusion Matrix for Test Set:\n",
            " [[104  64]\n",
            " [ 27 162]]\n"
          ]
        },
        {
          "output_type": "stream",
          "name": "stderr",
          "text": [
            "100%|██████████| 100/100 [00:01<00:00, 57.59it/s]\n"
          ]
        },
        {
          "output_type": "stream",
          "name": "stdout",
          "text": [
            "64 0.1 0.5 0.1 3\n",
            "Accuracy on Test Set: 0.7310924369747899\n",
            "Cohen's Kappa Score on Test Set: 0.4516129032258065\n",
            "              precision    recall  f1-score   support\n",
            "\n",
            "           0       0.80      0.57      0.67       168\n",
            "           1       0.70      0.87      0.77       189\n",
            "\n",
            "    accuracy                           0.73       357\n",
            "   macro avg       0.75      0.72      0.72       357\n",
            "weighted avg       0.75      0.73      0.72       357\n",
            "\n",
            "Confusion Matrix for Test Set:\n",
            " [[ 96  72]\n",
            " [ 24 165]]\n"
          ]
        },
        {
          "output_type": "stream",
          "name": "stderr",
          "text": [
            " 60%|██████    | 60/100 [00:01<00:00, 43.02it/s]\n"
          ]
        },
        {
          "output_type": "stream",
          "name": "stdout",
          "text": [
            "\tEarly stopping\n",
            "64 0.1 0.5 0.1 5\n",
            "Accuracy on Test Set: 0.7478991596638656\n",
            "Cohen's Kappa Score on Test Set: 0.4930417495029821\n",
            "              precision    recall  f1-score   support\n",
            "\n",
            "           0       0.74      0.71      0.73       168\n",
            "           1       0.75      0.78      0.77       189\n",
            "\n",
            "    accuracy                           0.75       357\n",
            "   macro avg       0.75      0.75      0.75       357\n",
            "weighted avg       0.75      0.75      0.75       357\n",
            "\n",
            "Confusion Matrix for Test Set:\n",
            " [[120  48]\n",
            " [ 42 147]]\n"
          ]
        },
        {
          "output_type": "stream",
          "name": "stderr",
          "text": [
            "100%|██████████| 100/100 [00:02<00:00, 38.75it/s]\n"
          ]
        },
        {
          "output_type": "stream",
          "name": "stdout",
          "text": [
            "64 0.1 0.5 0.3 3\n",
            "Accuracy on Test Set: 0.6890756302521008\n",
            "Cohen's Kappa Score on Test Set: 0.3757856434005954\n",
            "              precision    recall  f1-score   support\n",
            "\n",
            "           0       0.67      0.67      0.67       168\n",
            "           1       0.71      0.71      0.71       189\n",
            "\n",
            "    accuracy                           0.69       357\n",
            "   macro avg       0.69      0.69      0.69       357\n",
            "weighted avg       0.69      0.69      0.69       357\n",
            "\n",
            "Confusion Matrix for Test Set:\n",
            " [[112  56]\n",
            " [ 55 134]]\n"
          ]
        },
        {
          "output_type": "stream",
          "name": "stderr",
          "text": [
            "100%|██████████| 100/100 [00:01<00:00, 55.32it/s]\n"
          ]
        },
        {
          "output_type": "stream",
          "name": "stdout",
          "text": [
            "64 0.1 0.5 0.3 5\n",
            "Accuracy on Test Set: 0.7338935574229691\n",
            "Cohen's Kappa Score on Test Set: 0.4571428571428572\n",
            "              precision    recall  f1-score   support\n",
            "\n",
            "           0       0.81      0.57      0.67       168\n",
            "           1       0.70      0.88      0.78       189\n",
            "\n",
            "    accuracy                           0.73       357\n",
            "   macro avg       0.75      0.72      0.72       357\n",
            "weighted avg       0.75      0.73      0.73       357\n",
            "\n",
            "Confusion Matrix for Test Set:\n",
            " [[ 96  72]\n",
            " [ 23 166]]\n"
          ]
        },
        {
          "output_type": "stream",
          "name": "stderr",
          "text": [
            " 57%|█████▋    | 57/100 [00:01<00:00, 54.27it/s]\n"
          ]
        },
        {
          "output_type": "stream",
          "name": "stdout",
          "text": [
            "\tEarly stopping\n",
            "64 0.1 0.5 0.5 3\n",
            "Accuracy on Test Set: 0.7338935574229691\n",
            "Cohen's Kappa Score on Test Set: 0.4530985438537082\n",
            "              precision    recall  f1-score   support\n",
            "\n",
            "           0       0.88      0.51      0.64       168\n",
            "           1       0.68      0.94      0.79       189\n",
            "\n",
            "    accuracy                           0.73       357\n",
            "   macro avg       0.78      0.72      0.71       357\n",
            "weighted avg       0.77      0.73      0.72       357\n",
            "\n",
            "Confusion Matrix for Test Set:\n",
            " [[ 85  83]\n",
            " [ 12 177]]\n"
          ]
        },
        {
          "output_type": "stream",
          "name": "stderr",
          "text": [
            "100%|██████████| 100/100 [00:01<00:00, 57.91it/s]\n"
          ]
        },
        {
          "output_type": "stream",
          "name": "stdout",
          "text": [
            "64 0.1 0.5 0.5 5\n",
            "Accuracy on Test Set: 0.6862745098039216\n",
            "Cohen's Kappa Score on Test Set: 0.36107382550335565\n",
            "              precision    recall  f1-score   support\n",
            "\n",
            "           0       0.73      0.54      0.62       168\n",
            "           1       0.67      0.82      0.73       189\n",
            "\n",
            "    accuracy                           0.69       357\n",
            "   macro avg       0.70      0.68      0.68       357\n",
            "weighted avg       0.69      0.69      0.68       357\n",
            "\n",
            "Confusion Matrix for Test Set:\n",
            " [[ 90  78]\n",
            " [ 34 155]]\n"
          ]
        },
        {
          "output_type": "stream",
          "name": "stderr",
          "text": [
            "100%|██████████| 100/100 [00:01<00:00, 57.18it/s]\n"
          ]
        },
        {
          "output_type": "stream",
          "name": "stdout",
          "text": [
            "64 0.1 0.5 0.7 3\n",
            "Accuracy on Test Set: 0.7535014005602241\n",
            "Cohen's Kappa Score on Test Set: 0.5039787798408488\n",
            "              precision    recall  f1-score   support\n",
            "\n",
            "           0       0.75      0.71      0.73       168\n",
            "           1       0.76      0.79      0.77       189\n",
            "\n",
            "    accuracy                           0.75       357\n",
            "   macro avg       0.75      0.75      0.75       357\n",
            "weighted avg       0.75      0.75      0.75       357\n",
            "\n",
            "Confusion Matrix for Test Set:\n",
            " [[120  48]\n",
            " [ 40 149]]\n"
          ]
        },
        {
          "output_type": "stream",
          "name": "stderr",
          "text": [
            "100%|██████████| 100/100 [00:01<00:00, 56.63it/s]\n"
          ]
        },
        {
          "output_type": "stream",
          "name": "stdout",
          "text": [
            "64 0.1 0.5 0.7 5\n",
            "Accuracy on Test Set: 0.7507002801120448\n",
            "Cohen's Kappa Score on Test Set: 0.49784268171257884\n",
            "              precision    recall  f1-score   support\n",
            "\n",
            "           0       0.75      0.70      0.73       168\n",
            "           1       0.75      0.79      0.77       189\n",
            "\n",
            "    accuracy                           0.75       357\n",
            "   macro avg       0.75      0.75      0.75       357\n",
            "weighted avg       0.75      0.75      0.75       357\n",
            "\n",
            "Confusion Matrix for Test Set:\n",
            " [[118  50]\n",
            " [ 39 150]]\n"
          ]
        },
        {
          "output_type": "stream",
          "name": "stderr",
          "text": [
            "100%|██████████| 100/100 [00:01<00:00, 55.15it/s]\n"
          ]
        },
        {
          "output_type": "stream",
          "name": "stdout",
          "text": [
            "64 0.3 0.1 0.1 3\n",
            "Accuracy on Test Set: 0.7254901960784313\n",
            "Cohen's Kappa Score on Test Set: 0.43943472409152085\n",
            "              precision    recall  f1-score   support\n",
            "\n",
            "           0       0.80      0.55      0.65       168\n",
            "           1       0.69      0.88      0.77       189\n",
            "\n",
            "    accuracy                           0.73       357\n",
            "   macro avg       0.75      0.72      0.71       357\n",
            "weighted avg       0.74      0.73      0.72       357\n",
            "\n",
            "Confusion Matrix for Test Set:\n",
            " [[ 93  75]\n",
            " [ 23 166]]\n"
          ]
        },
        {
          "output_type": "stream",
          "name": "stderr",
          "text": [
            "100%|██████████| 100/100 [00:02<00:00, 33.86it/s]\n"
          ]
        },
        {
          "output_type": "stream",
          "name": "stdout",
          "text": [
            "64 0.3 0.1 0.1 5\n",
            "Accuracy on Test Set: 0.5574229691876751\n",
            "Cohen's Kappa Score on Test Set: 0.11702827087442469\n",
            "              precision    recall  f1-score   support\n",
            "\n",
            "           0       0.53      0.58      0.55       168\n",
            "           1       0.59      0.53      0.56       189\n",
            "\n",
            "    accuracy                           0.56       357\n",
            "   macro avg       0.56      0.56      0.56       357\n",
            "weighted avg       0.56      0.56      0.56       357\n",
            "\n",
            "Confusion Matrix for Test Set:\n",
            " [[ 98  70]\n",
            " [ 88 101]]\n"
          ]
        },
        {
          "output_type": "stream",
          "name": "stderr",
          "text": [
            "100%|██████████| 100/100 [00:01<00:00, 52.35it/s]\n"
          ]
        },
        {
          "output_type": "stream",
          "name": "stdout",
          "text": [
            "64 0.3 0.1 0.3 3\n",
            "Accuracy on Test Set: 0.7310924369747899\n",
            "Cohen's Kappa Score on Test Set: 0.4617414248021108\n",
            "              precision    recall  f1-score   support\n",
            "\n",
            "           0       0.70      0.74      0.72       168\n",
            "           1       0.76      0.72      0.74       189\n",
            "\n",
            "    accuracy                           0.73       357\n",
            "   macro avg       0.73      0.73      0.73       357\n",
            "weighted avg       0.73      0.73      0.73       357\n",
            "\n",
            "Confusion Matrix for Test Set:\n",
            " [[124  44]\n",
            " [ 52 137]]\n"
          ]
        },
        {
          "output_type": "stream",
          "name": "stderr",
          "text": [
            "100%|██████████| 100/100 [00:01<00:00, 57.56it/s]\n"
          ]
        },
        {
          "output_type": "stream",
          "name": "stdout",
          "text": [
            "64 0.3 0.1 0.3 5\n",
            "Accuracy on Test Set: 0.5154061624649859\n",
            "Cohen's Kappa Score on Test Set: 0.002035968781812003\n",
            "              precision    recall  f1-score   support\n",
            "\n",
            "           0       0.47      0.26      0.33       168\n",
            "           1       0.53      0.75      0.62       189\n",
            "\n",
            "    accuracy                           0.52       357\n",
            "   macro avg       0.50      0.50      0.48       357\n",
            "weighted avg       0.50      0.52      0.48       357\n",
            "\n",
            "Confusion Matrix for Test Set:\n",
            " [[ 43 125]\n",
            " [ 48 141]]\n"
          ]
        },
        {
          "output_type": "stream",
          "name": "stderr",
          "text": [
            "100%|██████████| 100/100 [00:01<00:00, 57.57it/s]\n"
          ]
        },
        {
          "output_type": "stream",
          "name": "stdout",
          "text": [
            "64 0.3 0.1 0.5 3\n",
            "Accuracy on Test Set: 0.7310924369747899\n",
            "Cohen's Kappa Score on Test Set: 0.4538152610441767\n",
            "              precision    recall  f1-score   support\n",
            "\n",
            "           0       0.77      0.61      0.68       168\n",
            "           1       0.71      0.84      0.77       189\n",
            "\n",
            "    accuracy                           0.73       357\n",
            "   macro avg       0.74      0.72      0.72       357\n",
            "weighted avg       0.74      0.73      0.73       357\n",
            "\n",
            "Confusion Matrix for Test Set:\n",
            " [[102  66]\n",
            " [ 30 159]]\n"
          ]
        },
        {
          "output_type": "stream",
          "name": "stderr",
          "text": [
            "100%|██████████| 100/100 [00:01<00:00, 57.45it/s]\n"
          ]
        },
        {
          "output_type": "stream",
          "name": "stdout",
          "text": [
            "64 0.3 0.1 0.5 5\n",
            "Accuracy on Test Set: 0.7787114845938375\n",
            "Cohen's Kappa Score on Test Set: 0.5515859766277129\n",
            "              precision    recall  f1-score   support\n",
            "\n",
            "           0       0.82      0.68      0.74       168\n",
            "           1       0.75      0.87      0.81       189\n",
            "\n",
            "    accuracy                           0.78       357\n",
            "   macro avg       0.79      0.77      0.77       357\n",
            "weighted avg       0.78      0.78      0.78       357\n",
            "\n",
            "Confusion Matrix for Test Set:\n",
            " [[114  54]\n",
            " [ 25 164]]\n"
          ]
        },
        {
          "output_type": "stream",
          "name": "stderr",
          "text": [
            "100%|██████████| 100/100 [00:01<00:00, 57.84it/s]\n"
          ]
        },
        {
          "output_type": "stream",
          "name": "stdout",
          "text": [
            "64 0.3 0.1 0.7 3\n",
            "Accuracy on Test Set: 0.7450980392156863\n",
            "Cohen's Kappa Score on Test Set: 0.4838171504838171\n",
            "              precision    recall  f1-score   support\n",
            "\n",
            "           0       0.77      0.65      0.71       168\n",
            "           1       0.73      0.83      0.78       189\n",
            "\n",
            "    accuracy                           0.75       357\n",
            "   macro avg       0.75      0.74      0.74       357\n",
            "weighted avg       0.75      0.75      0.74       357\n",
            "\n",
            "Confusion Matrix for Test Set:\n",
            " [[109  59]\n",
            " [ 32 157]]\n"
          ]
        },
        {
          "output_type": "stream",
          "name": "stderr",
          "text": [
            "100%|██████████| 100/100 [00:01<00:00, 54.02it/s]\n"
          ]
        },
        {
          "output_type": "stream",
          "name": "stdout",
          "text": [
            "64 0.3 0.1 0.7 5\n",
            "Accuracy on Test Set: 0.773109243697479\n",
            "Cohen's Kappa Score on Test Set: 0.542068506817426\n",
            "              precision    recall  f1-score   support\n",
            "\n",
            "           0       0.79      0.71      0.75       168\n",
            "           1       0.76      0.83      0.79       189\n",
            "\n",
            "    accuracy                           0.77       357\n",
            "   macro avg       0.78      0.77      0.77       357\n",
            "weighted avg       0.77      0.77      0.77       357\n",
            "\n",
            "Confusion Matrix for Test Set:\n",
            " [[119  49]\n",
            " [ 32 157]]\n"
          ]
        },
        {
          "output_type": "stream",
          "name": "stderr",
          "text": [
            " 56%|█████▌    | 56/100 [00:01<00:01, 38.59it/s]\n"
          ]
        },
        {
          "output_type": "stream",
          "name": "stdout",
          "text": [
            "\tEarly stopping\n",
            "64 0.3 0.3 0.1 3\n",
            "Accuracy on Test Set: 0.7254901960784313\n",
            "Cohen's Kappa Score on Test Set: 0.44466666666666665\n",
            "              precision    recall  f1-score   support\n",
            "\n",
            "           0       0.74      0.64      0.69       168\n",
            "           1       0.71      0.80      0.76       189\n",
            "\n",
            "    accuracy                           0.73       357\n",
            "   macro avg       0.73      0.72      0.72       357\n",
            "weighted avg       0.73      0.73      0.72       357\n",
            "\n",
            "Confusion Matrix for Test Set:\n",
            " [[107  61]\n",
            " [ 37 152]]\n"
          ]
        },
        {
          "output_type": "stream",
          "name": "stderr",
          "text": [
            "100%|██████████| 100/100 [00:02<00:00, 43.00it/s]\n"
          ]
        },
        {
          "output_type": "stream",
          "name": "stdout",
          "text": [
            "64 0.3 0.3 0.1 5\n",
            "Accuracy on Test Set: 0.7366946778711485\n",
            "Cohen's Kappa Score on Test Set: 0.4736495388669302\n",
            "              precision    recall  f1-score   support\n",
            "\n",
            "           0       0.71      0.76      0.73       168\n",
            "           1       0.77      0.72      0.74       189\n",
            "\n",
            "    accuracy                           0.74       357\n",
            "   macro avg       0.74      0.74      0.74       357\n",
            "weighted avg       0.74      0.74      0.74       357\n",
            "\n",
            "Confusion Matrix for Test Set:\n",
            " [[127  41]\n",
            " [ 53 136]]\n"
          ]
        },
        {
          "output_type": "stream",
          "name": "stderr",
          "text": [
            "100%|██████████| 100/100 [00:01<00:00, 57.56it/s]\n"
          ]
        },
        {
          "output_type": "stream",
          "name": "stdout",
          "text": [
            "64 0.3 0.3 0.3 3\n",
            "Accuracy on Test Set: 0.7675070028011205\n",
            "Cohen's Kappa Score on Test Set: 0.5279357644697222\n",
            "              precision    recall  f1-score   support\n",
            "\n",
            "           0       0.82      0.65      0.72       168\n",
            "           1       0.74      0.87      0.80       189\n",
            "\n",
            "    accuracy                           0.77       357\n",
            "   macro avg       0.78      0.76      0.76       357\n",
            "weighted avg       0.78      0.77      0.76       357\n",
            "\n",
            "Confusion Matrix for Test Set:\n",
            " [[109  59]\n",
            " [ 24 165]]\n"
          ]
        },
        {
          "output_type": "stream",
          "name": "stderr",
          "text": [
            "100%|██████████| 100/100 [00:02<00:00, 48.58it/s]\n"
          ]
        },
        {
          "output_type": "stream",
          "name": "stdout",
          "text": [
            "64 0.3 0.3 0.3 5\n",
            "Accuracy on Test Set: 0.5798319327731093\n",
            "Cohen's Kappa Score on Test Set: 0.12371134020618557\n",
            "              precision    recall  f1-score   support\n",
            "\n",
            "           0       0.67      0.21      0.32       168\n",
            "           1       0.56      0.90      0.70       189\n",
            "\n",
            "    accuracy                           0.58       357\n",
            "   macro avg       0.62      0.56      0.51       357\n",
            "weighted avg       0.61      0.58      0.52       357\n",
            "\n",
            "Confusion Matrix for Test Set:\n",
            " [[ 36 132]\n",
            " [ 18 171]]\n"
          ]
        },
        {
          "output_type": "stream",
          "name": "stderr",
          "text": [
            "100%|██████████| 100/100 [00:01<00:00, 57.58it/s]\n"
          ]
        },
        {
          "output_type": "stream",
          "name": "stdout",
          "text": [
            "64 0.3 0.3 0.5 3\n",
            "Accuracy on Test Set: 0.6526610644257703\n",
            "Cohen's Kappa Score on Test Set: 0.29920212765957444\n",
            "              precision    recall  f1-score   support\n",
            "\n",
            "           0       0.64      0.58      0.61       168\n",
            "           1       0.66      0.71      0.69       189\n",
            "\n",
            "    accuracy                           0.65       357\n",
            "   macro avg       0.65      0.65      0.65       357\n",
            "weighted avg       0.65      0.65      0.65       357\n",
            "\n",
            "Confusion Matrix for Test Set:\n",
            " [[ 98  70]\n",
            " [ 54 135]]\n"
          ]
        },
        {
          "output_type": "stream",
          "name": "stderr",
          "text": [
            "100%|██████████| 100/100 [00:01<00:00, 57.10it/s]\n"
          ]
        },
        {
          "output_type": "stream",
          "name": "stdout",
          "text": [
            "64 0.3 0.3 0.5 5\n",
            "Accuracy on Test Set: 0.6610644257703081\n",
            "Cohen's Kappa Score on Test Set: 0.303891708967851\n",
            "              precision    recall  f1-score   support\n",
            "\n",
            "           0       0.74      0.43      0.55       168\n",
            "           1       0.63      0.86      0.73       189\n",
            "\n",
            "    accuracy                           0.66       357\n",
            "   macro avg       0.68      0.65      0.64       357\n",
            "weighted avg       0.68      0.66      0.64       357\n",
            "\n",
            "Confusion Matrix for Test Set:\n",
            " [[ 73  95]\n",
            " [ 26 163]]\n"
          ]
        },
        {
          "output_type": "stream",
          "name": "stderr",
          "text": [
            "100%|██████████| 100/100 [00:01<00:00, 55.61it/s]\n"
          ]
        },
        {
          "output_type": "stream",
          "name": "stdout",
          "text": [
            "64 0.3 0.3 0.7 3\n",
            "Accuracy on Test Set: 0.7591036414565826\n",
            "Cohen's Kappa Score on Test Set: 0.5187623436471362\n",
            "              precision    recall  f1-score   support\n",
            "\n",
            "           0       0.73      0.79      0.75       168\n",
            "           1       0.79      0.74      0.76       189\n",
            "\n",
            "    accuracy                           0.76       357\n",
            "   macro avg       0.76      0.76      0.76       357\n",
            "weighted avg       0.76      0.76      0.76       357\n",
            "\n",
            "Confusion Matrix for Test Set:\n",
            " [[132  36]\n",
            " [ 50 139]]\n"
          ]
        },
        {
          "output_type": "stream",
          "name": "stderr",
          "text": [
            "100%|██████████| 100/100 [00:02<00:00, 40.25it/s]\n"
          ]
        },
        {
          "output_type": "stream",
          "name": "stdout",
          "text": [
            "64 0.3 0.3 0.7 5\n",
            "Accuracy on Test Set: 0.7058823529411765\n",
            "Cohen's Kappa Score on Test Set: 0.3971631205673759\n",
            "              precision    recall  f1-score   support\n",
            "\n",
            "           0       0.80      0.50      0.62       168\n",
            "           1       0.67      0.89      0.76       189\n",
            "\n",
            "    accuracy                           0.71       357\n",
            "   macro avg       0.73      0.69      0.69       357\n",
            "weighted avg       0.73      0.71      0.69       357\n",
            "\n",
            "Confusion Matrix for Test Set:\n",
            " [[ 84  84]\n",
            " [ 21 168]]\n"
          ]
        },
        {
          "output_type": "stream",
          "name": "stderr",
          "text": [
            "100%|██████████| 100/100 [00:02<00:00, 48.57it/s]\n"
          ]
        },
        {
          "output_type": "stream",
          "name": "stdout",
          "text": [
            "64 0.3 0.5 0.1 3\n",
            "Accuracy on Test Set: 0.7675070028011205\n",
            "Cohen's Kappa Score on Test Set: 0.5307615563684736\n",
            "              precision    recall  f1-score   support\n",
            "\n",
            "           0       0.78      0.70      0.74       168\n",
            "           1       0.76      0.83      0.79       189\n",
            "\n",
            "    accuracy                           0.77       357\n",
            "   macro avg       0.77      0.76      0.76       357\n",
            "weighted avg       0.77      0.77      0.77       357\n",
            "\n",
            "Confusion Matrix for Test Set:\n",
            " [[118  50]\n",
            " [ 33 156]]\n"
          ]
        },
        {
          "output_type": "stream",
          "name": "stderr",
          "text": [
            "100%|██████████| 100/100 [00:01<00:00, 57.47it/s]\n"
          ]
        },
        {
          "output_type": "stream",
          "name": "stdout",
          "text": [
            "64 0.3 0.5 0.1 5\n",
            "Accuracy on Test Set: 0.7787114845938375\n",
            "Cohen's Kappa Score on Test Set: 0.5524825058313896\n",
            "              precision    recall  f1-score   support\n",
            "\n",
            "           0       0.81      0.70      0.75       168\n",
            "           1       0.76      0.85      0.80       189\n",
            "\n",
            "    accuracy                           0.78       357\n",
            "   macro avg       0.78      0.77      0.78       357\n",
            "weighted avg       0.78      0.78      0.78       357\n",
            "\n",
            "Confusion Matrix for Test Set:\n",
            " [[117  51]\n",
            " [ 28 161]]\n"
          ]
        },
        {
          "output_type": "stream",
          "name": "stderr",
          "text": [
            "100%|██████████| 100/100 [00:01<00:00, 57.42it/s]\n"
          ]
        },
        {
          "output_type": "stream",
          "name": "stdout",
          "text": [
            "64 0.3 0.5 0.3 3\n",
            "Accuracy on Test Set: 0.7310924369747899\n",
            "Cohen's Kappa Score on Test Set: 0.4523489932885906\n",
            "              precision    recall  f1-score   support\n",
            "\n",
            "           0       0.79      0.58      0.67       168\n",
            "           1       0.70      0.86      0.77       189\n",
            "\n",
            "    accuracy                           0.73       357\n",
            "   macro avg       0.74      0.72      0.72       357\n",
            "weighted avg       0.74      0.73      0.72       357\n",
            "\n",
            "Confusion Matrix for Test Set:\n",
            " [[ 98  70]\n",
            " [ 26 163]]\n"
          ]
        },
        {
          "output_type": "stream",
          "name": "stderr",
          "text": [
            " 60%|██████    | 60/100 [00:01<00:00, 56.11it/s]\n"
          ]
        },
        {
          "output_type": "stream",
          "name": "stdout",
          "text": [
            "\tEarly stopping\n",
            "64 0.3 0.5 0.3 5\n",
            "Accuracy on Test Set: 0.6862745098039216\n",
            "Cohen's Kappa Score on Test Set: 0.35805799055967635\n",
            "              precision    recall  f1-score   support\n",
            "\n",
            "           0       0.75      0.49      0.60       168\n",
            "           1       0.66      0.86      0.74       189\n",
            "\n",
            "    accuracy                           0.69       357\n",
            "   macro avg       0.71      0.68      0.67       357\n",
            "weighted avg       0.70      0.69      0.67       357\n",
            "\n",
            "Confusion Matrix for Test Set:\n",
            " [[ 83  85]\n",
            " [ 27 162]]\n"
          ]
        },
        {
          "output_type": "stream",
          "name": "stderr",
          "text": [
            "100%|██████████| 100/100 [00:01<00:00, 57.66it/s]\n"
          ]
        },
        {
          "output_type": "stream",
          "name": "stdout",
          "text": [
            "64 0.3 0.5 0.5 3\n",
            "Accuracy on Test Set: 0.7086834733893558\n",
            "Cohen's Kappa Score on Test Set: 0.410273515677118\n",
            "              precision    recall  f1-score   support\n",
            "\n",
            "           0       0.73      0.61      0.66       168\n",
            "           1       0.70      0.79      0.74       189\n",
            "\n",
            "    accuracy                           0.71       357\n",
            "   macro avg       0.71      0.70      0.70       357\n",
            "weighted avg       0.71      0.71      0.71       357\n",
            "\n",
            "Confusion Matrix for Test Set:\n",
            " [[103  65]\n",
            " [ 39 150]]\n"
          ]
        },
        {
          "output_type": "stream",
          "name": "stderr",
          "text": [
            " 53%|█████▎    | 53/100 [00:00<00:00, 56.47it/s]\n"
          ]
        },
        {
          "output_type": "stream",
          "name": "stdout",
          "text": [
            "\tEarly stopping\n",
            "64 0.3 0.5 0.5 5\n",
            "Accuracy on Test Set: 0.7927170868347339\n",
            "Cohen's Kappa Score on Test Set: 0.583994708994709\n",
            "              precision    recall  f1-score   support\n",
            "\n",
            "           0       0.78      0.78      0.78       168\n",
            "           1       0.80      0.80      0.80       189\n",
            "\n",
            "    accuracy                           0.79       357\n",
            "   macro avg       0.79      0.79      0.79       357\n",
            "weighted avg       0.79      0.79      0.79       357\n",
            "\n",
            "Confusion Matrix for Test Set:\n",
            " [[131  37]\n",
            " [ 37 152]]\n"
          ]
        },
        {
          "output_type": "stream",
          "name": "stderr",
          "text": [
            "100%|██████████| 100/100 [00:01<00:00, 52.43it/s]\n"
          ]
        },
        {
          "output_type": "stream",
          "name": "stdout",
          "text": [
            "64 0.3 0.5 0.7 3\n",
            "Accuracy on Test Set: 0.7759103641456583\n",
            "Cohen's Kappa Score on Test Set: 0.5442359249329759\n",
            "              precision    recall  f1-score   support\n",
            "\n",
            "           0       0.84      0.64      0.73       168\n",
            "           1       0.74      0.89      0.81       189\n",
            "\n",
            "    accuracy                           0.78       357\n",
            "   macro avg       0.79      0.77      0.77       357\n",
            "weighted avg       0.79      0.78      0.77       357\n",
            "\n",
            "Confusion Matrix for Test Set:\n",
            " [[108  60]\n",
            " [ 20 169]]\n"
          ]
        },
        {
          "output_type": "stream",
          "name": "stderr",
          "text": [
            "100%|██████████| 100/100 [00:02<00:00, 33.88it/s]\n"
          ]
        },
        {
          "output_type": "stream",
          "name": "stdout",
          "text": [
            "64 0.3 0.5 0.7 5\n",
            "Accuracy on Test Set: 0.7647058823529411\n",
            "Cohen's Kappa Score on Test Set: 0.5224080267558529\n",
            "              precision    recall  f1-score   support\n",
            "\n",
            "           0       0.81      0.65      0.72       168\n",
            "           1       0.74      0.87      0.80       189\n",
            "\n",
            "    accuracy                           0.76       357\n",
            "   macro avg       0.77      0.76      0.76       357\n",
            "weighted avg       0.77      0.76      0.76       357\n",
            "\n",
            "Confusion Matrix for Test Set:\n",
            " [[109  59]\n",
            " [ 25 164]]\n"
          ]
        },
        {
          "output_type": "stream",
          "name": "stderr",
          "text": [
            "100%|██████████| 100/100 [00:01<00:00, 57.17it/s]\n"
          ]
        },
        {
          "output_type": "stream",
          "name": "stdout",
          "text": [
            "64 0.5 0.1 0.1 3\n",
            "Accuracy on Test Set: 0.6722689075630253\n",
            "Cohen's Kappa Score on Test Set: 0.3264476803250932\n",
            "              precision    recall  f1-score   support\n",
            "\n",
            "           0       0.76      0.44      0.56       168\n",
            "           1       0.64      0.88      0.74       189\n",
            "\n",
            "    accuracy                           0.67       357\n",
            "   macro avg       0.70      0.66      0.65       357\n",
            "weighted avg       0.70      0.67      0.65       357\n",
            "\n",
            "Confusion Matrix for Test Set:\n",
            " [[ 74  94]\n",
            " [ 23 166]]\n"
          ]
        },
        {
          "output_type": "stream",
          "name": "stderr",
          "text": [
            "100%|██████████| 100/100 [00:01<00:00, 57.68it/s]\n"
          ]
        },
        {
          "output_type": "stream",
          "name": "stdout",
          "text": [
            "64 0.5 0.1 0.1 5\n",
            "Accuracy on Test Set: 0.7759103641456583\n",
            "Cohen's Kappa Score on Test Set: 0.5469686875416389\n",
            "              precision    recall  f1-score   support\n",
            "\n",
            "           0       0.80      0.70      0.75       168\n",
            "           1       0.76      0.85      0.80       189\n",
            "\n",
            "    accuracy                           0.78       357\n",
            "   macro avg       0.78      0.77      0.77       357\n",
            "weighted avg       0.78      0.78      0.77       357\n",
            "\n",
            "Confusion Matrix for Test Set:\n",
            " [[117  51]\n",
            " [ 29 160]]\n"
          ]
        },
        {
          "output_type": "stream",
          "name": "stderr",
          "text": [
            "100%|██████████| 100/100 [00:01<00:00, 58.04it/s]\n"
          ]
        },
        {
          "output_type": "stream",
          "name": "stdout",
          "text": [
            "64 0.5 0.1 0.3 3\n",
            "Accuracy on Test Set: 0.7675070028011205\n",
            "Cohen's Kappa Score on Test Set: 0.5350906095551895\n",
            "              precision    recall  f1-score   support\n",
            "\n",
            "           0       0.74      0.79      0.76       168\n",
            "           1       0.80      0.75      0.77       189\n",
            "\n",
            "    accuracy                           0.77       357\n",
            "   macro avg       0.77      0.77      0.77       357\n",
            "weighted avg       0.77      0.77      0.77       357\n",
            "\n",
            "Confusion Matrix for Test Set:\n",
            " [[132  36]\n",
            " [ 47 142]]\n"
          ]
        },
        {
          "output_type": "stream",
          "name": "stderr",
          "text": [
            " 56%|█████▌    | 56/100 [00:00<00:00, 56.11it/s]\n"
          ]
        },
        {
          "output_type": "stream",
          "name": "stdout",
          "text": [
            "\tEarly stopping\n",
            "64 0.5 0.1 0.3 5\n",
            "Accuracy on Test Set: 0.7591036414565826\n",
            "Cohen's Kappa Score on Test Set: 0.5142857142857142\n",
            "              precision    recall  f1-score   support\n",
            "\n",
            "           0       0.77      0.70      0.73       168\n",
            "           1       0.75      0.81      0.78       189\n",
            "\n",
            "    accuracy                           0.76       357\n",
            "   macro avg       0.76      0.76      0.76       357\n",
            "weighted avg       0.76      0.76      0.76       357\n",
            "\n",
            "Confusion Matrix for Test Set:\n",
            " [[118  50]\n",
            " [ 36 153]]\n"
          ]
        },
        {
          "output_type": "stream",
          "name": "stderr",
          "text": [
            "100%|██████████| 100/100 [00:01<00:00, 56.63it/s]\n"
          ]
        },
        {
          "output_type": "stream",
          "name": "stdout",
          "text": [
            "64 0.5 0.1 0.5 3\n",
            "Accuracy on Test Set: 0.7619047619047619\n",
            "Cohen's Kappa Score on Test Set: 0.5136317738135308\n",
            "              precision    recall  f1-score   support\n",
            "\n",
            "           0       0.86      0.59      0.70       168\n",
            "           1       0.71      0.92      0.80       189\n",
            "\n",
            "    accuracy                           0.76       357\n",
            "   macro avg       0.79      0.75      0.75       357\n",
            "weighted avg       0.78      0.76      0.75       357\n",
            "\n",
            "Confusion Matrix for Test Set:\n",
            " [[ 99  69]\n",
            " [ 16 173]]\n"
          ]
        },
        {
          "output_type": "stream",
          "name": "stderr",
          "text": [
            "100%|██████████| 100/100 [00:01<00:00, 56.97it/s]\n"
          ]
        },
        {
          "output_type": "stream",
          "name": "stdout",
          "text": [
            "64 0.5 0.1 0.5 5\n",
            "Accuracy on Test Set: 0.6834733893557423\n",
            "Cohen's Kappa Score on Test Set: 0.3607321131447587\n",
            "              precision    recall  f1-score   support\n",
            "\n",
            "           0       0.68      0.61      0.64       168\n",
            "           1       0.68      0.75      0.72       189\n",
            "\n",
            "    accuracy                           0.68       357\n",
            "   macro avg       0.68      0.68      0.68       357\n",
            "weighted avg       0.68      0.68      0.68       357\n",
            "\n",
            "Confusion Matrix for Test Set:\n",
            " [[102  66]\n",
            " [ 47 142]]\n"
          ]
        },
        {
          "output_type": "stream",
          "name": "stderr",
          "text": [
            " 57%|█████▋    | 57/100 [00:01<00:01, 38.53it/s]\n"
          ]
        },
        {
          "output_type": "stream",
          "name": "stdout",
          "text": [
            "\tEarly stopping\n",
            "64 0.5 0.1 0.7 3\n",
            "Accuracy on Test Set: 0.7310924369747899\n",
            "Cohen's Kappa Score on Test Set: 0.4642153644123441\n",
            "              precision    recall  f1-score   support\n",
            "\n",
            "           0       0.69      0.78      0.73       168\n",
            "           1       0.78      0.69      0.73       189\n",
            "\n",
            "    accuracy                           0.73       357\n",
            "   macro avg       0.73      0.73      0.73       357\n",
            "weighted avg       0.74      0.73      0.73       357\n",
            "\n",
            "Confusion Matrix for Test Set:\n",
            " [[131  37]\n",
            " [ 59 130]]\n"
          ]
        },
        {
          "output_type": "stream",
          "name": "stderr",
          "text": [
            "100%|██████████| 100/100 [00:02<00:00, 44.65it/s]\n"
          ]
        },
        {
          "output_type": "stream",
          "name": "stdout",
          "text": [
            "64 0.5 0.1 0.7 5\n",
            "Accuracy on Test Set: 0.7647058823529411\n",
            "Cohen's Kappa Score on Test Set: 0.5280898876404494\n",
            "              precision    recall  f1-score   support\n",
            "\n",
            "           0       0.75      0.76      0.75       168\n",
            "           1       0.78      0.77      0.78       189\n",
            "\n",
            "    accuracy                           0.76       357\n",
            "   macro avg       0.76      0.76      0.76       357\n",
            "weighted avg       0.76      0.76      0.76       357\n",
            "\n",
            "Confusion Matrix for Test Set:\n",
            " [[127  41]\n",
            " [ 43 146]]\n"
          ]
        },
        {
          "output_type": "stream",
          "name": "stderr",
          "text": [
            "100%|██████████| 100/100 [00:01<00:00, 56.33it/s]\n"
          ]
        },
        {
          "output_type": "stream",
          "name": "stdout",
          "text": [
            "64 0.5 0.3 0.1 3\n",
            "Accuracy on Test Set: 0.6638655462184874\n",
            "Cohen's Kappa Score on Test Set: 0.3315858453473133\n",
            "              precision    recall  f1-score   support\n",
            "\n",
            "           0       0.62      0.73      0.67       168\n",
            "           1       0.71      0.61      0.66       189\n",
            "\n",
            "    accuracy                           0.66       357\n",
            "   macro avg       0.67      0.67      0.66       357\n",
            "weighted avg       0.67      0.66      0.66       357\n",
            "\n",
            "Confusion Matrix for Test Set:\n",
            " [[122  46]\n",
            " [ 74 115]]\n"
          ]
        },
        {
          "output_type": "stream",
          "name": "stderr",
          "text": [
            "100%|██████████| 100/100 [00:02<00:00, 49.11it/s]\n"
          ]
        },
        {
          "output_type": "stream",
          "name": "stdout",
          "text": [
            "64 0.5 0.3 0.1 5\n",
            "Accuracy on Test Set: 0.742296918767507\n",
            "Cohen's Kappa Score on Test Set: 0.47587131367292224\n",
            "              precision    recall  f1-score   support\n",
            "\n",
            "           0       0.80      0.61      0.69       168\n",
            "           1       0.71      0.86      0.78       189\n",
            "\n",
            "    accuracy                           0.74       357\n",
            "   macro avg       0.75      0.73      0.73       357\n",
            "weighted avg       0.75      0.74      0.74       357\n",
            "\n",
            "Confusion Matrix for Test Set:\n",
            " [[102  66]\n",
            " [ 26 163]]\n"
          ]
        },
        {
          "output_type": "stream",
          "name": "stderr",
          "text": [
            "100%|██████████| 100/100 [00:01<00:00, 58.25it/s]\n"
          ]
        },
        {
          "output_type": "stream",
          "name": "stdout",
          "text": [
            "64 0.5 0.3 0.3 3\n",
            "Accuracy on Test Set: 0.7507002801120448\n",
            "Cohen's Kappa Score on Test Set: 0.49177023849512935\n",
            "              precision    recall  f1-score   support\n",
            "\n",
            "           0       0.83      0.60      0.69       168\n",
            "           1       0.71      0.89      0.79       189\n",
            "\n",
            "    accuracy                           0.75       357\n",
            "   macro avg       0.77      0.74      0.74       357\n",
            "weighted avg       0.77      0.75      0.74       357\n",
            "\n",
            "Confusion Matrix for Test Set:\n",
            " [[100  68]\n",
            " [ 21 168]]\n"
          ]
        },
        {
          "output_type": "stream",
          "name": "stderr",
          "text": [
            "100%|██████████| 100/100 [00:01<00:00, 57.60it/s]\n"
          ]
        },
        {
          "output_type": "stream",
          "name": "stdout",
          "text": [
            "64 0.5 0.3 0.3 5\n",
            "Accuracy on Test Set: 0.7703081232492998\n",
            "Cohen's Kappa Score on Test Set: 0.5362608117099135\n",
            "              precision    recall  f1-score   support\n",
            "\n",
            "           0       0.79      0.70      0.74       168\n",
            "           1       0.76      0.83      0.79       189\n",
            "\n",
            "    accuracy                           0.77       357\n",
            "   macro avg       0.77      0.77      0.77       357\n",
            "weighted avg       0.77      0.77      0.77       357\n",
            "\n",
            "Confusion Matrix for Test Set:\n",
            " [[118  50]\n",
            " [ 32 157]]\n"
          ]
        },
        {
          "output_type": "stream",
          "name": "stderr",
          "text": [
            "100%|██████████| 100/100 [00:01<00:00, 54.15it/s]\n"
          ]
        },
        {
          "output_type": "stream",
          "name": "stdout",
          "text": [
            "64 0.5 0.3 0.5 3\n",
            "Accuracy on Test Set: 0.8123249299719888\n",
            "Cohen's Kappa Score on Test Set: 0.6222222222222222\n",
            "              precision    recall  f1-score   support\n",
            "\n",
            "           0       0.82      0.77      0.80       168\n",
            "           1       0.81      0.85      0.83       189\n",
            "\n",
            "    accuracy                           0.81       357\n",
            "   macro avg       0.81      0.81      0.81       357\n",
            "weighted avg       0.81      0.81      0.81       357\n",
            "\n",
            "Confusion Matrix for Test Set:\n",
            " [[130  38]\n",
            " [ 29 160]]\n"
          ]
        },
        {
          "output_type": "stream",
          "name": "stderr",
          "text": [
            "100%|██████████| 100/100 [00:02<00:00, 39.03it/s]\n"
          ]
        },
        {
          "output_type": "stream",
          "name": "stdout",
          "text": [
            "64 0.5 0.3 0.5 5\n",
            "Accuracy on Test Set: 0.7535014005602241\n",
            "Cohen's Kappa Score on Test Set: 0.5088640840446488\n",
            "              precision    recall  f1-score   support\n",
            "\n",
            "           0       0.71      0.80      0.75       168\n",
            "           1       0.80      0.71      0.75       189\n",
            "\n",
            "    accuracy                           0.75       357\n",
            "   macro avg       0.76      0.76      0.75       357\n",
            "weighted avg       0.76      0.75      0.75       357\n",
            "\n",
            "Confusion Matrix for Test Set:\n",
            " [[135  33]\n",
            " [ 55 134]]\n"
          ]
        },
        {
          "output_type": "stream",
          "name": "stderr",
          "text": [
            " 55%|█████▌    | 55/100 [00:01<00:00, 45.53it/s]\n"
          ]
        },
        {
          "output_type": "stream",
          "name": "stdout",
          "text": [
            "\tEarly stopping\n",
            "64 0.5 0.3 0.7 3\n",
            "Accuracy on Test Set: 0.6386554621848739\n",
            "Cohen's Kappa Score on Test Set: 0.246132691646614\n",
            "              precision    recall  f1-score   support\n",
            "\n",
            "           0       0.87      0.27      0.42       168\n",
            "           1       0.60      0.96      0.74       189\n",
            "\n",
            "    accuracy                           0.64       357\n",
            "   macro avg       0.73      0.62      0.58       357\n",
            "weighted avg       0.73      0.64      0.59       357\n",
            "\n",
            "Confusion Matrix for Test Set:\n",
            " [[ 46 122]\n",
            " [  7 182]]\n"
          ]
        },
        {
          "output_type": "stream",
          "name": "stderr",
          "text": [
            " 58%|█████▊    | 58/100 [00:01<00:00, 56.38it/s]\n"
          ]
        },
        {
          "output_type": "stream",
          "name": "stdout",
          "text": [
            "\tEarly stopping\n",
            "64 0.5 0.3 0.7 5\n",
            "Accuracy on Test Set: 0.7647058823529411\n",
            "Cohen's Kappa Score on Test Set: 0.5243171219187208\n",
            "              precision    recall  f1-score   support\n",
            "\n",
            "           0       0.79      0.68      0.73       168\n",
            "           1       0.75      0.84      0.79       189\n",
            "\n",
            "    accuracy                           0.76       357\n",
            "   macro avg       0.77      0.76      0.76       357\n",
            "weighted avg       0.77      0.76      0.76       357\n",
            "\n",
            "Confusion Matrix for Test Set:\n",
            " [[115  53]\n",
            " [ 31 158]]\n"
          ]
        },
        {
          "output_type": "stream",
          "name": "stderr",
          "text": [
            "100%|██████████| 100/100 [00:01<00:00, 57.84it/s]\n"
          ]
        },
        {
          "output_type": "stream",
          "name": "stdout",
          "text": [
            "64 0.5 0.5 0.1 3\n",
            "Accuracy on Test Set: 0.6386554621848739\n",
            "Cohen's Kappa Score on Test Set: 0.2755203171456888\n",
            "              precision    recall  f1-score   support\n",
            "\n",
            "           0       0.61      0.62      0.62       168\n",
            "           1       0.66      0.65      0.66       189\n",
            "\n",
            "    accuracy                           0.64       357\n",
            "   macro avg       0.64      0.64      0.64       357\n",
            "weighted avg       0.64      0.64      0.64       357\n",
            "\n",
            "Confusion Matrix for Test Set:\n",
            " [[105  63]\n",
            " [ 66 123]]\n"
          ]
        },
        {
          "output_type": "stream",
          "name": "stderr",
          "text": [
            "100%|██████████| 100/100 [00:01<00:00, 57.67it/s]\n"
          ]
        },
        {
          "output_type": "stream",
          "name": "stdout",
          "text": [
            "64 0.5 0.5 0.1 5\n",
            "Accuracy on Test Set: 0.7142857142857143\n",
            "Cohen's Kappa Score on Test Set: 0.4262078093977498\n",
            "              precision    recall  f1-score   support\n",
            "\n",
            "           0       0.70      0.69      0.69       168\n",
            "           1       0.73      0.74      0.73       189\n",
            "\n",
            "    accuracy                           0.71       357\n",
            "   macro avg       0.71      0.71      0.71       357\n",
            "weighted avg       0.71      0.71      0.71       357\n",
            "\n",
            "Confusion Matrix for Test Set:\n",
            " [[116  52]\n",
            " [ 50 139]]\n"
          ]
        },
        {
          "output_type": "stream",
          "name": "stderr",
          "text": [
            "100%|██████████| 100/100 [00:01<00:00, 57.66it/s]\n"
          ]
        },
        {
          "output_type": "stream",
          "name": "stdout",
          "text": [
            "64 0.5 0.5 0.3 3\n",
            "Accuracy on Test Set: 0.7478991596638656\n",
            "Cohen's Kappa Score on Test Set: 0.4996729888816219\n",
            "              precision    recall  f1-score   support\n",
            "\n",
            "           0       0.69      0.83      0.76       168\n",
            "           1       0.82      0.67      0.74       189\n",
            "\n",
            "    accuracy                           0.75       357\n",
            "   macro avg       0.76      0.75      0.75       357\n",
            "weighted avg       0.76      0.75      0.75       357\n",
            "\n",
            "Confusion Matrix for Test Set:\n",
            " [[140  28]\n",
            " [ 62 127]]\n"
          ]
        },
        {
          "output_type": "stream",
          "name": "stderr",
          "text": [
            "100%|██████████| 100/100 [00:01<00:00, 57.85it/s]\n"
          ]
        },
        {
          "output_type": "stream",
          "name": "stdout",
          "text": [
            "64 0.5 0.5 0.3 5\n",
            "Accuracy on Test Set: 0.6750700280112045\n",
            "Cohen's Kappa Score on Test Set: 0.35216819973718794\n",
            "              precision    recall  f1-score   support\n",
            "\n",
            "           0       0.64      0.71      0.67       168\n",
            "           1       0.72      0.64      0.68       189\n",
            "\n",
            "    accuracy                           0.68       357\n",
            "   macro avg       0.68      0.68      0.68       357\n",
            "weighted avg       0.68      0.68      0.68       357\n",
            "\n",
            "Confusion Matrix for Test Set:\n",
            " [[120  48]\n",
            " [ 68 121]]\n"
          ]
        },
        {
          "output_type": "stream",
          "name": "stderr",
          "text": [
            "100%|██████████| 100/100 [00:01<00:00, 51.70it/s]\n"
          ]
        },
        {
          "output_type": "stream",
          "name": "stdout",
          "text": [
            "64 0.5 0.5 0.5 3\n",
            "Accuracy on Test Set: 0.6526610644257703\n",
            "Cohen's Kappa Score on Test Set: 0.30152418820410865\n",
            "              precision    recall  f1-score   support\n",
            "\n",
            "           0       0.64      0.61      0.62       168\n",
            "           1       0.67      0.69      0.68       189\n",
            "\n",
            "    accuracy                           0.65       357\n",
            "   macro avg       0.65      0.65      0.65       357\n",
            "weighted avg       0.65      0.65      0.65       357\n",
            "\n",
            "Confusion Matrix for Test Set:\n",
            " [[103  65]\n",
            " [ 59 130]]\n"
          ]
        },
        {
          "output_type": "stream",
          "name": "stderr",
          "text": [
            " 59%|█████▉    | 59/100 [00:01<00:01, 37.39it/s]\n"
          ]
        },
        {
          "output_type": "stream",
          "name": "stdout",
          "text": [
            "\tEarly stopping\n",
            "64 0.5 0.5 0.5 5\n",
            "Accuracy on Test Set: 0.5154061624649859\n",
            "Cohen's Kappa Score on Test Set: 0.06426980591791276\n",
            "              precision    recall  f1-score   support\n",
            "\n",
            "           0       0.49      0.84      0.62       168\n",
            "           1       0.61      0.23      0.33       189\n",
            "\n",
            "    accuracy                           0.52       357\n",
            "   macro avg       0.55      0.53      0.48       357\n",
            "weighted avg       0.56      0.52      0.47       357\n",
            "\n",
            "Confusion Matrix for Test Set:\n",
            " [[141  27]\n",
            " [146  43]]\n"
          ]
        },
        {
          "output_type": "stream",
          "name": "stderr",
          "text": [
            "100%|██████████| 100/100 [00:02<00:00, 42.65it/s]\n"
          ]
        },
        {
          "output_type": "stream",
          "name": "stdout",
          "text": [
            "64 0.5 0.5 0.7 3\n",
            "Accuracy on Test Set: 0.6946778711484594\n",
            "Cohen's Kappa Score on Test Set: 0.37797918764686145\n",
            "              precision    recall  f1-score   support\n",
            "\n",
            "           0       0.74      0.54      0.63       168\n",
            "           1       0.67      0.83      0.74       189\n",
            "\n",
            "    accuracy                           0.69       357\n",
            "   macro avg       0.71      0.69      0.68       357\n",
            "weighted avg       0.70      0.69      0.69       357\n",
            "\n",
            "Confusion Matrix for Test Set:\n",
            " [[ 91  77]\n",
            " [ 32 157]]\n"
          ]
        },
        {
          "output_type": "stream",
          "name": "stderr",
          "text": [
            " 54%|█████▍    | 54/100 [00:00<00:00, 56.33it/s]\n"
          ]
        },
        {
          "output_type": "stream",
          "name": "stdout",
          "text": [
            "\tEarly stopping\n",
            "64 0.5 0.5 0.7 5\n",
            "Accuracy on Test Set: 0.7703081232492998\n",
            "Cohen's Kappa Score on Test Set: 0.5319006044325051\n",
            "              precision    recall  f1-score   support\n",
            "\n",
            "           0       0.85      0.62      0.72       168\n",
            "           1       0.73      0.90      0.81       189\n",
            "\n",
            "    accuracy                           0.77       357\n",
            "   macro avg       0.79      0.76      0.76       357\n",
            "weighted avg       0.79      0.77      0.76       357\n",
            "\n",
            "Confusion Matrix for Test Set:\n",
            " [[104  64]\n",
            " [ 18 171]]\n"
          ]
        },
        {
          "output_type": "stream",
          "name": "stderr",
          "text": [
            "100%|██████████| 100/100 [00:01<00:00, 55.88it/s]\n"
          ]
        },
        {
          "output_type": "stream",
          "name": "stdout",
          "text": [
            "128 0.1 0.1 0.1 3\n",
            "Accuracy on Test Set: 0.7787114845938375\n",
            "Cohen's Kappa Score on Test Set: 0.5488747060799463\n",
            "              precision    recall  f1-score   support\n",
            "\n",
            "           0       0.87      0.62      0.73       168\n",
            "           1       0.73      0.92      0.81       189\n",
            "\n",
            "    accuracy                           0.78       357\n",
            "   macro avg       0.80      0.77      0.77       357\n",
            "weighted avg       0.80      0.78      0.77       357\n",
            "\n",
            "Confusion Matrix for Test Set:\n",
            " [[105  63]\n",
            " [ 16 173]]\n"
          ]
        },
        {
          "output_type": "stream",
          "name": "stderr",
          "text": [
            " 56%|█████▌    | 56/100 [00:01<00:00, 54.91it/s]\n"
          ]
        },
        {
          "output_type": "stream",
          "name": "stdout",
          "text": [
            "\tEarly stopping\n",
            "128 0.1 0.1 0.1 5\n",
            "Accuracy on Test Set: 0.7759103641456583\n",
            "Cohen's Kappa Score on Test Set: 0.5445411922304086\n",
            "              precision    recall  f1-score   support\n",
            "\n",
            "           0       0.84      0.65      0.73       168\n",
            "           1       0.74      0.89      0.81       189\n",
            "\n",
            "    accuracy                           0.78       357\n",
            "   macro avg       0.79      0.77      0.77       357\n",
            "weighted avg       0.79      0.78      0.77       357\n",
            "\n",
            "Confusion Matrix for Test Set:\n",
            " [[109  59]\n",
            " [ 21 168]]\n"
          ]
        },
        {
          "output_type": "stream",
          "name": "stderr",
          "text": [
            "100%|██████████| 100/100 [00:01<00:00, 57.39it/s]\n"
          ]
        },
        {
          "output_type": "stream",
          "name": "stdout",
          "text": [
            "128 0.1 0.1 0.3 3\n",
            "Accuracy on Test Set: 0.803921568627451\n",
            "Cohen's Kappa Score on Test Set: 0.6049136786188579\n",
            "              precision    recall  f1-score   support\n",
            "\n",
            "           0       0.81      0.76      0.78       168\n",
            "           1       0.80      0.85      0.82       189\n",
            "\n",
            "    accuracy                           0.80       357\n",
            "   macro avg       0.81      0.80      0.80       357\n",
            "weighted avg       0.80      0.80      0.80       357\n",
            "\n",
            "Confusion Matrix for Test Set:\n",
            " [[127  41]\n",
            " [ 29 160]]\n"
          ]
        },
        {
          "output_type": "stream",
          "name": "stderr",
          "text": [
            " 57%|█████▋    | 57/100 [00:01<00:00, 56.28it/s]\n"
          ]
        },
        {
          "output_type": "stream",
          "name": "stdout",
          "text": [
            "\tEarly stopping\n",
            "128 0.1 0.1 0.3 5\n",
            "Accuracy on Test Set: 0.803921568627451\n",
            "Cohen's Kappa Score on Test Set: 0.6030687124749833\n",
            "              precision    recall  f1-score   support\n",
            "\n",
            "           0       0.85      0.71      0.77       168\n",
            "           1       0.78      0.88      0.83       189\n",
            "\n",
            "    accuracy                           0.80       357\n",
            "   macro avg       0.81      0.80      0.80       357\n",
            "weighted avg       0.81      0.80      0.80       357\n",
            "\n",
            "Confusion Matrix for Test Set:\n",
            " [[120  48]\n",
            " [ 22 167]]\n"
          ]
        },
        {
          "output_type": "stream",
          "name": "stderr",
          "text": [
            "100%|██████████| 100/100 [00:01<00:00, 56.99it/s]\n"
          ]
        },
        {
          "output_type": "stream",
          "name": "stdout",
          "text": [
            "128 0.1 0.1 0.5 3\n",
            "Accuracy on Test Set: 0.7787114845938375\n",
            "Cohen's Kappa Score on Test Set: 0.5560330578512397\n",
            "              precision    recall  f1-score   support\n",
            "\n",
            "           0       0.76      0.77      0.77       168\n",
            "           1       0.79      0.79      0.79       189\n",
            "\n",
            "    accuracy                           0.78       357\n",
            "   macro avg       0.78      0.78      0.78       357\n",
            "weighted avg       0.78      0.78      0.78       357\n",
            "\n",
            "Confusion Matrix for Test Set:\n",
            " [[129  39]\n",
            " [ 40 149]]\n"
          ]
        },
        {
          "output_type": "stream",
          "name": "stderr",
          "text": [
            " 60%|██████    | 60/100 [00:01<00:01, 38.43it/s]\n"
          ]
        },
        {
          "output_type": "stream",
          "name": "stdout",
          "text": [
            "\tEarly stopping\n",
            "128 0.1 0.1 0.5 5\n",
            "Accuracy on Test Set: 0.7535014005602241\n",
            "Cohen's Kappa Score on Test Set: 0.5006675567423231\n",
            "              precision    recall  f1-score   support\n",
            "\n",
            "           0       0.79      0.65      0.71       168\n",
            "           1       0.73      0.84      0.78       189\n",
            "\n",
            "    accuracy                           0.75       357\n",
            "   macro avg       0.76      0.75      0.75       357\n",
            "weighted avg       0.76      0.75      0.75       357\n",
            "\n",
            "Confusion Matrix for Test Set:\n",
            " [[110  58]\n",
            " [ 30 159]]\n"
          ]
        },
        {
          "output_type": "stream",
          "name": "stderr",
          "text": [
            "100%|██████████| 100/100 [00:02<00:00, 39.96it/s]\n"
          ]
        },
        {
          "output_type": "stream",
          "name": "stdout",
          "text": [
            "128 0.1 0.1 0.7 3\n",
            "Accuracy on Test Set: 0.773109243697479\n",
            "Cohen's Kappa Score on Test Set: 0.542068506817426\n",
            "              precision    recall  f1-score   support\n",
            "\n",
            "           0       0.79      0.71      0.75       168\n",
            "           1       0.76      0.83      0.79       189\n",
            "\n",
            "    accuracy                           0.77       357\n",
            "   macro avg       0.78      0.77      0.77       357\n",
            "weighted avg       0.77      0.77      0.77       357\n",
            "\n",
            "Confusion Matrix for Test Set:\n",
            " [[119  49]\n",
            " [ 32 157]]\n"
          ]
        },
        {
          "output_type": "stream",
          "name": "stderr",
          "text": [
            "100%|██████████| 100/100 [00:01<00:00, 57.46it/s]\n"
          ]
        },
        {
          "output_type": "stream",
          "name": "stdout",
          "text": [
            "128 0.1 0.1 0.7 5\n",
            "Accuracy on Test Set: 0.7563025210084033\n",
            "Cohen's Kappa Score on Test Set: 0.5055165496489469\n",
            "              precision    recall  f1-score   support\n",
            "\n",
            "           0       0.80      0.64      0.71       168\n",
            "           1       0.73      0.86      0.79       189\n",
            "\n",
            "    accuracy                           0.76       357\n",
            "   macro avg       0.76      0.75      0.75       357\n",
            "weighted avg       0.76      0.76      0.75       357\n",
            "\n",
            "Confusion Matrix for Test Set:\n",
            " [[108  60]\n",
            " [ 27 162]]\n"
          ]
        },
        {
          "output_type": "stream",
          "name": "stderr",
          "text": [
            "100%|██████████| 100/100 [00:01<00:00, 57.19it/s]\n"
          ]
        },
        {
          "output_type": "stream",
          "name": "stdout",
          "text": [
            "128 0.1 0.3 0.1 3\n",
            "Accuracy on Test Set: 0.7647058823529411\n",
            "Cohen's Kappa Score on Test Set: 0.5280898876404494\n",
            "              precision    recall  f1-score   support\n",
            "\n",
            "           0       0.75      0.76      0.75       168\n",
            "           1       0.78      0.77      0.78       189\n",
            "\n",
            "    accuracy                           0.76       357\n",
            "   macro avg       0.76      0.76      0.76       357\n",
            "weighted avg       0.76      0.76      0.76       357\n",
            "\n",
            "Confusion Matrix for Test Set:\n",
            " [[127  41]\n",
            " [ 43 146]]\n"
          ]
        },
        {
          "output_type": "stream",
          "name": "stderr",
          "text": [
            "100%|██████████| 100/100 [00:01<00:00, 57.21it/s]\n"
          ]
        },
        {
          "output_type": "stream",
          "name": "stdout",
          "text": [
            "128 0.1 0.3 0.1 5\n",
            "Accuracy on Test Set: 0.7955182072829131\n",
            "Cohen's Kappa Score on Test Set: 0.590023125206475\n",
            "              precision    recall  f1-score   support\n",
            "\n",
            "           0       0.78      0.79      0.78       168\n",
            "           1       0.81      0.80      0.81       189\n",
            "\n",
            "    accuracy                           0.80       357\n",
            "   macro avg       0.79      0.80      0.79       357\n",
            "weighted avg       0.80      0.80      0.80       357\n",
            "\n",
            "Confusion Matrix for Test Set:\n",
            " [[133  35]\n",
            " [ 38 151]]\n"
          ]
        },
        {
          "output_type": "stream",
          "name": "stderr",
          "text": [
            "100%|██████████| 100/100 [00:01<00:00, 56.99it/s]\n"
          ]
        },
        {
          "output_type": "stream",
          "name": "stdout",
          "text": [
            "128 0.1 0.3 0.3 3\n",
            "Accuracy on Test Set: 0.7815126050420168\n",
            "Cohen's Kappa Score on Test Set: 0.5541358439811701\n",
            "              precision    recall  f1-score   support\n",
            "\n",
            "           0       0.88      0.62      0.73       168\n",
            "           1       0.73      0.93      0.82       189\n",
            "\n",
            "    accuracy                           0.78       357\n",
            "   macro avg       0.81      0.77      0.77       357\n",
            "weighted avg       0.80      0.78      0.78       357\n",
            "\n",
            "Confusion Matrix for Test Set:\n",
            " [[104  64]\n",
            " [ 14 175]]\n"
          ]
        },
        {
          "output_type": "stream",
          "name": "stderr",
          "text": [
            "100%|██████████| 100/100 [00:01<00:00, 57.35it/s]\n"
          ]
        },
        {
          "output_type": "stream",
          "name": "stdout",
          "text": [
            "128 0.1 0.3 0.3 5\n",
            "Accuracy on Test Set: 0.7843137254901961\n",
            "Cohen's Kappa Score on Test Set: 0.5620608899297423\n",
            "              precision    recall  f1-score   support\n",
            "\n",
            "           0       0.84      0.67      0.74       168\n",
            "           1       0.75      0.89      0.81       189\n",
            "\n",
            "    accuracy                           0.78       357\n",
            "   macro avg       0.80      0.78      0.78       357\n",
            "weighted avg       0.79      0.78      0.78       357\n",
            "\n",
            "Confusion Matrix for Test Set:\n",
            " [[112  56]\n",
            " [ 21 168]]\n"
          ]
        },
        {
          "output_type": "stream",
          "name": "stderr",
          "text": [
            "100%|██████████| 100/100 [00:02<00:00, 37.88it/s]\n"
          ]
        },
        {
          "output_type": "stream",
          "name": "stdout",
          "text": [
            "128 0.1 0.3 0.5 3\n",
            "Accuracy on Test Set: 0.7535014005602241\n",
            "Cohen's Kappa Score on Test Set: 0.499330655957162\n",
            "              precision    recall  f1-score   support\n",
            "\n",
            "           0       0.80      0.63      0.71       168\n",
            "           1       0.72      0.86      0.79       189\n",
            "\n",
            "    accuracy                           0.75       357\n",
            "   macro avg       0.76      0.75      0.75       357\n",
            "weighted avg       0.76      0.75      0.75       357\n",
            "\n",
            "Confusion Matrix for Test Set:\n",
            " [[106  62]\n",
            " [ 26 163]]\n"
          ]
        },
        {
          "output_type": "stream",
          "name": "stderr",
          "text": [
            "100%|██████████| 100/100 [00:02<00:00, 45.70it/s]\n"
          ]
        },
        {
          "output_type": "stream",
          "name": "stdout",
          "text": [
            "128 0.1 0.3 0.5 5\n",
            "Accuracy on Test Set: 0.7955182072829131\n",
            "Cohen's Kappa Score on Test Set: 0.5850885991307255\n",
            "              precision    recall  f1-score   support\n",
            "\n",
            "           0       0.85      0.68      0.76       168\n",
            "           1       0.76      0.89      0.82       189\n",
            "\n",
            "    accuracy                           0.80       357\n",
            "   macro avg       0.81      0.79      0.79       357\n",
            "weighted avg       0.80      0.80      0.79       357\n",
            "\n",
            "Confusion Matrix for Test Set:\n",
            " [[115  53]\n",
            " [ 20 169]]\n"
          ]
        },
        {
          "output_type": "stream",
          "name": "stderr",
          "text": [
            "100%|██████████| 100/100 [00:01<00:00, 56.24it/s]\n"
          ]
        },
        {
          "output_type": "stream",
          "name": "stdout",
          "text": [
            "128 0.1 0.3 0.7 3\n",
            "Accuracy on Test Set: 0.7675070028011205\n",
            "Cohen's Kappa Score on Test Set: 0.5338619094813346\n",
            "              precision    recall  f1-score   support\n",
            "\n",
            "           0       0.75      0.76      0.76       168\n",
            "           1       0.78      0.77      0.78       189\n",
            "\n",
            "    accuracy                           0.77       357\n",
            "   macro avg       0.77      0.77      0.77       357\n",
            "weighted avg       0.77      0.77      0.77       357\n",
            "\n",
            "Confusion Matrix for Test Set:\n",
            " [[128  40]\n",
            " [ 43 146]]\n"
          ]
        },
        {
          "output_type": "stream",
          "name": "stderr",
          "text": [
            "100%|██████████| 100/100 [00:01<00:00, 57.14it/s]\n"
          ]
        },
        {
          "output_type": "stream",
          "name": "stdout",
          "text": [
            "128 0.1 0.3 0.7 5\n",
            "Accuracy on Test Set: 0.7899159663865546\n",
            "Cohen's Kappa Score on Test Set: 0.576271186440678\n",
            "              precision    recall  f1-score   support\n",
            "\n",
            "           0       0.80      0.73      0.77       168\n",
            "           1       0.78      0.84      0.81       189\n",
            "\n",
            "    accuracy                           0.79       357\n",
            "   macro avg       0.79      0.79      0.79       357\n",
            "weighted avg       0.79      0.79      0.79       357\n",
            "\n",
            "Confusion Matrix for Test Set:\n",
            " [[123  45]\n",
            " [ 30 159]]\n"
          ]
        },
        {
          "output_type": "stream",
          "name": "stderr",
          "text": [
            "100%|██████████| 100/100 [00:01<00:00, 57.25it/s]\n"
          ]
        },
        {
          "output_type": "stream",
          "name": "stdout",
          "text": [
            "128 0.1 0.5 0.1 3\n",
            "Accuracy on Test Set: 0.7899159663865546\n",
            "Cohen's Kappa Score on Test Set: 0.5720040281973817\n",
            "              precision    recall  f1-score   support\n",
            "\n",
            "           0       0.88      0.64      0.74       168\n",
            "           1       0.74      0.92      0.82       189\n",
            "\n",
            "    accuracy                           0.79       357\n",
            "   macro avg       0.81      0.78      0.78       357\n",
            "weighted avg       0.81      0.79      0.78       357\n",
            "\n",
            "Confusion Matrix for Test Set:\n",
            " [[108  60]\n",
            " [ 15 174]]\n"
          ]
        },
        {
          "output_type": "stream",
          "name": "stderr",
          "text": [
            "100%|██████████| 100/100 [00:01<00:00, 56.02it/s]\n"
          ]
        },
        {
          "output_type": "stream",
          "name": "stdout",
          "text": [
            "128 0.1 0.5 0.1 5\n",
            "Accuracy on Test Set: 0.742296918767507\n",
            "Cohen's Kappa Score on Test Set: 0.47516778523489933\n",
            "              precision    recall  f1-score   support\n",
            "\n",
            "           0       0.81      0.60      0.68       168\n",
            "           1       0.71      0.87      0.78       189\n",
            "\n",
            "    accuracy                           0.74       357\n",
            "   macro avg       0.76      0.73      0.73       357\n",
            "weighted avg       0.75      0.74      0.74       357\n",
            "\n",
            "Confusion Matrix for Test Set:\n",
            " [[100  68]\n",
            " [ 24 165]]\n"
          ]
        },
        {
          "output_type": "stream",
          "name": "stderr",
          "text": [
            "100%|██████████| 100/100 [00:01<00:00, 54.17it/s]\n"
          ]
        },
        {
          "output_type": "stream",
          "name": "stdout",
          "text": [
            "128 0.1 0.5 0.3 3\n",
            "Accuracy on Test Set: 0.7507002801120448\n",
            "Cohen's Kappa Score on Test Set: 0.49516182849516177\n",
            "              precision    recall  f1-score   support\n",
            "\n",
            "           0       0.78      0.65      0.71       168\n",
            "           1       0.73      0.84      0.78       189\n",
            "\n",
            "    accuracy                           0.75       357\n",
            "   macro avg       0.76      0.75      0.75       357\n",
            "weighted avg       0.75      0.75      0.75       357\n",
            "\n",
            "Confusion Matrix for Test Set:\n",
            " [[110  58]\n",
            " [ 31 158]]\n"
          ]
        },
        {
          "output_type": "stream",
          "name": "stderr",
          "text": [
            "100%|██████████| 100/100 [00:02<00:00, 38.95it/s]\n"
          ]
        },
        {
          "output_type": "stream",
          "name": "stdout",
          "text": [
            "128 0.1 0.5 0.3 5\n",
            "Accuracy on Test Set: 0.6834733893557423\n",
            "Cohen's Kappa Score on Test Set: 0.3573101371696219\n",
            "              precision    recall  f1-score   support\n",
            "\n",
            "           0       0.71      0.56      0.62       168\n",
            "           1       0.67      0.79      0.73       189\n",
            "\n",
            "    accuracy                           0.68       357\n",
            "   macro avg       0.69      0.68      0.68       357\n",
            "weighted avg       0.69      0.68      0.68       357\n",
            "\n",
            "Confusion Matrix for Test Set:\n",
            " [[ 94  74]\n",
            " [ 39 150]]\n"
          ]
        },
        {
          "output_type": "stream",
          "name": "stderr",
          "text": [
            " 62%|██████▏   | 62/100 [00:01<00:00, 49.22it/s]\n"
          ]
        },
        {
          "output_type": "stream",
          "name": "stdout",
          "text": [
            "\tEarly stopping\n",
            "128 0.1 0.5 0.5 3\n",
            "Accuracy on Test Set: 0.7563025210084033\n",
            "Cohen's Kappa Score on Test Set: 0.5041904123365739\n",
            "              precision    recall  f1-score   support\n",
            "\n",
            "           0       0.82      0.62      0.71       168\n",
            "           1       0.72      0.88      0.79       189\n",
            "\n",
            "    accuracy                           0.76       357\n",
            "   macro avg       0.77      0.75      0.75       357\n",
            "weighted avg       0.77      0.76      0.75       357\n",
            "\n",
            "Confusion Matrix for Test Set:\n",
            " [[104  64]\n",
            " [ 23 166]]\n"
          ]
        },
        {
          "output_type": "stream",
          "name": "stderr",
          "text": [
            "100%|██████████| 100/100 [00:01<00:00, 56.90it/s]\n"
          ]
        },
        {
          "output_type": "stream",
          "name": "stdout",
          "text": [
            "128 0.1 0.5 0.5 5\n",
            "Accuracy on Test Set: 0.7815126050420168\n",
            "Cohen's Kappa Score on Test Set: 0.5609271523178808\n",
            "              precision    recall  f1-score   support\n",
            "\n",
            "           0       0.77      0.76      0.77       168\n",
            "           1       0.79      0.80      0.80       189\n",
            "\n",
            "    accuracy                           0.78       357\n",
            "   macro avg       0.78      0.78      0.78       357\n",
            "weighted avg       0.78      0.78      0.78       357\n",
            "\n",
            "Confusion Matrix for Test Set:\n",
            " [[127  41]\n",
            " [ 37 152]]\n"
          ]
        },
        {
          "output_type": "stream",
          "name": "stderr",
          "text": [
            " 57%|█████▋    | 57/100 [00:01<00:00, 56.20it/s]\n"
          ]
        },
        {
          "output_type": "stream",
          "name": "stdout",
          "text": [
            "\tEarly stopping\n",
            "128 0.1 0.5 0.7 3\n",
            "Accuracy on Test Set: 0.7815126050420168\n",
            "Cohen's Kappa Score on Test Set: 0.5535353535353535\n",
            "              precision    recall  f1-score   support\n",
            "\n",
            "           0       0.89      0.61      0.72       168\n",
            "           1       0.73      0.94      0.82       189\n",
            "\n",
            "    accuracy                           0.78       357\n",
            "   macro avg       0.81      0.77      0.77       357\n",
            "weighted avg       0.81      0.78      0.77       357\n",
            "\n",
            "Confusion Matrix for Test Set:\n",
            " [[102  66]\n",
            " [ 12 177]]\n"
          ]
        },
        {
          "output_type": "stream",
          "name": "stderr",
          "text": [
            "100%|██████████| 100/100 [00:01<00:00, 57.38it/s]\n"
          ]
        },
        {
          "output_type": "stream",
          "name": "stdout",
          "text": [
            "128 0.1 0.5 0.7 5\n",
            "Accuracy on Test Set: 0.7955182072829131\n",
            "Cohen's Kappa Score on Test Set: 0.5859192525859191\n",
            "              precision    recall  f1-score   support\n",
            "\n",
            "           0       0.84      0.70      0.76       168\n",
            "           1       0.77      0.88      0.82       189\n",
            "\n",
            "    accuracy                           0.80       357\n",
            "   macro avg       0.80      0.79      0.79       357\n",
            "weighted avg       0.80      0.80      0.79       357\n",
            "\n",
            "Confusion Matrix for Test Set:\n",
            " [[118  50]\n",
            " [ 23 166]]\n"
          ]
        },
        {
          "output_type": "stream",
          "name": "stderr",
          "text": [
            "100%|██████████| 100/100 [00:02<00:00, 48.47it/s]\n"
          ]
        },
        {
          "output_type": "stream",
          "name": "stdout",
          "text": [
            "128 0.3 0.1 0.1 3\n",
            "Accuracy on Test Set: 0.7170868347338936\n",
            "Cohen's Kappa Score on Test Set: 0.4244049614482065\n",
            "              precision    recall  f1-score   support\n",
            "\n",
            "           0       0.76      0.58      0.66       168\n",
            "           1       0.69      0.84      0.76       189\n",
            "\n",
            "    accuracy                           0.72       357\n",
            "   macro avg       0.73      0.71      0.71       357\n",
            "weighted avg       0.73      0.72      0.71       357\n",
            "\n",
            "Confusion Matrix for Test Set:\n",
            " [[ 97  71]\n",
            " [ 30 159]]\n"
          ]
        },
        {
          "output_type": "stream",
          "name": "stderr",
          "text": [
            "100%|██████████| 100/100 [00:01<00:00, 57.54it/s]\n"
          ]
        },
        {
          "output_type": "stream",
          "name": "stdout",
          "text": [
            "128 0.3 0.1 0.1 5\n",
            "Accuracy on Test Set: 0.7338935574229691\n",
            "Cohen's Kappa Score on Test Set: 0.45896147403685095\n",
            "              precision    recall  f1-score   support\n",
            "\n",
            "           0       0.78      0.60      0.68       168\n",
            "           1       0.71      0.85      0.77       189\n",
            "\n",
            "    accuracy                           0.73       357\n",
            "   macro avg       0.74      0.73      0.73       357\n",
            "weighted avg       0.74      0.73      0.73       357\n",
            "\n",
            "Confusion Matrix for Test Set:\n",
            " [[101  67]\n",
            " [ 28 161]]\n"
          ]
        },
        {
          "output_type": "stream",
          "name": "stderr",
          "text": [
            "100%|██████████| 100/100 [00:02<00:00, 45.72it/s]\n"
          ]
        },
        {
          "output_type": "stream",
          "name": "stdout",
          "text": [
            "128 0.3 0.1 0.3 3\n",
            "Accuracy on Test Set: 0.7058823529411765\n",
            "Cohen's Kappa Score on Test Set: 0.40360841964584027\n",
            "              precision    recall  f1-score   support\n",
            "\n",
            "           0       0.73      0.60      0.66       168\n",
            "           1       0.69      0.80      0.74       189\n",
            "\n",
            "    accuracy                           0.71       357\n",
            "   macro avg       0.71      0.70      0.70       357\n",
            "weighted avg       0.71      0.71      0.70       357\n",
            "\n",
            "Confusion Matrix for Test Set:\n",
            " [[100  68]\n",
            " [ 37 152]]\n"
          ]
        },
        {
          "output_type": "stream",
          "name": "stderr",
          "text": [
            "100%|██████████| 100/100 [00:02<00:00, 40.36it/s]\n"
          ]
        },
        {
          "output_type": "stream",
          "name": "stdout",
          "text": [
            "128 0.3 0.1 0.3 5\n",
            "Accuracy on Test Set: 0.7675070028011205\n",
            "Cohen's Kappa Score on Test Set: 0.5298233922025992\n",
            "              precision    recall  f1-score   support\n",
            "\n",
            "           0       0.79      0.68      0.73       168\n",
            "           1       0.75      0.84      0.79       189\n",
            "\n",
            "    accuracy                           0.77       357\n",
            "   macro avg       0.77      0.76      0.76       357\n",
            "weighted avg       0.77      0.77      0.77       357\n",
            "\n",
            "Confusion Matrix for Test Set:\n",
            " [[115  53]\n",
            " [ 30 159]]\n"
          ]
        },
        {
          "output_type": "stream",
          "name": "stderr",
          "text": [
            "100%|██████████| 100/100 [00:01<00:00, 56.66it/s]\n"
          ]
        },
        {
          "output_type": "stream",
          "name": "stdout",
          "text": [
            "128 0.3 0.1 0.5 3\n",
            "Accuracy on Test Set: 0.7535014005602241\n",
            "Cohen's Kappa Score on Test Set: 0.49391069012178623\n",
            "              precision    recall  f1-score   support\n",
            "\n",
            "           0       0.90      0.54      0.67       168\n",
            "           1       0.70      0.95      0.80       189\n",
            "\n",
            "    accuracy                           0.75       357\n",
            "   macro avg       0.80      0.74      0.74       357\n",
            "weighted avg       0.79      0.75      0.74       357\n",
            "\n",
            "Confusion Matrix for Test Set:\n",
            " [[ 90  78]\n",
            " [ 10 179]]\n"
          ]
        },
        {
          "output_type": "stream",
          "name": "stderr",
          "text": [
            "100%|██████████| 100/100 [00:01<00:00, 56.95it/s]\n"
          ]
        },
        {
          "output_type": "stream",
          "name": "stdout",
          "text": [
            "128 0.3 0.1 0.5 5\n",
            "Accuracy on Test Set: 0.7507002801120448\n",
            "Cohen's Kappa Score on Test Set: 0.49784268171257884\n",
            "              precision    recall  f1-score   support\n",
            "\n",
            "           0       0.75      0.70      0.73       168\n",
            "           1       0.75      0.79      0.77       189\n",
            "\n",
            "    accuracy                           0.75       357\n",
            "   macro avg       0.75      0.75      0.75       357\n",
            "weighted avg       0.75      0.75      0.75       357\n",
            "\n",
            "Confusion Matrix for Test Set:\n",
            " [[118  50]\n",
            " [ 39 150]]\n"
          ]
        },
        {
          "output_type": "stream",
          "name": "stderr",
          "text": [
            "100%|██████████| 100/100 [00:01<00:00, 56.16it/s]\n"
          ]
        },
        {
          "output_type": "stream",
          "name": "stdout",
          "text": [
            "128 0.3 0.1 0.7 3\n",
            "Accuracy on Test Set: 0.7282913165266106\n",
            "Cohen's Kappa Score on Test Set: 0.4497831164497831\n",
            "              precision    recall  f1-score   support\n",
            "\n",
            "           0       0.75      0.63      0.69       168\n",
            "           1       0.71      0.81      0.76       189\n",
            "\n",
            "    accuracy                           0.73       357\n",
            "   macro avg       0.73      0.72      0.72       357\n",
            "weighted avg       0.73      0.73      0.73       357\n",
            "\n",
            "Confusion Matrix for Test Set:\n",
            " [[106  62]\n",
            " [ 35 154]]\n"
          ]
        },
        {
          "output_type": "stream",
          "name": "stderr",
          "text": [
            "100%|██████████| 100/100 [00:01<00:00, 56.01it/s]\n"
          ]
        },
        {
          "output_type": "stream",
          "name": "stdout",
          "text": [
            "128 0.3 0.1 0.7 5\n",
            "Accuracy on Test Set: 0.7591036414565826\n",
            "Cohen's Kappa Score on Test Set: 0.5123415610406938\n",
            "              precision    recall  f1-score   support\n",
            "\n",
            "           0       0.79      0.67      0.72       168\n",
            "           1       0.74      0.84      0.79       189\n",
            "\n",
            "    accuracy                           0.76       357\n",
            "   macro avg       0.76      0.75      0.75       357\n",
            "weighted avg       0.76      0.76      0.76       357\n",
            "\n",
            "Confusion Matrix for Test Set:\n",
            " [[112  56]\n",
            " [ 30 159]]\n"
          ]
        },
        {
          "output_type": "stream",
          "name": "stderr",
          "text": [
            "100%|██████████| 100/100 [00:01<00:00, 56.93it/s]\n"
          ]
        },
        {
          "output_type": "stream",
          "name": "stdout",
          "text": [
            "128 0.3 0.3 0.1 3\n",
            "Accuracy on Test Set: 0.7563025210084033\n",
            "Cohen's Kappa Score on Test Set: 0.5071642785738087\n",
            "              precision    recall  f1-score   support\n",
            "\n",
            "           0       0.78      0.67      0.72       168\n",
            "           1       0.74      0.83      0.78       189\n",
            "\n",
            "    accuracy                           0.76       357\n",
            "   macro avg       0.76      0.75      0.75       357\n",
            "weighted avg       0.76      0.76      0.75       357\n",
            "\n",
            "Confusion Matrix for Test Set:\n",
            " [[113  55]\n",
            " [ 32 157]]\n"
          ]
        },
        {
          "output_type": "stream",
          "name": "stderr",
          "text": [
            "100%|██████████| 100/100 [00:02<00:00, 43.45it/s]\n"
          ]
        },
        {
          "output_type": "stream",
          "name": "stdout",
          "text": [
            "128 0.3 0.3 0.1 5\n",
            "Accuracy on Test Set: 0.7450980392156863\n",
            "Cohen's Kappa Score on Test Set: 0.48347245409015027\n",
            "              precision    recall  f1-score   support\n",
            "\n",
            "           0       0.78      0.64      0.70       168\n",
            "           1       0.72      0.84      0.78       189\n",
            "\n",
            "    accuracy                           0.75       357\n",
            "   macro avg       0.75      0.74      0.74       357\n",
            "weighted avg       0.75      0.75      0.74       357\n",
            "\n",
            "Confusion Matrix for Test Set:\n",
            " [[108  60]\n",
            " [ 31 158]]\n"
          ]
        },
        {
          "output_type": "stream",
          "name": "stderr",
          "text": [
            "100%|██████████| 100/100 [00:02<00:00, 40.44it/s]\n"
          ]
        },
        {
          "output_type": "stream",
          "name": "stdout",
          "text": [
            "128 0.3 0.3 0.3 3\n",
            "Accuracy on Test Set: 0.8123249299719888\n",
            "Cohen's Kappa Score on Test Set: 0.6249588409614751\n",
            "              precision    recall  f1-score   support\n",
            "\n",
            "           0       0.78      0.84      0.81       168\n",
            "           1       0.85      0.79      0.82       189\n",
            "\n",
            "    accuracy                           0.81       357\n",
            "   macro avg       0.81      0.81      0.81       357\n",
            "weighted avg       0.81      0.81      0.81       357\n",
            "\n",
            "Confusion Matrix for Test Set:\n",
            " [[141  27]\n",
            " [ 40 149]]\n"
          ]
        },
        {
          "output_type": "stream",
          "name": "stderr",
          "text": [
            "100%|██████████| 100/100 [00:01<00:00, 57.14it/s]\n"
          ]
        },
        {
          "output_type": "stream",
          "name": "stdout",
          "text": [
            "128 0.3 0.3 0.3 5\n",
            "Accuracy on Test Set: 0.8095238095238095\n",
            "Cohen's Kappa Score on Test Set: 0.6177248677248677\n",
            "              precision    recall  f1-score   support\n",
            "\n",
            "           0       0.80      0.80      0.80       168\n",
            "           1       0.82      0.82      0.82       189\n",
            "\n",
            "    accuracy                           0.81       357\n",
            "   macro avg       0.81      0.81      0.81       357\n",
            "weighted avg       0.81      0.81      0.81       357\n",
            "\n",
            "Confusion Matrix for Test Set:\n",
            " [[134  34]\n",
            " [ 34 155]]\n"
          ]
        },
        {
          "output_type": "stream",
          "name": "stderr",
          "text": [
            "100%|██████████| 100/100 [00:01<00:00, 56.83it/s]\n"
          ]
        },
        {
          "output_type": "stream",
          "name": "stdout",
          "text": [
            "128 0.3 0.3 0.5 3\n",
            "Accuracy on Test Set: 0.773109243697479\n",
            "Cohen's Kappa Score on Test Set: 0.5411529490169944\n",
            "              precision    recall  f1-score   support\n",
            "\n",
            "           0       0.80      0.69      0.74       168\n",
            "           1       0.75      0.85      0.80       189\n",
            "\n",
            "    accuracy                           0.77       357\n",
            "   macro avg       0.78      0.77      0.77       357\n",
            "weighted avg       0.78      0.77      0.77       357\n",
            "\n",
            "Confusion Matrix for Test Set:\n",
            " [[116  52]\n",
            " [ 29 160]]\n"
          ]
        },
        {
          "output_type": "stream",
          "name": "stderr",
          "text": [
            " 58%|█████▊    | 58/100 [00:01<00:00, 56.56it/s]\n"
          ]
        },
        {
          "output_type": "stream",
          "name": "stdout",
          "text": [
            "\tEarly stopping\n",
            "128 0.3 0.3 0.5 5\n",
            "Accuracy on Test Set: 0.8011204481792717\n",
            "Cohen's Kappa Score on Test Set: 0.6009917355371901\n",
            "              precision    recall  f1-score   support\n",
            "\n",
            "           0       0.79      0.79      0.79       168\n",
            "           1       0.81      0.81      0.81       189\n",
            "\n",
            "    accuracy                           0.80       357\n",
            "   macro avg       0.80      0.80      0.80       357\n",
            "weighted avg       0.80      0.80      0.80       357\n",
            "\n",
            "Confusion Matrix for Test Set:\n",
            " [[133  35]\n",
            " [ 36 153]]\n"
          ]
        },
        {
          "output_type": "stream",
          "name": "stderr",
          "text": [
            "100%|██████████| 100/100 [00:01<00:00, 57.09it/s]\n"
          ]
        },
        {
          "output_type": "stream",
          "name": "stdout",
          "text": [
            "128 0.3 0.3 0.7 3\n",
            "Accuracy on Test Set: 0.7927170868347339\n",
            "Cohen's Kappa Score on Test Set: 0.5803869246164108\n",
            "              precision    recall  f1-score   support\n",
            "\n",
            "           0       0.83      0.70      0.76       168\n",
            "           1       0.77      0.87      0.82       189\n",
            "\n",
            "    accuracy                           0.79       357\n",
            "   macro avg       0.80      0.79      0.79       357\n",
            "weighted avg       0.80      0.79      0.79       357\n",
            "\n",
            "Confusion Matrix for Test Set:\n",
            " [[118  50]\n",
            " [ 24 165]]\n"
          ]
        },
        {
          "output_type": "stream",
          "name": "stderr",
          "text": [
            "100%|██████████| 100/100 [00:01<00:00, 57.23it/s]\n"
          ]
        },
        {
          "output_type": "stream",
          "name": "stdout",
          "text": [
            "128 0.3 0.3 0.7 5\n",
            "Accuracy on Test Set: 0.7759103641456583\n",
            "Cohen's Kappa Score on Test Set: 0.548472775564409\n",
            "              precision    recall  f1-score   support\n",
            "\n",
            "           0       0.78      0.73      0.75       168\n",
            "           1       0.77      0.82      0.79       189\n",
            "\n",
            "    accuracy                           0.78       357\n",
            "   macro avg       0.78      0.77      0.77       357\n",
            "weighted avg       0.78      0.78      0.78       357\n",
            "\n",
            "Confusion Matrix for Test Set:\n",
            " [[122  46]\n",
            " [ 34 155]]\n"
          ]
        },
        {
          "output_type": "stream",
          "name": "stderr",
          "text": [
            "100%|██████████| 100/100 [00:02<00:00, 44.14it/s]\n"
          ]
        },
        {
          "output_type": "stream",
          "name": "stdout",
          "text": [
            "128 0.3 0.5 0.1 3\n",
            "Accuracy on Test Set: 0.7535014005602241\n",
            "Cohen's Kappa Score on Test Set: 0.5\n",
            "              precision    recall  f1-score   support\n",
            "\n",
            "           0       0.79      0.64      0.71       168\n",
            "           1       0.73      0.85      0.79       189\n",
            "\n",
            "    accuracy                           0.75       357\n",
            "   macro avg       0.76      0.75      0.75       357\n",
            "weighted avg       0.76      0.75      0.75       357\n",
            "\n",
            "Confusion Matrix for Test Set:\n",
            " [[108  60]\n",
            " [ 28 161]]\n"
          ]
        },
        {
          "output_type": "stream",
          "name": "stderr",
          "text": [
            " 65%|██████▌   | 65/100 [00:01<00:00, 40.28it/s]\n"
          ]
        },
        {
          "output_type": "stream",
          "name": "stdout",
          "text": [
            "\tEarly stopping\n",
            "128 0.3 0.5 0.1 5\n",
            "Accuracy on Test Set: 0.7563025210084033\n",
            "Cohen's Kappa Score on Test Set: 0.5065065065065064\n",
            "              precision    recall  f1-score   support\n",
            "\n",
            "           0       0.79      0.66      0.72       168\n",
            "           1       0.74      0.84      0.79       189\n",
            "\n",
            "    accuracy                           0.76       357\n",
            "   macro avg       0.76      0.75      0.75       357\n",
            "weighted avg       0.76      0.76      0.75       357\n",
            "\n",
            "Confusion Matrix for Test Set:\n",
            " [[111  57]\n",
            " [ 30 159]]\n"
          ]
        },
        {
          "output_type": "stream",
          "name": "stderr",
          "text": [
            "100%|██████████| 100/100 [00:01<00:00, 55.64it/s]\n"
          ]
        },
        {
          "output_type": "stream",
          "name": "stdout",
          "text": [
            "128 0.3 0.5 0.3 3\n",
            "Accuracy on Test Set: 0.7478991596638656\n",
            "Cohen's Kappa Score on Test Set: 0.48692152917505027\n",
            "              precision    recall  f1-score   support\n",
            "\n",
            "           0       0.81      0.61      0.69       168\n",
            "           1       0.71      0.87      0.79       189\n",
            "\n",
            "    accuracy                           0.75       357\n",
            "   macro avg       0.76      0.74      0.74       357\n",
            "weighted avg       0.76      0.75      0.74       357\n",
            "\n",
            "Confusion Matrix for Test Set:\n",
            " [[102  66]\n",
            " [ 24 165]]\n"
          ]
        },
        {
          "output_type": "stream",
          "name": "stderr",
          "text": [
            "100%|██████████| 100/100 [00:01<00:00, 56.97it/s]\n"
          ]
        },
        {
          "output_type": "stream",
          "name": "stdout",
          "text": [
            "128 0.3 0.5 0.3 5\n",
            "Accuracy on Test Set: 0.7226890756302521\n",
            "Cohen's Kappa Score on Test Set: 0.44692737430167595\n",
            "              precision    recall  f1-score   support\n",
            "\n",
            "           0       0.68      0.76      0.72       168\n",
            "           1       0.76      0.69      0.72       189\n",
            "\n",
            "    accuracy                           0.72       357\n",
            "   macro avg       0.72      0.72      0.72       357\n",
            "weighted avg       0.73      0.72      0.72       357\n",
            "\n",
            "Confusion Matrix for Test Set:\n",
            " [[128  40]\n",
            " [ 59 130]]\n"
          ]
        },
        {
          "output_type": "stream",
          "name": "stderr",
          "text": [
            "100%|██████████| 100/100 [00:01<00:00, 57.45it/s]\n"
          ]
        },
        {
          "output_type": "stream",
          "name": "stdout",
          "text": [
            "128 0.3 0.5 0.5 3\n",
            "Accuracy on Test Set: 0.7647058823529411\n",
            "Cohen's Kappa Score on Test Set: 0.5255813953488373\n",
            "              precision    recall  f1-score   support\n",
            "\n",
            "           0       0.77      0.71      0.74       168\n",
            "           1       0.76      0.81      0.79       189\n",
            "\n",
            "    accuracy                           0.76       357\n",
            "   macro avg       0.77      0.76      0.76       357\n",
            "weighted avg       0.77      0.76      0.76       357\n",
            "\n",
            "Confusion Matrix for Test Set:\n",
            " [[119  49]\n",
            " [ 35 154]]\n"
          ]
        },
        {
          "output_type": "stream",
          "name": "stderr",
          "text": [
            "100%|██████████| 100/100 [00:01<00:00, 56.91it/s]\n"
          ]
        },
        {
          "output_type": "stream",
          "name": "stdout",
          "text": [
            "128 0.3 0.5 0.5 5\n",
            "Accuracy on Test Set: 0.773109243697479\n",
            "Cohen's Kappa Score on Test Set: 0.5426768515443374\n",
            "              precision    recall  f1-score   support\n",
            "\n",
            "           0       0.78      0.72      0.75       168\n",
            "           1       0.77      0.82      0.79       189\n",
            "\n",
            "    accuracy                           0.77       357\n",
            "   macro avg       0.77      0.77      0.77       357\n",
            "weighted avg       0.77      0.77      0.77       357\n",
            "\n",
            "Confusion Matrix for Test Set:\n",
            " [[121  47]\n",
            " [ 34 155]]\n"
          ]
        },
        {
          "output_type": "stream",
          "name": "stderr",
          "text": [
            "100%|██████████| 100/100 [00:02<00:00, 48.24it/s]\n"
          ]
        },
        {
          "output_type": "stream",
          "name": "stdout",
          "text": [
            "128 0.3 0.5 0.7 3\n",
            "Accuracy on Test Set: 0.7759103641456583\n",
            "Cohen's Kappa Score on Test Set: 0.5454545454545454\n",
            "              precision    recall  f1-score   support\n",
            "\n",
            "           0       0.82      0.67      0.74       168\n",
            "           1       0.75      0.87      0.80       189\n",
            "\n",
            "    accuracy                           0.78       357\n",
            "   macro avg       0.79      0.77      0.77       357\n",
            "weighted avg       0.78      0.78      0.77       357\n",
            "\n",
            "Confusion Matrix for Test Set:\n",
            " [[112  56]\n",
            " [ 24 165]]\n"
          ]
        },
        {
          "output_type": "stream",
          "name": "stderr",
          "text": [
            "100%|██████████| 100/100 [00:02<00:00, 41.69it/s]\n"
          ]
        },
        {
          "output_type": "stream",
          "name": "stdout",
          "text": [
            "128 0.3 0.5 0.7 5\n",
            "Accuracy on Test Set: 0.7535014005602241\n",
            "Cohen's Kappa Score on Test Set: 0.4996655518394648\n",
            "              precision    recall  f1-score   support\n",
            "\n",
            "           0       0.80      0.64      0.71       168\n",
            "           1       0.73      0.86      0.79       189\n",
            "\n",
            "    accuracy                           0.75       357\n",
            "   macro avg       0.76      0.75      0.75       357\n",
            "weighted avg       0.76      0.75      0.75       357\n",
            "\n",
            "Confusion Matrix for Test Set:\n",
            " [[107  61]\n",
            " [ 27 162]]\n"
          ]
        },
        {
          "output_type": "stream",
          "name": "stderr",
          "text": [
            "100%|██████████| 100/100 [00:02<00:00, 39.82it/s]\n"
          ]
        },
        {
          "output_type": "stream",
          "name": "stdout",
          "text": [
            "128 0.5 0.1 0.1 3\n",
            "Accuracy on Test Set: 0.7450980392156863\n",
            "Cohen's Kappa Score on Test Set: 0.48069822087948977\n",
            "              precision    recall  f1-score   support\n",
            "\n",
            "           0       0.81      0.60      0.69       168\n",
            "           1       0.71      0.88      0.78       189\n",
            "\n",
            "    accuracy                           0.75       357\n",
            "   macro avg       0.76      0.74      0.74       357\n",
            "weighted avg       0.76      0.75      0.74       357\n",
            "\n",
            "Confusion Matrix for Test Set:\n",
            " [[100  68]\n",
            " [ 23 166]]\n"
          ]
        },
        {
          "output_type": "stream",
          "name": "stderr",
          "text": [
            " 60%|██████    | 60/100 [00:01<00:01, 34.27it/s]\n"
          ]
        },
        {
          "output_type": "stream",
          "name": "stdout",
          "text": [
            "\tEarly stopping\n",
            "128 0.5 0.1 0.1 5\n",
            "Accuracy on Test Set: 0.7450980392156863\n",
            "Cohen's Kappa Score on Test Set: 0.48139456922561175\n",
            "              precision    recall  f1-score   support\n",
            "\n",
            "           0       0.80      0.61      0.69       168\n",
            "           1       0.71      0.87      0.78       189\n",
            "\n",
            "    accuracy                           0.75       357\n",
            "   macro avg       0.76      0.74      0.74       357\n",
            "weighted avg       0.76      0.75      0.74       357\n",
            "\n",
            "Confusion Matrix for Test Set:\n",
            " [[102  66]\n",
            " [ 25 164]]\n"
          ]
        },
        {
          "output_type": "stream",
          "name": "stderr",
          "text": [
            "100%|██████████| 100/100 [00:01<00:00, 55.93it/s]\n"
          ]
        },
        {
          "output_type": "stream",
          "name": "stdout",
          "text": [
            "128 0.5 0.1 0.3 3\n",
            "Accuracy on Test Set: 0.7675070028011205\n",
            "Cohen's Kappa Score on Test Set: 0.5313849219528396\n",
            "              precision    recall  f1-score   support\n",
            "\n",
            "           0       0.77      0.71      0.74       168\n",
            "           1       0.76      0.81      0.79       189\n",
            "\n",
            "    accuracy                           0.77       357\n",
            "   macro avg       0.77      0.76      0.77       357\n",
            "weighted avg       0.77      0.77      0.77       357\n",
            "\n",
            "Confusion Matrix for Test Set:\n",
            " [[120  48]\n",
            " [ 35 154]]\n"
          ]
        },
        {
          "output_type": "stream",
          "name": "stderr",
          "text": [
            "100%|██████████| 100/100 [00:01<00:00, 56.71it/s]\n"
          ]
        },
        {
          "output_type": "stream",
          "name": "stdout",
          "text": [
            "128 0.5 0.1 0.3 5\n",
            "Accuracy on Test Set: 0.7563025210084033\n",
            "Cohen's Kappa Score on Test Set: 0.5091271158313972\n",
            "              precision    recall  f1-score   support\n",
            "\n",
            "           0       0.76      0.71      0.73       168\n",
            "           1       0.76      0.80      0.78       189\n",
            "\n",
            "    accuracy                           0.76       357\n",
            "   macro avg       0.76      0.75      0.75       357\n",
            "weighted avg       0.76      0.76      0.76       357\n",
            "\n",
            "Confusion Matrix for Test Set:\n",
            " [[119  49]\n",
            " [ 38 151]]\n"
          ]
        },
        {
          "output_type": "stream",
          "name": "stderr",
          "text": [
            "100%|██████████| 100/100 [00:01<00:00, 56.66it/s]\n"
          ]
        },
        {
          "output_type": "stream",
          "name": "stdout",
          "text": [
            "128 0.5 0.1 0.5 3\n",
            "Accuracy on Test Set: 0.7703081232492998\n",
            "Cohen's Kappa Score on Test Set: 0.5371845949535192\n",
            "              precision    recall  f1-score   support\n",
            "\n",
            "           0       0.78      0.72      0.75       168\n",
            "           1       0.77      0.81      0.79       189\n",
            "\n",
            "    accuracy                           0.77       357\n",
            "   macro avg       0.77      0.77      0.77       357\n",
            "weighted avg       0.77      0.77      0.77       357\n",
            "\n",
            "Confusion Matrix for Test Set:\n",
            " [[121  47]\n",
            " [ 35 154]]\n"
          ]
        },
        {
          "output_type": "stream",
          "name": "stderr",
          "text": [
            "100%|██████████| 100/100 [00:02<00:00, 46.06it/s]\n"
          ]
        },
        {
          "output_type": "stream",
          "name": "stdout",
          "text": [
            "128 0.5 0.1 0.5 5\n",
            "Accuracy on Test Set: 0.8067226890756303\n",
            "Cohen's Kappa Score on Test Set: 0.6080855329101236\n",
            "              precision    recall  f1-score   support\n",
            "\n",
            "           0       0.86      0.70      0.77       168\n",
            "           1       0.77      0.90      0.83       189\n",
            "\n",
            "    accuracy                           0.81       357\n",
            "   macro avg       0.82      0.80      0.80       357\n",
            "weighted avg       0.81      0.81      0.80       357\n",
            "\n",
            "Confusion Matrix for Test Set:\n",
            " [[118  50]\n",
            " [ 19 170]]\n"
          ]
        },
        {
          "output_type": "stream",
          "name": "stderr",
          "text": [
            "100%|██████████| 100/100 [00:02<00:00, 40.31it/s]\n"
          ]
        },
        {
          "output_type": "stream",
          "name": "stdout",
          "text": [
            "128 0.5 0.1 0.7 3\n",
            "Accuracy on Test Set: 0.7899159663865546\n",
            "Cohen's Kappa Score on Test Set: 0.5751416194601799\n",
            "              precision    recall  f1-score   support\n",
            "\n",
            "           0       0.82      0.71      0.76       168\n",
            "           1       0.77      0.86      0.81       189\n",
            "\n",
            "    accuracy                           0.79       357\n",
            "   macro avg       0.79      0.79      0.79       357\n",
            "weighted avg       0.79      0.79      0.79       357\n",
            "\n",
            "Confusion Matrix for Test Set:\n",
            " [[119  49]\n",
            " [ 26 163]]\n"
          ]
        },
        {
          "output_type": "stream",
          "name": "stderr",
          "text": [
            "100%|██████████| 100/100 [00:02<00:00, 48.50it/s]\n"
          ]
        },
        {
          "output_type": "stream",
          "name": "stdout",
          "text": [
            "128 0.5 0.1 0.7 5\n",
            "Accuracy on Test Set: 0.7675070028011205\n",
            "Cohen's Kappa Score on Test Set: 0.526986255447536\n",
            "              precision    recall  f1-score   support\n",
            "\n",
            "           0       0.83      0.63      0.72       168\n",
            "           1       0.73      0.89      0.80       189\n",
            "\n",
            "    accuracy                           0.77       357\n",
            "   macro avg       0.78      0.76      0.76       357\n",
            "weighted avg       0.78      0.77      0.76       357\n",
            "\n",
            "Confusion Matrix for Test Set:\n",
            " [[106  62]\n",
            " [ 21 168]]\n"
          ]
        },
        {
          "output_type": "stream",
          "name": "stderr",
          "text": [
            " 62%|██████▏   | 62/100 [00:01<00:00, 55.69it/s]\n"
          ]
        },
        {
          "output_type": "stream",
          "name": "stdout",
          "text": [
            "\tEarly stopping\n",
            "128 0.5 0.3 0.1 3\n",
            "Accuracy on Test Set: 0.7675070028011205\n",
            "Cohen's Kappa Score on Test Set: 0.5244354566902596\n",
            "              precision    recall  f1-score   support\n",
            "\n",
            "           0       0.88      0.58      0.70       168\n",
            "           1       0.72      0.93      0.81       189\n",
            "\n",
            "    accuracy                           0.77       357\n",
            "   macro avg       0.80      0.76      0.76       357\n",
            "weighted avg       0.79      0.77      0.76       357\n",
            "\n",
            "Confusion Matrix for Test Set:\n",
            " [[ 98  70]\n",
            " [ 13 176]]\n"
          ]
        },
        {
          "output_type": "stream",
          "name": "stderr",
          "text": [
            "100%|██████████| 100/100 [00:01<00:00, 57.27it/s]\n"
          ]
        },
        {
          "output_type": "stream",
          "name": "stdout",
          "text": [
            "128 0.5 0.3 0.1 5\n",
            "Accuracy on Test Set: 0.8067226890756303\n",
            "Cohen's Kappa Score on Test Set: 0.6117179741807348\n",
            "              precision    recall  f1-score   support\n",
            "\n",
            "           0       0.80      0.79      0.79       168\n",
            "           1       0.81      0.83      0.82       189\n",
            "\n",
            "    accuracy                           0.81       357\n",
            "   macro avg       0.81      0.81      0.81       357\n",
            "weighted avg       0.81      0.81      0.81       357\n",
            "\n",
            "Confusion Matrix for Test Set:\n",
            " [[132  36]\n",
            " [ 33 156]]\n"
          ]
        },
        {
          "output_type": "stream",
          "name": "stderr",
          "text": [
            " 57%|█████▋    | 57/100 [00:01<00:00, 55.33it/s]\n"
          ]
        },
        {
          "output_type": "stream",
          "name": "stdout",
          "text": [
            "\tEarly stopping\n",
            "128 0.5 0.3 0.3 3\n",
            "Accuracy on Test Set: 0.7787114845938375\n",
            "Cohen's Kappa Score on Test Set: 0.5506858481097356\n",
            "              precision    recall  f1-score   support\n",
            "\n",
            "           0       0.83      0.66      0.74       168\n",
            "           1       0.75      0.88      0.81       189\n",
            "\n",
            "    accuracy                           0.78       357\n",
            "   macro avg       0.79      0.77      0.77       357\n",
            "weighted avg       0.79      0.78      0.78       357\n",
            "\n",
            "Confusion Matrix for Test Set:\n",
            " [[111  57]\n",
            " [ 22 167]]\n"
          ]
        },
        {
          "output_type": "stream",
          "name": "stderr",
          "text": [
            "100%|██████████| 100/100 [00:01<00:00, 57.20it/s]\n"
          ]
        },
        {
          "output_type": "stream",
          "name": "stdout",
          "text": [
            "128 0.5 0.3 0.3 5\n",
            "Accuracy on Test Set: 0.7787114845938375\n",
            "Cohen's Kappa Score on Test Set: 0.5548558170367914\n",
            "              precision    recall  f1-score   support\n",
            "\n",
            "           0       0.78      0.74      0.76       168\n",
            "           1       0.78      0.81      0.79       189\n",
            "\n",
            "    accuracy                           0.78       357\n",
            "   macro avg       0.78      0.78      0.78       357\n",
            "weighted avg       0.78      0.78      0.78       357\n",
            "\n",
            "Confusion Matrix for Test Set:\n",
            " [[125  43]\n",
            " [ 36 153]]\n"
          ]
        },
        {
          "output_type": "stream",
          "name": "stderr",
          "text": [
            " 64%|██████▍   | 64/100 [00:01<00:00, 55.96it/s]\n"
          ]
        },
        {
          "output_type": "stream",
          "name": "stdout",
          "text": [
            "\tEarly stopping\n",
            "128 0.5 0.3 0.5 3\n",
            "Accuracy on Test Set: 0.773109243697479\n",
            "Cohen's Kappa Score on Test Set: 0.5417637271214641\n",
            "              precision    recall  f1-score   support\n",
            "\n",
            "           0       0.79      0.70      0.74       168\n",
            "           1       0.76      0.84      0.80       189\n",
            "\n",
            "    accuracy                           0.77       357\n",
            "   macro avg       0.78      0.77      0.77       357\n",
            "weighted avg       0.77      0.77      0.77       357\n",
            "\n",
            "Confusion Matrix for Test Set:\n",
            " [[118  50]\n",
            " [ 31 158]]\n"
          ]
        },
        {
          "output_type": "stream",
          "name": "stderr",
          "text": [
            "100%|██████████| 100/100 [00:02<00:00, 44.64it/s]\n"
          ]
        },
        {
          "output_type": "stream",
          "name": "stdout",
          "text": [
            "128 0.5 0.3 0.5 5\n",
            "Accuracy on Test Set: 0.7815126050420168\n",
            "Cohen's Kappa Score on Test Set: 0.558\n",
            "              precision    recall  f1-score   support\n",
            "\n",
            "           0       0.81      0.70      0.75       168\n",
            "           1       0.76      0.86      0.81       189\n",
            "\n",
            "    accuracy                           0.78       357\n",
            "   macro avg       0.79      0.78      0.78       357\n",
            "weighted avg       0.79      0.78      0.78       357\n",
            "\n",
            "Confusion Matrix for Test Set:\n",
            " [[117  51]\n",
            " [ 27 162]]\n"
          ]
        },
        {
          "output_type": "stream",
          "name": "stderr",
          "text": [
            "100%|██████████| 100/100 [00:02<00:00, 42.03it/s]\n"
          ]
        },
        {
          "output_type": "stream",
          "name": "stdout",
          "text": [
            "128 0.5 0.3 0.7 3\n",
            "Accuracy on Test Set: 0.7955182072829131\n",
            "Cohen's Kappa Score on Test Set: 0.5889367340178867\n",
            "              precision    recall  f1-score   support\n",
            "\n",
            "           0       0.79      0.77      0.78       168\n",
            "           1       0.80      0.82      0.81       189\n",
            "\n",
            "    accuracy                           0.80       357\n",
            "   macro avg       0.80      0.79      0.79       357\n",
            "weighted avg       0.80      0.80      0.80       357\n",
            "\n",
            "Confusion Matrix for Test Set:\n",
            " [[129  39]\n",
            " [ 34 155]]\n"
          ]
        },
        {
          "output_type": "stream",
          "name": "stderr",
          "text": [
            "100%|██████████| 100/100 [00:01<00:00, 57.25it/s]\n"
          ]
        },
        {
          "output_type": "stream",
          "name": "stdout",
          "text": [
            "128 0.5 0.3 0.7 5\n",
            "Accuracy on Test Set: 0.773109243697479\n",
            "Cohen's Kappa Score on Test Set: 0.5432835820895523\n",
            "              precision    recall  f1-score   support\n",
            "\n",
            "           0       0.77      0.73      0.75       168\n",
            "           1       0.77      0.81      0.79       189\n",
            "\n",
            "    accuracy                           0.77       357\n",
            "   macro avg       0.77      0.77      0.77       357\n",
            "weighted avg       0.77      0.77      0.77       357\n",
            "\n",
            "Confusion Matrix for Test Set:\n",
            " [[123  45]\n",
            " [ 36 153]]\n"
          ]
        },
        {
          "output_type": "stream",
          "name": "stderr",
          "text": [
            "100%|██████████| 100/100 [00:01<00:00, 57.19it/s]\n"
          ]
        },
        {
          "output_type": "stream",
          "name": "stdout",
          "text": [
            "128 0.5 0.5 0.1 3\n",
            "Accuracy on Test Set: 0.7955182072829131\n",
            "Cohen's Kappa Score on Test Set: 0.5889367340178867\n",
            "              precision    recall  f1-score   support\n",
            "\n",
            "           0       0.79      0.77      0.78       168\n",
            "           1       0.80      0.82      0.81       189\n",
            "\n",
            "    accuracy                           0.80       357\n",
            "   macro avg       0.80      0.79      0.79       357\n",
            "weighted avg       0.80      0.80      0.80       357\n",
            "\n",
            "Confusion Matrix for Test Set:\n",
            " [[129  39]\n",
            " [ 34 155]]\n"
          ]
        },
        {
          "output_type": "stream",
          "name": "stderr",
          "text": [
            "100%|██████████| 100/100 [00:01<00:00, 56.57it/s]\n"
          ]
        },
        {
          "output_type": "stream",
          "name": "stdout",
          "text": [
            "128 0.5 0.5 0.1 5\n",
            "Accuracy on Test Set: 0.8151260504201681\n",
            "Cohen's Kappa Score on Test Set: 0.6267465069860279\n",
            "              precision    recall  f1-score   support\n",
            "\n",
            "           0       0.84      0.75      0.79       168\n",
            "           1       0.80      0.87      0.83       189\n",
            "\n",
            "    accuracy                           0.82       357\n",
            "   macro avg       0.82      0.81      0.81       357\n",
            "weighted avg       0.82      0.82      0.81       357\n",
            "\n",
            "Confusion Matrix for Test Set:\n",
            " [[126  42]\n",
            " [ 24 165]]\n"
          ]
        },
        {
          "output_type": "stream",
          "name": "stderr",
          "text": [
            " 63%|██████▎   | 63/100 [00:01<00:00, 51.87it/s]\n"
          ]
        },
        {
          "output_type": "stream",
          "name": "stdout",
          "text": [
            "\tEarly stopping\n",
            "128 0.5 0.5 0.3 3\n",
            "Accuracy on Test Set: 0.7675070028011205\n",
            "Cohen's Kappa Score on Test Set: 0.5313849219528396\n",
            "              precision    recall  f1-score   support\n",
            "\n",
            "           0       0.77      0.71      0.74       168\n",
            "           1       0.76      0.81      0.79       189\n",
            "\n",
            "    accuracy                           0.77       357\n",
            "   macro avg       0.77      0.76      0.77       357\n",
            "weighted avg       0.77      0.77      0.77       357\n",
            "\n",
            "Confusion Matrix for Test Set:\n",
            " [[120  48]\n",
            " [ 35 154]]\n"
          ]
        },
        {
          "output_type": "stream",
          "name": "stderr",
          "text": [
            "100%|██████████| 100/100 [00:02<00:00, 48.41it/s]\n"
          ]
        },
        {
          "output_type": "stream",
          "name": "stdout",
          "text": [
            "128 0.5 0.5 0.3 5\n",
            "Accuracy on Test Set: 0.7703081232492998\n",
            "Cohen's Kappa Score on Test Set: 0.5344021376085504\n",
            "              precision    recall  f1-score   support\n",
            "\n",
            "           0       0.81      0.67      0.73       168\n",
            "           1       0.74      0.86      0.80       189\n",
            "\n",
            "    accuracy                           0.77       357\n",
            "   macro avg       0.78      0.76      0.77       357\n",
            "weighted avg       0.78      0.77      0.77       357\n",
            "\n",
            "Confusion Matrix for Test Set:\n",
            " [[112  56]\n",
            " [ 26 163]]\n"
          ]
        },
        {
          "output_type": "stream",
          "name": "stderr",
          "text": [
            "100%|██████████| 100/100 [00:02<00:00, 44.54it/s]\n"
          ]
        },
        {
          "output_type": "stream",
          "name": "stdout",
          "text": [
            "128 0.5 0.5 0.5 3\n",
            "Accuracy on Test Set: 0.7619047619047619\n",
            "Cohen's Kappa Score on Test Set: 0.515588333892055\n",
            "              precision    recall  f1-score   support\n",
            "\n",
            "           0       0.83      0.62      0.71       168\n",
            "           1       0.73      0.88      0.80       189\n",
            "\n",
            "    accuracy                           0.76       357\n",
            "   macro avg       0.78      0.75      0.75       357\n",
            "weighted avg       0.77      0.76      0.76       357\n",
            "\n",
            "Confusion Matrix for Test Set:\n",
            " [[105  63]\n",
            " [ 22 167]]\n"
          ]
        },
        {
          "output_type": "stream",
          "name": "stderr",
          "text": [
            "100%|██████████| 100/100 [00:02<00:00, 40.92it/s]\n"
          ]
        },
        {
          "output_type": "stream",
          "name": "stdout",
          "text": [
            "128 0.5 0.5 0.5 5\n",
            "Accuracy on Test Set: 0.7759103641456583\n",
            "Cohen's Kappa Score on Test Set: 0.5469686875416389\n",
            "              precision    recall  f1-score   support\n",
            "\n",
            "           0       0.80      0.70      0.75       168\n",
            "           1       0.76      0.85      0.80       189\n",
            "\n",
            "    accuracy                           0.78       357\n",
            "   macro avg       0.78      0.77      0.77       357\n",
            "weighted avg       0.78      0.78      0.77       357\n",
            "\n",
            "Confusion Matrix for Test Set:\n",
            " [[117  51]\n",
            " [ 29 160]]\n"
          ]
        },
        {
          "output_type": "stream",
          "name": "stderr",
          "text": [
            "100%|██████████| 100/100 [00:01<00:00, 56.87it/s]\n"
          ]
        },
        {
          "output_type": "stream",
          "name": "stdout",
          "text": [
            "128 0.5 0.5 0.7 3\n",
            "Accuracy on Test Set: 0.7787114845938375\n",
            "Cohen's Kappa Score on Test Set: 0.5515859766277129\n",
            "              precision    recall  f1-score   support\n",
            "\n",
            "           0       0.82      0.68      0.74       168\n",
            "           1       0.75      0.87      0.81       189\n",
            "\n",
            "    accuracy                           0.78       357\n",
            "   macro avg       0.79      0.77      0.77       357\n",
            "weighted avg       0.78      0.78      0.78       357\n",
            "\n",
            "Confusion Matrix for Test Set:\n",
            " [[114  54]\n",
            " [ 25 164]]\n"
          ]
        },
        {
          "output_type": "stream",
          "name": "stderr",
          "text": [
            "100%|██████████| 100/100 [00:01<00:00, 57.12it/s]"
          ]
        },
        {
          "output_type": "stream",
          "name": "stdout",
          "text": [
            "128 0.5 0.5 0.7 5\n",
            "Accuracy on Test Set: 0.7535014005602241\n",
            "Cohen's Kappa Score on Test Set: 0.5019973368841545\n",
            "              precision    recall  f1-score   support\n",
            "\n",
            "           0       0.77      0.68      0.72       168\n",
            "           1       0.74      0.82      0.78       189\n",
            "\n",
            "    accuracy                           0.75       357\n",
            "   macro avg       0.76      0.75      0.75       357\n",
            "weighted avg       0.76      0.75      0.75       357\n",
            "\n",
            "Confusion Matrix for Test Set:\n",
            " [[114  54]\n",
            " [ 34 155]]\n"
          ]
        },
        {
          "output_type": "stream",
          "name": "stderr",
          "text": [
            "\n"
          ]
        }
      ]
    },
    {
      "cell_type": "code",
      "source": [
        "#training KAN model using best hyperparamter set from the previous trials\n",
        "kan_model = KANClassifier(device='cuda', hidden_layer_size=128, regularize_activation=.5,\n",
        "                      regularize_entropy=.5, regularize_ridge=.1, spline_order=5)\n",
        "\n",
        "#fitting the model on train set\n",
        "kan_model.fit(X_train, y_train, batch_size=64, lr=.07, weight_decay=.01)\n",
        "\n",
        "#predicting data points using 'kan_model'\n",
        "y_pred = kan_model.predict(X_test)\n",
        "#printing hyperparameter values\n",
        "print(hidden_layer_size, regularize_activation, regularize_entropy, regularize_ridge)\n",
        "#accuracy on test dataset\n",
        "accuracy_test = accuracy_score(y_test, y_pred)\n",
        "print(\"Accuracy on Test Set:\", accuracy_test)\n",
        "\n",
        "#Cohen's Kappa score for the test set\n",
        "kappa_test = cohen_kappa_score(y_test, y_pred)\n",
        "print(\"Cohen's Kappa Score on Test Set:\", kappa_test)\n",
        "\n",
        "#classification report for the test set\n",
        "#print(\"Classification Report for Test Set:\")\n",
        "print(classification_report(y_test, y_pred))\n",
        "\n",
        "#confusion matrix for the test set\n",
        "conf_matrix_test = confusion_matrix(y_test, y_pred)\n",
        "print(\"Confusion Matrix for Test Set:\\n\", conf_matrix_test)"
      ],
      "metadata": {
        "colab": {
          "base_uri": "https://localhost:8080/"
        },
        "id": "h0PjaLfs3VLB",
        "outputId": "3265e50c-4658-4062-a41e-ecaa5347c557"
      },
      "execution_count": 13,
      "outputs": [
        {
          "output_type": "stream",
          "name": "stderr",
          "text": [
            "/usr/local/lib/python3.10/dist-packages/ipykernel/ipkernel.py:283: DeprecationWarning: `should_run_async` will not call `transform_cell` automatically in the future. Please pass the result to `transformed_cell` argument and any exception that happen during thetransform in `preprocessing_exc_tuple` in IPython 7.17 and above.\n",
            "  and should_run_async(code)\n",
            "  4%|▍         | 4/100 [00:00<00:08, 11.44it/s]"
          ]
        },
        {
          "output_type": "stream",
          "name": "stdout",
          "text": [
            "\tEarly stopping\n",
            "128 0.5 0.5 0.7\n",
            "Accuracy on Test Set: 0.834733893557423\n",
            "Cohen's Kappa Score on Test Set: 0.6675505469008949\n",
            "              precision    recall  f1-score   support\n",
            "\n",
            "           0       0.84      0.80      0.82       168\n",
            "           1       0.83      0.86      0.85       189\n",
            "\n",
            "    accuracy                           0.83       357\n",
            "   macro avg       0.84      0.83      0.83       357\n",
            "weighted avg       0.83      0.83      0.83       357\n",
            "\n",
            "Confusion Matrix for Test Set:\n",
            " [[135  33]\n",
            " [ 26 163]]\n"
          ]
        },
        {
          "output_type": "stream",
          "name": "stderr",
          "text": [
            "\n"
          ]
        }
      ]
    },
    {
      "cell_type": "markdown",
      "source": [
        "###**Interpretation of the best model**\n",
        "\n",
        "1. The model achieved a good accuracy of 83.47% on the test set, higher than the model with default parameter settings.\n",
        "\n",
        "2. The best hyperparameter set is: hidden_layer_size=128, regularize_activation=.5, regularize_entropy=.5, regularize_ridge=.1, spline_order=5.\n",
        "\n",
        "2. The Cohen's Kappa score of 0.66 show moderate agreement between predicted and actual data points, indicating scope for improvement.\n",
        "\n",
        "3. Analysis of the confusion matrix (135 true positives, 163 true negatives, 33 false positives (FP), 26 false negatives(FN)).\n",
        "\n",
        "4. There is need of improvement in model performance as there are 33 FP and 26 FN."
      ],
      "metadata": {
        "id": "NsoohnP8xnU1"
      }
    },
    {
      "cell_type": "code",
      "source": [
        "#ploting ROC curve as well\n",
        "#predicting probabilities for the test set\n",
        "y_prob = kan_model.predict_proba(X_test)[:, 1]\n",
        "\n",
        "#creating the ROC curve\n",
        "fpr, tpr, thresholds = roc_curve(y_test, y_prob)\n",
        "roc_auc = auc(fpr, tpr)\n",
        "\n",
        "#ploting the ROC curve\n",
        "plt.figure()\n",
        "plt.plot(fpr, tpr, color='darkorange', lw=2, label=f'ROC curve (area = {roc_auc:.2f})')\n",
        "plt.plot([0, 1], [0, 1], color='navy', lw=2, linestyle='--')\n",
        "plt.xlim([0.0, 1.0])\n",
        "plt.ylim([0.0, 1.05])\n",
        "plt.xlabel('False Positive Rate')\n",
        "plt.ylabel('True Positive Rate')\n",
        "plt.title('Receiver Operating Characteristic (ROC) Curve')\n",
        "plt.legend(loc=\"lower right\")\n"
      ],
      "metadata": {
        "colab": {
          "base_uri": "https://localhost:8080/",
          "height": 546
        },
        "id": "ZgeH8KrY3VIj",
        "outputId": "25847c31-43bb-4243-ff5b-eafa473a73de"
      },
      "execution_count": 14,
      "outputs": [
        {
          "output_type": "stream",
          "name": "stderr",
          "text": [
            "/usr/local/lib/python3.10/dist-packages/ipykernel/ipkernel.py:283: DeprecationWarning: `should_run_async` will not call `transform_cell` automatically in the future. Please pass the result to `transformed_cell` argument and any exception that happen during thetransform in `preprocessing_exc_tuple` in IPython 7.17 and above.\n",
            "  and should_run_async(code)\n"
          ]
        },
        {
          "output_type": "execute_result",
          "data": {
            "text/plain": [
              "<matplotlib.legend.Legend at 0x7967a254e110>"
            ]
          },
          "metadata": {},
          "execution_count": 14
        },
        {
          "output_type": "display_data",
          "data": {
            "text/plain": [
              "<Figure size 640x480 with 1 Axes>"
            ],
            "image/png": "[encoded data removed]"
          },
          "metadata": {}
        }
      ]
    },
    {
      "cell_type": "code",
      "source": [],
      "metadata": {
        "id": "xdsjbRlz3VBW"
      },
      "execution_count": null,
      "outputs": []
    }
  ],
  "metadata": {
    "accelerator": "GPU",
    "colab": {
      "gpuType": "T4",
      "provenance": []
    },
    "kernelspec": {
      "display_name": "Python 3",
      "name": "python3"
    },
    "language_info": {
      "name": "python"
    }
  },
  "nbformat": 4,
  "nbformat_minor": 0
}